{
  "nbformat": 4,
  "nbformat_minor": 0,
  "metadata": {
    "kernelspec": {
      "name": "python3",
      "display_name": "Python 3"
    },
    "language_info": {
      "codemirror_mode": {
        "name": "ipython",
        "version": 3
      },
      "file_extension": ".py",
      "mimetype": "text/x-python",
      "name": "python",
      "nbconvert_exporter": "python",
      "pygments_lexer": "ipython3",
      "version": "3.7.7"
    },
    "colab": {
      "name": "textsent_project.ipynb",
      "provenance": [],
      "collapsed_sections": [],
      "toc_visible": true,
      "machine_shape": "hm"
    },
    "accelerator": "GPU"
  },
  "cells": [
    {
      "cell_type": "markdown",
      "metadata": {
        "id": "I0_FFwrSjqx1",
        "colab_type": "text"
      },
      "source": [
        "# Whatsout\n",
        "\n",
        "\n",
        "---\n",
        "\n",
        "\n",
        "Text mining and sentiment analysis project"
      ]
    },
    {
      "cell_type": "markdown",
      "metadata": {
        "id": "7KxvLD9cqYSH",
        "colab_type": "text"
      },
      "source": [
        "## Imports and setup"
      ]
    },
    {
      "cell_type": "code",
      "metadata": {
        "id": "lD2R6v7wjFQv",
        "colab_type": "code",
        "outputId": "7c4097bb-6fa2-4467-e3e9-1f331ea9b699",
        "colab": {
          "base_uri": "https://localhost:8080/",
          "height": 603
        }
      },
      "source": [
        "!pip install polyglot pyicu pycld2 scikit-multilearn imbalanced-learn iterative-stratification"
      ],
      "execution_count": 0,
      "outputs": [
        {
          "output_type": "stream",
          "text": [
            "Collecting polyglot\n",
            "\u001b[?25l  Downloading https://files.pythonhosted.org/packages/e7/98/e24e2489114c5112b083714277204d92d372f5bbe00d5507acf40370edb9/polyglot-16.7.4.tar.gz (126kB)\n",
            "\u001b[K     |████████████████████████████████| 133kB 2.8MB/s \n",
            "\u001b[?25hCollecting pyicu\n",
            "\u001b[?25l  Downloading https://files.pythonhosted.org/packages/57/b2/66a58057a537527d7307576f2d32f239cc411b911401276d6922caa94755/PyICU-2.4.3.tar.gz (219kB)\n",
            "\u001b[K     |████████████████████████████████| 225kB 37.5MB/s \n",
            "\u001b[?25hCollecting pycld2\n",
            "\u001b[?25l  Downloading https://files.pythonhosted.org/packages/21/d2/8b0def84a53c88d0eb27c67b05269fbd16ad68df8c78849e7b5d65e6aec3/pycld2-0.41.tar.gz (41.4MB)\n",
            "\u001b[K     |████████████████████████████████| 41.4MB 82kB/s \n",
            "\u001b[?25hCollecting scikit-multilearn\n",
            "\u001b[?25l  Downloading https://files.pythonhosted.org/packages/bb/1f/e6ff649c72a1cdf2c7a1d31eb21705110ce1c5d3e7e26b2cc300e1637272/scikit_multilearn-0.2.0-py3-none-any.whl (89kB)\n",
            "\u001b[K     |████████████████████████████████| 92kB 8.7MB/s \n",
            "\u001b[?25hRequirement already satisfied: imbalanced-learn in /usr/local/lib/python3.6/dist-packages (0.4.3)\n",
            "Collecting iterative-stratification\n",
            "  Downloading https://files.pythonhosted.org/packages/9d/79/9ba64c8c07b07b8b45d80725b2ebd7b7884701c1da34f70d4749f7b45f9a/iterative_stratification-0.1.6-py3-none-any.whl\n",
            "Requirement already satisfied: scipy>=0.13.3 in /usr/local/lib/python3.6/dist-packages (from imbalanced-learn) (1.4.1)\n",
            "Requirement already satisfied: scikit-learn>=0.20 in /usr/local/lib/python3.6/dist-packages (from imbalanced-learn) (0.22.2.post1)\n",
            "Requirement already satisfied: numpy>=1.8.2 in /usr/local/lib/python3.6/dist-packages (from imbalanced-learn) (1.18.2)\n",
            "Requirement already satisfied: joblib>=0.11 in /usr/local/lib/python3.6/dist-packages (from scikit-learn>=0.20->imbalanced-learn) (0.14.1)\n",
            "Building wheels for collected packages: polyglot, pyicu, pycld2\n",
            "  Building wheel for polyglot (setup.py) ... \u001b[?25l\u001b[?25hdone\n",
            "  Created wheel for polyglot: filename=polyglot-16.7.4-py2.py3-none-any.whl size=52557 sha256=8f93f83c74536b087d9962fa9d215e93c72cdd07b62d23b4d6be9cf297095a25\n",
            "  Stored in directory: /root/.cache/pip/wheels/5e/91/ef/f1369fdc1203b0a9347d4b24f149b83a305f39ab047986d9da\n",
            "  Building wheel for pyicu (setup.py) ... \u001b[?25l\u001b[?25hdone\n",
            "  Created wheel for pyicu: filename=PyICU-2.4.3-cp36-cp36m-linux_x86_64.whl size=1247034 sha256=710976c2c3d7688bce8104a3fa1fc088288f2c9ae6b96b49d15fbf5338a2b98b\n",
            "  Stored in directory: /root/.cache/pip/wheels/ca/14/f9/1d75d2d4be2e0169d986ccde156e25d9c772c91602dff3acc9\n",
            "  Building wheel for pycld2 (setup.py) ... \u001b[?25l\u001b[?25hdone\n",
            "  Created wheel for pycld2: filename=pycld2-0.41-cp36-cp36m-linux_x86_64.whl size=9833473 sha256=bef4a849fa286cd1bc34fa78fb392165e5687aec56e04cdbf0cc83d53b71abd6\n",
            "  Stored in directory: /root/.cache/pip/wheels/c6/8f/e9/08a1a8932a490175bd140206cd86a3dbcfc70498100de11079\n",
            "Successfully built polyglot pyicu pycld2\n",
            "Installing collected packages: polyglot, pyicu, pycld2, scikit-multilearn, iterative-stratification\n",
            "Successfully installed iterative-stratification-0.1.6 polyglot-16.7.4 pycld2-0.41 pyicu-2.4.3 scikit-multilearn-0.2.0\n"
          ],
          "name": "stdout"
        }
      ]
    },
    {
      "cell_type": "code",
      "metadata": {
        "id": "aJc5YSkCirln",
        "colab_type": "code",
        "outputId": "0e6ec36a-2586-4b27-9458-f34675017fad",
        "colab": {
          "base_uri": "https://localhost:8080/",
          "height": 231
        }
      },
      "source": [
        "import numpy as np\n",
        "import pandas as pd\n",
        "import seaborn as sns\n",
        "import matplotlib\n",
        "import matplotlib.pyplot as plt\n",
        "\n",
        "import sys\n",
        "import pickle\n",
        "import string\n",
        "import scipy\n",
        "import nltk\n",
        "from nltk.corpus import stopwords\n",
        "\n",
        "from bs4 import BeautifulSoup\n",
        "\n",
        "from tqdm import tqdm\n",
        "\n",
        "from polyglot.detect import Detector\n",
        "\n",
        "from sklearn.preprocessing import MultiLabelBinarizer\n",
        "from sklearn.feature_extraction.text import CountVectorizer, TfidfVectorizer\n",
        "from sklearn.base import BaseEstimator\n",
        "from sklearn.metrics import accuracy_score, precision_score, recall_score, f1_score, classification_report, confusion_matrix, ConfusionMatrixDisplay, multilabel_confusion_matrix\n",
        "from sklearn.neighbors import KNeighborsClassifier\n",
        "from sklearn.ensemble import RandomForestClassifier\n",
        "from sklearn.model_selection import GridSearchCV, cross_val_score\n",
        "from sklearn.linear_model import SGDClassifier\n",
        "\n",
        "from skmultilearn.problem_transform import ClassifierChain, LabelPowerset\n",
        "\n",
        "from imblearn.over_sampling import RandomOverSampler\n",
        "\n",
        "from skmultilearn.model_selection import iterative_train_test_split\n",
        "\n",
        "import tensorflow as tf\n",
        "import tensorflow.keras.backend as K\n",
        "import tensorflow.keras.utils\n",
        "import tensorflow.keras.callbacks\n",
        "from tensorflow.python.client import device_lib\n",
        "from tensorflow.keras.models import Sequential\n",
        "from tensorflow.keras.layers import Dense, Dropout, Embedding, Flatten, Conv1D, GlobalMaxPooling1D\n",
        "from tensorflow.keras.callbacks import EarlyStopping\n",
        "\n",
        "from iterstrat.ml_stratifiers import MultilabelStratifiedKFold\n",
        "\n",
        "tqdm.pandas()\n",
        "nltk.download('punkt')\n",
        "nltk.download('stopwords')"
      ],
      "execution_count": 0,
      "outputs": [
        {
          "output_type": "stream",
          "text": [
            "/usr/local/lib/python3.6/dist-packages/statsmodels/tools/_testing.py:19: FutureWarning: pandas.util.testing is deprecated. Use the functions in the public API at pandas.testing instead.\n",
            "  import pandas.util.testing as tm\n",
            "/usr/local/lib/python3.6/dist-packages/sklearn/externals/six.py:31: FutureWarning: The module is deprecated in version 0.21 and will be removed in version 0.23 since we've dropped support for Python 2.7. Please rely on the official version of six (https://pypi.org/project/six/).\n",
            "  \"(https://pypi.org/project/six/).\", FutureWarning)\n",
            "/usr/local/lib/python3.6/dist-packages/sklearn/utils/deprecation.py:144: FutureWarning: The sklearn.neighbors.base module is  deprecated in version 0.22 and will be removed in version 0.24. The corresponding classes / functions should instead be imported from sklearn.neighbors. Anything that cannot be imported from sklearn.neighbors is now part of the private API.\n",
            "  warnings.warn(message, FutureWarning)\n"
          ],
          "name": "stderr"
        },
        {
          "output_type": "stream",
          "text": [
            "[nltk_data] Downloading package punkt to /root/nltk_data...\n",
            "[nltk_data]   Unzipping tokenizers/punkt.zip.\n",
            "[nltk_data] Downloading package stopwords to /root/nltk_data...\n",
            "[nltk_data]   Unzipping corpora/stopwords.zip.\n"
          ],
          "name": "stdout"
        },
        {
          "output_type": "execute_result",
          "data": {
            "text/plain": [
              "True"
            ]
          },
          "metadata": {
            "tags": []
          },
          "execution_count": 3
        }
      ]
    },
    {
      "cell_type": "code",
      "metadata": {
        "id": "Ij6GFZ9cg_P-",
        "colab_type": "code",
        "outputId": "49285b2d-e430-4e46-9121-adbd52c55bc7",
        "colab": {
          "base_uri": "https://localhost:8080/",
          "height": 125
        }
      },
      "source": [
        "from google.colab import drive\n",
        "drive.mount('/content/drive')"
      ],
      "execution_count": 0,
      "outputs": [
        {
          "output_type": "stream",
          "text": [
            "Go to this URL in a browser: https://accounts.google.com/o/oauth2/auth?client_id=947318989803-6bn6qk8qdgf4n4g3pfee6491hc0brc4i.apps.googleusercontent.com&redirect_uri=urn%3aietf%3awg%3aoauth%3a2.0%3aoob&response_type=code&scope=email%20https%3a%2f%2fwww.googleapis.com%2fauth%2fdocs.test%20https%3a%2f%2fwww.googleapis.com%2fauth%2fdrive%20https%3a%2f%2fwww.googleapis.com%2fauth%2fdrive.photos.readonly%20https%3a%2f%2fwww.googleapis.com%2fauth%2fpeopleapi.readonly\n",
            "\n",
            "Enter your authorization code:\n",
            "··········\n",
            "Mounted at /content/drive\n"
          ],
          "name": "stdout"
        }
      ]
    },
    {
      "cell_type": "code",
      "metadata": {
        "id": "hGyTo0Kcirlv",
        "colab_type": "code",
        "colab": {}
      },
      "source": [
        "df = pd.read_csv(\"/content/drive/My Drive/Colab Notebooks/whatsout/whatsout.csv\", encoding=\"utf-8\")"
      ],
      "execution_count": 0,
      "outputs": []
    },
    {
      "cell_type": "code",
      "metadata": {
        "id": "THf3O9NKirlz",
        "colab_type": "code",
        "colab": {}
      },
      "source": [
        "#import dtale\n",
        "#dtale.show(df)"
      ],
      "execution_count": 0,
      "outputs": []
    },
    {
      "cell_type": "code",
      "metadata": {
        "id": "aIMWFB3Iirl3",
        "colab_type": "code",
        "outputId": "8825270a-84a6-49bd-d0f2-b235aadb6182",
        "colab": {
          "base_uri": "https://localhost:8080/",
          "height": 353
        }
      },
      "source": [
        "df.info()"
      ],
      "execution_count": 0,
      "outputs": [
        {
          "output_type": "stream",
          "text": [
            "<class 'pandas.core.frame.DataFrame'>\n",
            "RangeIndex: 10760 entries, 0 to 10759\n",
            "Data columns (total 12 columns):\n",
            " #   Column       Non-Null Count  Dtype  \n",
            "---  ------       --------------  -----  \n",
            " 0   ID           10760 non-null  int64  \n",
            " 1   description  10760 non-null  object \n",
            " 2   title        10760 non-null  object \n",
            " 3   term_id      10760 non-null  int64  \n",
            " 4   term_name    10760 non-null  object \n",
            " 5   place_id     10760 non-null  int64  \n",
            " 6   place_name   10760 non-null  object \n",
            " 7   start        10760 non-null  object \n",
            " 8   end          10760 non-null  object \n",
            " 9   lat          10760 non-null  float64\n",
            " 10  lng          10760 non-null  float64\n",
            " 11  user         10760 non-null  int64  \n",
            "dtypes: float64(2), int64(4), object(6)\n",
            "memory usage: 1008.9+ KB\n"
          ],
          "name": "stdout"
        }
      ]
    },
    {
      "cell_type": "code",
      "metadata": {
        "id": "19hsJ4LZirl7",
        "colab_type": "code",
        "outputId": "1e80743d-df25-410d-aa20-9f704e5692cc",
        "colab": {
          "base_uri": "https://localhost:8080/",
          "height": 405
        }
      },
      "source": [
        "df.head()"
      ],
      "execution_count": 0,
      "outputs": [
        {
          "output_type": "execute_result",
          "data": {
            "text/html": [
              "<div>\n",
              "<style scoped>\n",
              "    .dataframe tbody tr th:only-of-type {\n",
              "        vertical-align: middle;\n",
              "    }\n",
              "\n",
              "    .dataframe tbody tr th {\n",
              "        vertical-align: top;\n",
              "    }\n",
              "\n",
              "    .dataframe thead th {\n",
              "        text-align: right;\n",
              "    }\n",
              "</style>\n",
              "<table border=\"1\" class=\"dataframe\">\n",
              "  <thead>\n",
              "    <tr style=\"text-align: right;\">\n",
              "      <th></th>\n",
              "      <th>ID</th>\n",
              "      <th>description</th>\n",
              "      <th>title</th>\n",
              "      <th>term_id</th>\n",
              "      <th>term_name</th>\n",
              "      <th>place_id</th>\n",
              "      <th>place_name</th>\n",
              "      <th>start</th>\n",
              "      <th>end</th>\n",
              "      <th>lat</th>\n",
              "      <th>lng</th>\n",
              "      <th>user</th>\n",
              "    </tr>\n",
              "  </thead>\n",
              "  <tbody>\n",
              "    <tr>\n",
              "      <th>0</th>\n",
              "      <td>1124</td>\n",
              "      <td>INGRESSO GRATUITO SU INVITO. RICHIEDILO SCRIVE...</td>\n",
              "      <td>5 Ott Arianna Antinori \"Hostaria Cohen\" Releas...</td>\n",
              "      <td>1</td>\n",
              "      <td>Uncategorized</td>\n",
              "      <td>91136</td>\n",
              "      <td>Alcatraz</td>\n",
              "      <td>2017-10-05 21:00:00</td>\n",
              "      <td>2017-10-06 02:00:00</td>\n",
              "      <td>45.494689</td>\n",
              "      <td>9.182658</td>\n",
              "      <td>1</td>\n",
              "    </tr>\n",
              "    <tr>\n",
              "      <th>1</th>\n",
              "      <td>1367</td>\n",
              "      <td>ANATHEMA: nuovo album e data italiana\\r\\n \\r\\n...</td>\n",
              "      <td>Anathema + Alcest | Milano</td>\n",
              "      <td>1</td>\n",
              "      <td>Uncategorized</td>\n",
              "      <td>91136</td>\n",
              "      <td>Alcatraz</td>\n",
              "      <td>2017-10-16 20:00:00</td>\n",
              "      <td>2017-10-16 23:30:00</td>\n",
              "      <td>45.494689</td>\n",
              "      <td>9.182658</td>\n",
              "      <td>1</td>\n",
              "    </tr>\n",
              "    <tr>\n",
              "      <th>2</th>\n",
              "      <td>1374</td>\n",
              "      <td>FABRI FIBRA - FENOMENO TOUR\\r\\n \\r\\n 23 ottobr...</td>\n",
              "      <td>Fabri Fibra - 23 Ottobre Milano, Alcatraz</td>\n",
              "      <td>1</td>\n",
              "      <td>Uncategorized</td>\n",
              "      <td>91136</td>\n",
              "      <td>Alcatraz</td>\n",
              "      <td>2017-10-23 21:00:00</td>\n",
              "      <td>2017-10-23 23:55:00</td>\n",
              "      <td>45.494689</td>\n",
              "      <td>9.182658</td>\n",
              "      <td>1</td>\n",
              "    </tr>\n",
              "    <tr>\n",
              "      <th>3</th>\n",
              "      <td>1377</td>\n",
              "      <td>Giovedì 26 ottobre \\r\\n Via Audio &amp;amp; BPM Co...</td>\n",
              "      <td>Omar Pedrini in concerto - Alcatraz Milano</td>\n",
              "      <td>1</td>\n",
              "      <td>Uncategorized</td>\n",
              "      <td>91136</td>\n",
              "      <td>Alcatraz</td>\n",
              "      <td>2017-10-26 21:00:00</td>\n",
              "      <td>2017-10-26 23:30:00</td>\n",
              "      <td>45.494689</td>\n",
              "      <td>9.182658</td>\n",
              "      <td>1</td>\n",
              "    </tr>\n",
              "    <tr>\n",
              "      <th>4</th>\n",
              "      <td>1379</td>\n",
              "      <td>SABATO 28 OTTOBRE SUD SOUND SYSTEM Live @ Alca...</td>\n",
              "      <td>SUD SOUND System - Eternal Vibes Tour | 28.10....</td>\n",
              "      <td>1</td>\n",
              "      <td>Uncategorized</td>\n",
              "      <td>91136</td>\n",
              "      <td>Alcatraz</td>\n",
              "      <td>2017-10-28 23:00:00</td>\n",
              "      <td>2017-10-29 04:00:00</td>\n",
              "      <td>45.494689</td>\n",
              "      <td>9.182658</td>\n",
              "      <td>1</td>\n",
              "    </tr>\n",
              "  </tbody>\n",
              "</table>\n",
              "</div>"
            ],
            "text/plain": [
              "     ID                                        description  ...       lng  user\n",
              "0  1124  INGRESSO GRATUITO SU INVITO. RICHIEDILO SCRIVE...  ...  9.182658     1\n",
              "1  1367  ANATHEMA: nuovo album e data italiana\\r\\n \\r\\n...  ...  9.182658     1\n",
              "2  1374  FABRI FIBRA - FENOMENO TOUR\\r\\n \\r\\n 23 ottobr...  ...  9.182658     1\n",
              "3  1377  Giovedì 26 ottobre \\r\\n Via Audio &amp; BPM Co...  ...  9.182658     1\n",
              "4  1379  SABATO 28 OTTOBRE SUD SOUND SYSTEM Live @ Alca...  ...  9.182658     1\n",
              "\n",
              "[5 rows x 12 columns]"
            ]
          },
          "metadata": {
            "tags": []
          },
          "execution_count": 8
        }
      ]
    },
    {
      "cell_type": "code",
      "metadata": {
        "id": "hJU-KarHirl_",
        "colab_type": "code",
        "outputId": "3081fa0e-41e6-4e34-a59f-a7285f0b3551",
        "colab": {
          "base_uri": "https://localhost:8080/",
          "height": 88
        }
      },
      "source": [
        "df[\"term_name\"].unique()"
      ],
      "execution_count": 0,
      "outputs": [
        {
          "output_type": "execute_result",
          "data": {
            "text/plain": [
              "array(['Uncategorized', 'Discoteche &amp; Party', 'Cena con Delitto',\n",
              "       'Latino Americano', 'Magic The Gathering', 'Aperitivo',\n",
              "       'Fotografia', 'Capodanno', 'San Valentino', 'Carnevale', 'Teatro',\n",
              "       'Arte', 'Make Up', 'Ferragosto', 'Halloween'], dtype=object)"
            ]
          },
          "metadata": {
            "tags": []
          },
          "execution_count": 9
        }
      ]
    },
    {
      "cell_type": "markdown",
      "metadata": {
        "id": "aDhZimesprB6",
        "colab_type": "text"
      },
      "source": [
        "## Data pre-processing"
      ]
    },
    {
      "cell_type": "code",
      "metadata": {
        "id": "HN_0UkiHirmD",
        "colab_type": "code",
        "colab": {}
      },
      "source": [
        "df[\"term_name\"] = df[\"term_name\"].str.replace(\"&amp;\", \"&\")"
      ],
      "execution_count": 0,
      "outputs": []
    },
    {
      "cell_type": "code",
      "metadata": {
        "id": "B8qsrh38irmK",
        "colab_type": "code",
        "colab": {}
      },
      "source": [
        "df.dropna(inplace=True)\n",
        "df.dropna(subset=['term_name'], inplace=True)\n",
        "\n",
        "# We only select those columns because there are events that are \"duplicated\" but with different dates.\n",
        "# Thus, an event is considered duplicated only if the values of those columns are exactly the same.\n",
        "df.drop_duplicates(subset=['title', 'ID', 'description', 'term_name'], inplace=True)"
      ],
      "execution_count": 0,
      "outputs": []
    },
    {
      "cell_type": "markdown",
      "metadata": {
        "id": "iRvoTk7Jqf8A",
        "colab_type": "text"
      },
      "source": [
        "### Language detection"
      ]
    },
    {
      "cell_type": "code",
      "metadata": {
        "id": "xYSTM7MXirmN",
        "colab_type": "code",
        "outputId": "e73be5a9-15d9-4b56-c535-b3557a7e1b57",
        "colab": {
          "base_uri": "https://localhost:8080/",
          "height": 1000
        }
      },
      "source": [
        "# A warning will appear here: it is caused by the short length of the text. \n",
        "# However, the confidence reported is quite high and very few mistakes were made.\n",
        "df.description = df.description.astype(str)\n",
        "langs = df.description.apply(lambda x: Detector(x, quiet = True))"
      ],
      "execution_count": 0,
      "outputs": [
        {
          "output_type": "stream",
          "text": [
            "Detector is not able to detect the language reliably.\n",
            "Detector is not able to detect the language reliably.\n",
            "Detector is not able to detect the language reliably.\n",
            "Detector is not able to detect the language reliably.\n",
            "Detector is not able to detect the language reliably.\n",
            "Detector is not able to detect the language reliably.\n",
            "Detector is not able to detect the language reliably.\n",
            "Detector is not able to detect the language reliably.\n",
            "Detector is not able to detect the language reliably.\n",
            "Detector is not able to detect the language reliably.\n",
            "Detector is not able to detect the language reliably.\n",
            "Detector is not able to detect the language reliably.\n",
            "Detector is not able to detect the language reliably.\n",
            "Detector is not able to detect the language reliably.\n",
            "Detector is not able to detect the language reliably.\n",
            "Detector is not able to detect the language reliably.\n",
            "Detector is not able to detect the language reliably.\n",
            "Detector is not able to detect the language reliably.\n",
            "Detector is not able to detect the language reliably.\n",
            "Detector is not able to detect the language reliably.\n",
            "Detector is not able to detect the language reliably.\n",
            "Detector is not able to detect the language reliably.\n",
            "Detector is not able to detect the language reliably.\n",
            "Detector is not able to detect the language reliably.\n",
            "Detector is not able to detect the language reliably.\n",
            "Detector is not able to detect the language reliably.\n",
            "Detector is not able to detect the language reliably.\n",
            "Detector is not able to detect the language reliably.\n",
            "Detector is not able to detect the language reliably.\n",
            "Detector is not able to detect the language reliably.\n",
            "Detector is not able to detect the language reliably.\n",
            "Detector is not able to detect the language reliably.\n",
            "Detector is not able to detect the language reliably.\n",
            "Detector is not able to detect the language reliably.\n",
            "Detector is not able to detect the language reliably.\n",
            "Detector is not able to detect the language reliably.\n",
            "Detector is not able to detect the language reliably.\n",
            "Detector is not able to detect the language reliably.\n",
            "Detector is not able to detect the language reliably.\n",
            "Detector is not able to detect the language reliably.\n",
            "Detector is not able to detect the language reliably.\n",
            "Detector is not able to detect the language reliably.\n",
            "Detector is not able to detect the language reliably.\n",
            "Detector is not able to detect the language reliably.\n",
            "Detector is not able to detect the language reliably.\n",
            "Detector is not able to detect the language reliably.\n",
            "Detector is not able to detect the language reliably.\n",
            "Detector is not able to detect the language reliably.\n",
            "Detector is not able to detect the language reliably.\n",
            "Detector is not able to detect the language reliably.\n",
            "Detector is not able to detect the language reliably.\n",
            "Detector is not able to detect the language reliably.\n",
            "Detector is not able to detect the language reliably.\n",
            "Detector is not able to detect the language reliably.\n",
            "Detector is not able to detect the language reliably.\n",
            "Detector is not able to detect the language reliably.\n",
            "Detector is not able to detect the language reliably.\n",
            "Detector is not able to detect the language reliably.\n",
            "Detector is not able to detect the language reliably.\n",
            "Detector is not able to detect the language reliably.\n",
            "Detector is not able to detect the language reliably.\n",
            "Detector is not able to detect the language reliably.\n",
            "Detector is not able to detect the language reliably.\n",
            "Detector is not able to detect the language reliably.\n",
            "Detector is not able to detect the language reliably.\n",
            "Detector is not able to detect the language reliably.\n",
            "Detector is not able to detect the language reliably.\n",
            "Detector is not able to detect the language reliably.\n",
            "Detector is not able to detect the language reliably.\n",
            "Detector is not able to detect the language reliably.\n",
            "Detector is not able to detect the language reliably.\n",
            "Detector is not able to detect the language reliably.\n",
            "Detector is not able to detect the language reliably.\n",
            "Detector is not able to detect the language reliably.\n",
            "Detector is not able to detect the language reliably.\n",
            "Detector is not able to detect the language reliably.\n",
            "Detector is not able to detect the language reliably.\n",
            "Detector is not able to detect the language reliably.\n",
            "Detector is not able to detect the language reliably.\n",
            "Detector is not able to detect the language reliably.\n",
            "Detector is not able to detect the language reliably.\n",
            "Detector is not able to detect the language reliably.\n",
            "Detector is not able to detect the language reliably.\n",
            "Detector is not able to detect the language reliably.\n",
            "Detector is not able to detect the language reliably.\n",
            "Detector is not able to detect the language reliably.\n",
            "Detector is not able to detect the language reliably.\n",
            "Detector is not able to detect the language reliably.\n",
            "Detector is not able to detect the language reliably.\n",
            "Detector is not able to detect the language reliably.\n",
            "Detector is not able to detect the language reliably.\n",
            "Detector is not able to detect the language reliably.\n",
            "Detector is not able to detect the language reliably.\n",
            "Detector is not able to detect the language reliably.\n",
            "Detector is not able to detect the language reliably.\n",
            "Detector is not able to detect the language reliably.\n",
            "Detector is not able to detect the language reliably.\n",
            "Detector is not able to detect the language reliably.\n",
            "Detector is not able to detect the language reliably.\n",
            "Detector is not able to detect the language reliably.\n",
            "Detector is not able to detect the language reliably.\n",
            "Detector is not able to detect the language reliably.\n",
            "Detector is not able to detect the language reliably.\n",
            "Detector is not able to detect the language reliably.\n",
            "Detector is not able to detect the language reliably.\n",
            "Detector is not able to detect the language reliably.\n",
            "Detector is not able to detect the language reliably.\n",
            "Detector is not able to detect the language reliably.\n",
            "Detector is not able to detect the language reliably.\n",
            "Detector is not able to detect the language reliably.\n",
            "Detector is not able to detect the language reliably.\n",
            "Detector is not able to detect the language reliably.\n",
            "Detector is not able to detect the language reliably.\n",
            "Detector is not able to detect the language reliably.\n",
            "Detector is not able to detect the language reliably.\n",
            "Detector is not able to detect the language reliably.\n",
            "Detector is not able to detect the language reliably.\n",
            "Detector is not able to detect the language reliably.\n",
            "Detector is not able to detect the language reliably.\n",
            "Detector is not able to detect the language reliably.\n",
            "Detector is not able to detect the language reliably.\n",
            "Detector is not able to detect the language reliably.\n",
            "Detector is not able to detect the language reliably.\n",
            "Detector is not able to detect the language reliably.\n",
            "Detector is not able to detect the language reliably.\n",
            "Detector is not able to detect the language reliably.\n",
            "Detector is not able to detect the language reliably.\n",
            "Detector is not able to detect the language reliably.\n",
            "Detector is not able to detect the language reliably.\n",
            "Detector is not able to detect the language reliably.\n",
            "Detector is not able to detect the language reliably.\n",
            "Detector is not able to detect the language reliably.\n",
            "Detector is not able to detect the language reliably.\n",
            "Detector is not able to detect the language reliably.\n",
            "Detector is not able to detect the language reliably.\n",
            "Detector is not able to detect the language reliably.\n",
            "Detector is not able to detect the language reliably.\n",
            "Detector is not able to detect the language reliably.\n",
            "Detector is not able to detect the language reliably.\n",
            "Detector is not able to detect the language reliably.\n",
            "Detector is not able to detect the language reliably.\n",
            "Detector is not able to detect the language reliably.\n",
            "Detector is not able to detect the language reliably.\n",
            "Detector is not able to detect the language reliably.\n",
            "Detector is not able to detect the language reliably.\n",
            "Detector is not able to detect the language reliably.\n",
            "Detector is not able to detect the language reliably.\n",
            "Detector is not able to detect the language reliably.\n",
            "Detector is not able to detect the language reliably.\n",
            "Detector is not able to detect the language reliably.\n",
            "Detector is not able to detect the language reliably.\n",
            "Detector is not able to detect the language reliably.\n",
            "Detector is not able to detect the language reliably.\n",
            "Detector is not able to detect the language reliably.\n",
            "Detector is not able to detect the language reliably.\n",
            "Detector is not able to detect the language reliably.\n",
            "Detector is not able to detect the language reliably.\n",
            "Detector is not able to detect the language reliably.\n",
            "Detector is not able to detect the language reliably.\n",
            "Detector is not able to detect the language reliably.\n",
            "Detector is not able to detect the language reliably.\n",
            "Detector is not able to detect the language reliably.\n",
            "Detector is not able to detect the language reliably.\n",
            "Detector is not able to detect the language reliably.\n",
            "Detector is not able to detect the language reliably.\n",
            "Detector is not able to detect the language reliably.\n",
            "Detector is not able to detect the language reliably.\n",
            "Detector is not able to detect the language reliably.\n",
            "Detector is not able to detect the language reliably.\n",
            "Detector is not able to detect the language reliably.\n",
            "Detector is not able to detect the language reliably.\n",
            "Detector is not able to detect the language reliably.\n",
            "Detector is not able to detect the language reliably.\n",
            "Detector is not able to detect the language reliably.\n",
            "Detector is not able to detect the language reliably.\n",
            "Detector is not able to detect the language reliably.\n",
            "Detector is not able to detect the language reliably.\n",
            "Detector is not able to detect the language reliably.\n",
            "Detector is not able to detect the language reliably.\n",
            "Detector is not able to detect the language reliably.\n",
            "Detector is not able to detect the language reliably.\n",
            "Detector is not able to detect the language reliably.\n",
            "Detector is not able to detect the language reliably.\n",
            "Detector is not able to detect the language reliably.\n",
            "Detector is not able to detect the language reliably.\n",
            "Detector is not able to detect the language reliably.\n",
            "Detector is not able to detect the language reliably.\n",
            "Detector is not able to detect the language reliably.\n",
            "Detector is not able to detect the language reliably.\n",
            "Detector is not able to detect the language reliably.\n",
            "Detector is not able to detect the language reliably.\n",
            "Detector is not able to detect the language reliably.\n",
            "Detector is not able to detect the language reliably.\n",
            "Detector is not able to detect the language reliably.\n",
            "Detector is not able to detect the language reliably.\n",
            "Detector is not able to detect the language reliably.\n",
            "Detector is not able to detect the language reliably.\n",
            "Detector is not able to detect the language reliably.\n",
            "Detector is not able to detect the language reliably.\n",
            "Detector is not able to detect the language reliably.\n",
            "Detector is not able to detect the language reliably.\n",
            "Detector is not able to detect the language reliably.\n",
            "Detector is not able to detect the language reliably.\n",
            "Detector is not able to detect the language reliably.\n",
            "Detector is not able to detect the language reliably.\n",
            "Detector is not able to detect the language reliably.\n",
            "Detector is not able to detect the language reliably.\n",
            "Detector is not able to detect the language reliably.\n",
            "Detector is not able to detect the language reliably.\n",
            "Detector is not able to detect the language reliably.\n",
            "Detector is not able to detect the language reliably.\n",
            "Detector is not able to detect the language reliably.\n",
            "Detector is not able to detect the language reliably.\n",
            "Detector is not able to detect the language reliably.\n",
            "Detector is not able to detect the language reliably.\n",
            "Detector is not able to detect the language reliably.\n",
            "Detector is not able to detect the language reliably.\n",
            "Detector is not able to detect the language reliably.\n",
            "Detector is not able to detect the language reliably.\n",
            "Detector is not able to detect the language reliably.\n",
            "Detector is not able to detect the language reliably.\n",
            "Detector is not able to detect the language reliably.\n",
            "Detector is not able to detect the language reliably.\n",
            "Detector is not able to detect the language reliably.\n",
            "Detector is not able to detect the language reliably.\n",
            "Detector is not able to detect the language reliably.\n",
            "Detector is not able to detect the language reliably.\n",
            "Detector is not able to detect the language reliably.\n",
            "Detector is not able to detect the language reliably.\n",
            "Detector is not able to detect the language reliably.\n",
            "Detector is not able to detect the language reliably.\n",
            "Detector is not able to detect the language reliably.\n",
            "Detector is not able to detect the language reliably.\n",
            "Detector is not able to detect the language reliably.\n",
            "Detector is not able to detect the language reliably.\n",
            "Detector is not able to detect the language reliably.\n",
            "Detector is not able to detect the language reliably.\n",
            "Detector is not able to detect the language reliably.\n",
            "Detector is not able to detect the language reliably.\n",
            "Detector is not able to detect the language reliably.\n",
            "Detector is not able to detect the language reliably.\n",
            "Detector is not able to detect the language reliably.\n",
            "Detector is not able to detect the language reliably.\n",
            "Detector is not able to detect the language reliably.\n",
            "Detector is not able to detect the language reliably.\n",
            "Detector is not able to detect the language reliably.\n",
            "Detector is not able to detect the language reliably.\n",
            "Detector is not able to detect the language reliably.\n",
            "Detector is not able to detect the language reliably.\n",
            "Detector is not able to detect the language reliably.\n",
            "Detector is not able to detect the language reliably.\n",
            "Detector is not able to detect the language reliably.\n",
            "Detector is not able to detect the language reliably.\n",
            "Detector is not able to detect the language reliably.\n",
            "Detector is not able to detect the language reliably.\n",
            "Detector is not able to detect the language reliably.\n",
            "Detector is not able to detect the language reliably.\n",
            "Detector is not able to detect the language reliably.\n",
            "Detector is not able to detect the language reliably.\n",
            "Detector is not able to detect the language reliably.\n",
            "Detector is not able to detect the language reliably.\n",
            "Detector is not able to detect the language reliably.\n",
            "Detector is not able to detect the language reliably.\n",
            "Detector is not able to detect the language reliably.\n",
            "Detector is not able to detect the language reliably.\n",
            "Detector is not able to detect the language reliably.\n",
            "Detector is not able to detect the language reliably.\n",
            "Detector is not able to detect the language reliably.\n",
            "Detector is not able to detect the language reliably.\n",
            "Detector is not able to detect the language reliably.\n",
            "Detector is not able to detect the language reliably.\n",
            "Detector is not able to detect the language reliably.\n",
            "Detector is not able to detect the language reliably.\n",
            "Detector is not able to detect the language reliably.\n",
            "Detector is not able to detect the language reliably.\n",
            "Detector is not able to detect the language reliably.\n",
            "Detector is not able to detect the language reliably.\n",
            "Detector is not able to detect the language reliably.\n",
            "Detector is not able to detect the language reliably.\n",
            "Detector is not able to detect the language reliably.\n",
            "Detector is not able to detect the language reliably.\n",
            "Detector is not able to detect the language reliably.\n",
            "Detector is not able to detect the language reliably.\n",
            "Detector is not able to detect the language reliably.\n",
            "Detector is not able to detect the language reliably.\n",
            "Detector is not able to detect the language reliably.\n",
            "Detector is not able to detect the language reliably.\n",
            "Detector is not able to detect the language reliably.\n",
            "Detector is not able to detect the language reliably.\n",
            "Detector is not able to detect the language reliably.\n",
            "Detector is not able to detect the language reliably.\n",
            "Detector is not able to detect the language reliably.\n",
            "Detector is not able to detect the language reliably.\n",
            "Detector is not able to detect the language reliably.\n",
            "Detector is not able to detect the language reliably.\n",
            "Detector is not able to detect the language reliably.\n",
            "Detector is not able to detect the language reliably.\n",
            "Detector is not able to detect the language reliably.\n",
            "Detector is not able to detect the language reliably.\n",
            "Detector is not able to detect the language reliably.\n",
            "Detector is not able to detect the language reliably.\n",
            "Detector is not able to detect the language reliably.\n",
            "Detector is not able to detect the language reliably.\n",
            "Detector is not able to detect the language reliably.\n",
            "Detector is not able to detect the language reliably.\n",
            "Detector is not able to detect the language reliably.\n",
            "Detector is not able to detect the language reliably.\n",
            "Detector is not able to detect the language reliably.\n",
            "Detector is not able to detect the language reliably.\n",
            "Detector is not able to detect the language reliably.\n",
            "Detector is not able to detect the language reliably.\n",
            "Detector is not able to detect the language reliably.\n",
            "Detector is not able to detect the language reliably.\n",
            "Detector is not able to detect the language reliably.\n",
            "Detector is not able to detect the language reliably.\n",
            "Detector is not able to detect the language reliably.\n",
            "Detector is not able to detect the language reliably.\n",
            "Detector is not able to detect the language reliably.\n",
            "Detector is not able to detect the language reliably.\n",
            "Detector is not able to detect the language reliably.\n",
            "Detector is not able to detect the language reliably.\n",
            "Detector is not able to detect the language reliably.\n",
            "Detector is not able to detect the language reliably.\n",
            "Detector is not able to detect the language reliably.\n",
            "Detector is not able to detect the language reliably.\n",
            "Detector is not able to detect the language reliably.\n",
            "Detector is not able to detect the language reliably.\n",
            "Detector is not able to detect the language reliably.\n",
            "Detector is not able to detect the language reliably.\n",
            "Detector is not able to detect the language reliably.\n",
            "Detector is not able to detect the language reliably.\n",
            "Detector is not able to detect the language reliably.\n",
            "Detector is not able to detect the language reliably.\n",
            "Detector is not able to detect the language reliably.\n",
            "Detector is not able to detect the language reliably.\n",
            "Detector is not able to detect the language reliably.\n",
            "Detector is not able to detect the language reliably.\n",
            "Detector is not able to detect the language reliably.\n",
            "Detector is not able to detect the language reliably.\n",
            "Detector is not able to detect the language reliably.\n",
            "Detector is not able to detect the language reliably.\n",
            "Detector is not able to detect the language reliably.\n",
            "Detector is not able to detect the language reliably.\n",
            "Detector is not able to detect the language reliably.\n",
            "Detector is not able to detect the language reliably.\n",
            "Detector is not able to detect the language reliably.\n",
            "Detector is not able to detect the language reliably.\n",
            "Detector is not able to detect the language reliably.\n",
            "Detector is not able to detect the language reliably.\n",
            "Detector is not able to detect the language reliably.\n",
            "Detector is not able to detect the language reliably.\n",
            "Detector is not able to detect the language reliably.\n",
            "Detector is not able to detect the language reliably.\n",
            "Detector is not able to detect the language reliably.\n",
            "Detector is not able to detect the language reliably.\n",
            "Detector is not able to detect the language reliably.\n",
            "Detector is not able to detect the language reliably.\n",
            "Detector is not able to detect the language reliably.\n",
            "Detector is not able to detect the language reliably.\n",
            "Detector is not able to detect the language reliably.\n",
            "Detector is not able to detect the language reliably.\n",
            "Detector is not able to detect the language reliably.\n",
            "Detector is not able to detect the language reliably.\n",
            "Detector is not able to detect the language reliably.\n",
            "Detector is not able to detect the language reliably.\n",
            "Detector is not able to detect the language reliably.\n",
            "Detector is not able to detect the language reliably.\n",
            "Detector is not able to detect the language reliably.\n",
            "Detector is not able to detect the language reliably.\n",
            "Detector is not able to detect the language reliably.\n",
            "Detector is not able to detect the language reliably.\n",
            "Detector is not able to detect the language reliably.\n",
            "Detector is not able to detect the language reliably.\n",
            "Detector is not able to detect the language reliably.\n",
            "Detector is not able to detect the language reliably.\n",
            "Detector is not able to detect the language reliably.\n",
            "Detector is not able to detect the language reliably.\n",
            "Detector is not able to detect the language reliably.\n",
            "Detector is not able to detect the language reliably.\n",
            "Detector is not able to detect the language reliably.\n",
            "Detector is not able to detect the language reliably.\n",
            "Detector is not able to detect the language reliably.\n",
            "Detector is not able to detect the language reliably.\n",
            "Detector is not able to detect the language reliably.\n",
            "Detector is not able to detect the language reliably.\n",
            "Detector is not able to detect the language reliably.\n",
            "Detector is not able to detect the language reliably.\n",
            "Detector is not able to detect the language reliably.\n",
            "Detector is not able to detect the language reliably.\n",
            "Detector is not able to detect the language reliably.\n",
            "Detector is not able to detect the language reliably.\n",
            "Detector is not able to detect the language reliably.\n",
            "Detector is not able to detect the language reliably.\n",
            "Detector is not able to detect the language reliably.\n",
            "Detector is not able to detect the language reliably.\n",
            "Detector is not able to detect the language reliably.\n",
            "Detector is not able to detect the language reliably.\n",
            "Detector is not able to detect the language reliably.\n",
            "Detector is not able to detect the language reliably.\n",
            "Detector is not able to detect the language reliably.\n",
            "Detector is not able to detect the language reliably.\n",
            "Detector is not able to detect the language reliably.\n",
            "Detector is not able to detect the language reliably.\n",
            "Detector is not able to detect the language reliably.\n",
            "Detector is not able to detect the language reliably.\n",
            "Detector is not able to detect the language reliably.\n",
            "Detector is not able to detect the language reliably.\n",
            "Detector is not able to detect the language reliably.\n",
            "Detector is not able to detect the language reliably.\n",
            "Detector is not able to detect the language reliably.\n",
            "Detector is not able to detect the language reliably.\n",
            "Detector is not able to detect the language reliably.\n",
            "Detector is not able to detect the language reliably.\n",
            "Detector is not able to detect the language reliably.\n",
            "Detector is not able to detect the language reliably.\n",
            "Detector is not able to detect the language reliably.\n",
            "Detector is not able to detect the language reliably.\n",
            "Detector is not able to detect the language reliably.\n",
            "Detector is not able to detect the language reliably.\n",
            "Detector is not able to detect the language reliably.\n",
            "Detector is not able to detect the language reliably.\n",
            "Detector is not able to detect the language reliably.\n",
            "Detector is not able to detect the language reliably.\n",
            "Detector is not able to detect the language reliably.\n",
            "Detector is not able to detect the language reliably.\n",
            "Detector is not able to detect the language reliably.\n",
            "Detector is not able to detect the language reliably.\n",
            "Detector is not able to detect the language reliably.\n",
            "Detector is not able to detect the language reliably.\n",
            "Detector is not able to detect the language reliably.\n",
            "Detector is not able to detect the language reliably.\n",
            "Detector is not able to detect the language reliably.\n",
            "Detector is not able to detect the language reliably.\n",
            "Detector is not able to detect the language reliably.\n",
            "Detector is not able to detect the language reliably.\n",
            "Detector is not able to detect the language reliably.\n",
            "Detector is not able to detect the language reliably.\n",
            "Detector is not able to detect the language reliably.\n",
            "Detector is not able to detect the language reliably.\n",
            "Detector is not able to detect the language reliably.\n",
            "Detector is not able to detect the language reliably.\n",
            "Detector is not able to detect the language reliably.\n",
            "Detector is not able to detect the language reliably.\n",
            "Detector is not able to detect the language reliably.\n",
            "Detector is not able to detect the language reliably.\n",
            "Detector is not able to detect the language reliably.\n",
            "Detector is not able to detect the language reliably.\n",
            "Detector is not able to detect the language reliably.\n",
            "Detector is not able to detect the language reliably.\n",
            "Detector is not able to detect the language reliably.\n",
            "Detector is not able to detect the language reliably.\n",
            "Detector is not able to detect the language reliably.\n",
            "Detector is not able to detect the language reliably.\n",
            "Detector is not able to detect the language reliably.\n",
            "Detector is not able to detect the language reliably.\n",
            "Detector is not able to detect the language reliably.\n",
            "Detector is not able to detect the language reliably.\n",
            "Detector is not able to detect the language reliably.\n",
            "Detector is not able to detect the language reliably.\n",
            "Detector is not able to detect the language reliably.\n",
            "Detector is not able to detect the language reliably.\n",
            "Detector is not able to detect the language reliably.\n",
            "Detector is not able to detect the language reliably.\n",
            "Detector is not able to detect the language reliably.\n",
            "Detector is not able to detect the language reliably.\n",
            "Detector is not able to detect the language reliably.\n",
            "Detector is not able to detect the language reliably.\n",
            "Detector is not able to detect the language reliably.\n",
            "Detector is not able to detect the language reliably.\n",
            "Detector is not able to detect the language reliably.\n",
            "Detector is not able to detect the language reliably.\n",
            "Detector is not able to detect the language reliably.\n",
            "Detector is not able to detect the language reliably.\n",
            "Detector is not able to detect the language reliably.\n",
            "Detector is not able to detect the language reliably.\n",
            "Detector is not able to detect the language reliably.\n",
            "Detector is not able to detect the language reliably.\n",
            "Detector is not able to detect the language reliably.\n",
            "Detector is not able to detect the language reliably.\n",
            "Detector is not able to detect the language reliably.\n",
            "Detector is not able to detect the language reliably.\n",
            "Detector is not able to detect the language reliably.\n",
            "Detector is not able to detect the language reliably.\n",
            "Detector is not able to detect the language reliably.\n",
            "Detector is not able to detect the language reliably.\n",
            "Detector is not able to detect the language reliably.\n",
            "Detector is not able to detect the language reliably.\n",
            "Detector is not able to detect the language reliably.\n",
            "Detector is not able to detect the language reliably.\n",
            "Detector is not able to detect the language reliably.\n",
            "Detector is not able to detect the language reliably.\n",
            "Detector is not able to detect the language reliably.\n",
            "Detector is not able to detect the language reliably.\n",
            "Detector is not able to detect the language reliably.\n",
            "Detector is not able to detect the language reliably.\n",
            "Detector is not able to detect the language reliably.\n",
            "Detector is not able to detect the language reliably.\n",
            "Detector is not able to detect the language reliably.\n",
            "Detector is not able to detect the language reliably.\n",
            "Detector is not able to detect the language reliably.\n",
            "Detector is not able to detect the language reliably.\n",
            "Detector is not able to detect the language reliably.\n",
            "Detector is not able to detect the language reliably.\n",
            "Detector is not able to detect the language reliably.\n",
            "Detector is not able to detect the language reliably.\n",
            "Detector is not able to detect the language reliably.\n",
            "Detector is not able to detect the language reliably.\n",
            "Detector is not able to detect the language reliably.\n",
            "Detector is not able to detect the language reliably.\n",
            "Detector is not able to detect the language reliably.\n",
            "Detector is not able to detect the language reliably.\n",
            "Detector is not able to detect the language reliably.\n",
            "Detector is not able to detect the language reliably.\n",
            "Detector is not able to detect the language reliably.\n",
            "Detector is not able to detect the language reliably.\n",
            "Detector is not able to detect the language reliably.\n",
            "Detector is not able to detect the language reliably.\n",
            "Detector is not able to detect the language reliably.\n",
            "Detector is not able to detect the language reliably.\n",
            "Detector is not able to detect the language reliably.\n",
            "Detector is not able to detect the language reliably.\n",
            "Detector is not able to detect the language reliably.\n",
            "Detector is not able to detect the language reliably.\n",
            "Detector is not able to detect the language reliably.\n",
            "Detector is not able to detect the language reliably.\n",
            "Detector is not able to detect the language reliably.\n",
            "Detector is not able to detect the language reliably.\n",
            "Detector is not able to detect the language reliably.\n",
            "Detector is not able to detect the language reliably.\n",
            "Detector is not able to detect the language reliably.\n",
            "Detector is not able to detect the language reliably.\n",
            "Detector is not able to detect the language reliably.\n",
            "Detector is not able to detect the language reliably.\n",
            "Detector is not able to detect the language reliably.\n",
            "Detector is not able to detect the language reliably.\n",
            "Detector is not able to detect the language reliably.\n",
            "Detector is not able to detect the language reliably.\n",
            "Detector is not able to detect the language reliably.\n",
            "Detector is not able to detect the language reliably.\n",
            "Detector is not able to detect the language reliably.\n",
            "Detector is not able to detect the language reliably.\n",
            "Detector is not able to detect the language reliably.\n",
            "Detector is not able to detect the language reliably.\n",
            "Detector is not able to detect the language reliably.\n",
            "Detector is not able to detect the language reliably.\n",
            "Detector is not able to detect the language reliably.\n",
            "Detector is not able to detect the language reliably.\n",
            "Detector is not able to detect the language reliably.\n",
            "Detector is not able to detect the language reliably.\n",
            "Detector is not able to detect the language reliably.\n",
            "Detector is not able to detect the language reliably.\n",
            "Detector is not able to detect the language reliably.\n",
            "Detector is not able to detect the language reliably.\n",
            "Detector is not able to detect the language reliably.\n",
            "Detector is not able to detect the language reliably.\n",
            "Detector is not able to detect the language reliably.\n",
            "Detector is not able to detect the language reliably.\n",
            "Detector is not able to detect the language reliably.\n",
            "Detector is not able to detect the language reliably.\n",
            "Detector is not able to detect the language reliably.\n",
            "Detector is not able to detect the language reliably.\n",
            "Detector is not able to detect the language reliably.\n",
            "Detector is not able to detect the language reliably.\n",
            "Detector is not able to detect the language reliably.\n",
            "Detector is not able to detect the language reliably.\n",
            "Detector is not able to detect the language reliably.\n",
            "Detector is not able to detect the language reliably.\n",
            "Detector is not able to detect the language reliably.\n",
            "Detector is not able to detect the language reliably.\n",
            "Detector is not able to detect the language reliably.\n",
            "Detector is not able to detect the language reliably.\n",
            "Detector is not able to detect the language reliably.\n",
            "Detector is not able to detect the language reliably.\n",
            "Detector is not able to detect the language reliably.\n",
            "Detector is not able to detect the language reliably.\n",
            "Detector is not able to detect the language reliably.\n",
            "Detector is not able to detect the language reliably.\n",
            "Detector is not able to detect the language reliably.\n",
            "Detector is not able to detect the language reliably.\n",
            "Detector is not able to detect the language reliably.\n",
            "Detector is not able to detect the language reliably.\n",
            "Detector is not able to detect the language reliably.\n",
            "Detector is not able to detect the language reliably.\n",
            "Detector is not able to detect the language reliably.\n",
            "Detector is not able to detect the language reliably.\n",
            "Detector is not able to detect the language reliably.\n",
            "Detector is not able to detect the language reliably.\n",
            "Detector is not able to detect the language reliably.\n",
            "Detector is not able to detect the language reliably.\n",
            "Detector is not able to detect the language reliably.\n",
            "Detector is not able to detect the language reliably.\n",
            "Detector is not able to detect the language reliably.\n",
            "Detector is not able to detect the language reliably.\n",
            "Detector is not able to detect the language reliably.\n",
            "Detector is not able to detect the language reliably.\n",
            "Detector is not able to detect the language reliably.\n",
            "Detector is not able to detect the language reliably.\n",
            "Detector is not able to detect the language reliably.\n",
            "Detector is not able to detect the language reliably.\n",
            "Detector is not able to detect the language reliably.\n",
            "Detector is not able to detect the language reliably.\n",
            "Detector is not able to detect the language reliably.\n",
            "Detector is not able to detect the language reliably.\n",
            "Detector is not able to detect the language reliably.\n",
            "Detector is not able to detect the language reliably.\n",
            "Detector is not able to detect the language reliably.\n",
            "Detector is not able to detect the language reliably.\n",
            "Detector is not able to detect the language reliably.\n",
            "Detector is not able to detect the language reliably.\n",
            "Detector is not able to detect the language reliably.\n",
            "Detector is not able to detect the language reliably.\n",
            "Detector is not able to detect the language reliably.\n",
            "Detector is not able to detect the language reliably.\n",
            "Detector is not able to detect the language reliably.\n",
            "Detector is not able to detect the language reliably.\n",
            "Detector is not able to detect the language reliably.\n",
            "Detector is not able to detect the language reliably.\n",
            "Detector is not able to detect the language reliably.\n",
            "Detector is not able to detect the language reliably.\n",
            "Detector is not able to detect the language reliably.\n",
            "Detector is not able to detect the language reliably.\n",
            "Detector is not able to detect the language reliably.\n",
            "Detector is not able to detect the language reliably.\n",
            "Detector is not able to detect the language reliably.\n",
            "Detector is not able to detect the language reliably.\n",
            "Detector is not able to detect the language reliably.\n",
            "Detector is not able to detect the language reliably.\n",
            "Detector is not able to detect the language reliably.\n",
            "Detector is not able to detect the language reliably.\n",
            "Detector is not able to detect the language reliably.\n",
            "Detector is not able to detect the language reliably.\n",
            "Detector is not able to detect the language reliably.\n",
            "Detector is not able to detect the language reliably.\n",
            "Detector is not able to detect the language reliably.\n",
            "Detector is not able to detect the language reliably.\n",
            "Detector is not able to detect the language reliably.\n",
            "Detector is not able to detect the language reliably.\n",
            "Detector is not able to detect the language reliably.\n",
            "Detector is not able to detect the language reliably.\n",
            "Detector is not able to detect the language reliably.\n",
            "Detector is not able to detect the language reliably.\n",
            "Detector is not able to detect the language reliably.\n",
            "Detector is not able to detect the language reliably.\n",
            "Detector is not able to detect the language reliably.\n",
            "Detector is not able to detect the language reliably.\n",
            "Detector is not able to detect the language reliably.\n",
            "Detector is not able to detect the language reliably.\n",
            "Detector is not able to detect the language reliably.\n",
            "Detector is not able to detect the language reliably.\n",
            "Detector is not able to detect the language reliably.\n",
            "Detector is not able to detect the language reliably.\n",
            "Detector is not able to detect the language reliably.\n",
            "Detector is not able to detect the language reliably.\n",
            "Detector is not able to detect the language reliably.\n",
            "Detector is not able to detect the language reliably.\n",
            "Detector is not able to detect the language reliably.\n",
            "Detector is not able to detect the language reliably.\n",
            "Detector is not able to detect the language reliably.\n",
            "Detector is not able to detect the language reliably.\n",
            "Detector is not able to detect the language reliably.\n",
            "Detector is not able to detect the language reliably.\n",
            "Detector is not able to detect the language reliably.\n",
            "Detector is not able to detect the language reliably.\n",
            "Detector is not able to detect the language reliably.\n",
            "Detector is not able to detect the language reliably.\n",
            "Detector is not able to detect the language reliably.\n",
            "Detector is not able to detect the language reliably.\n",
            "Detector is not able to detect the language reliably.\n",
            "Detector is not able to detect the language reliably.\n",
            "Detector is not able to detect the language reliably.\n",
            "Detector is not able to detect the language reliably.\n",
            "Detector is not able to detect the language reliably.\n",
            "Detector is not able to detect the language reliably.\n",
            "Detector is not able to detect the language reliably.\n",
            "Detector is not able to detect the language reliably.\n",
            "Detector is not able to detect the language reliably.\n",
            "Detector is not able to detect the language reliably.\n",
            "Detector is not able to detect the language reliably.\n",
            "Detector is not able to detect the language reliably.\n",
            "Detector is not able to detect the language reliably.\n",
            "Detector is not able to detect the language reliably.\n",
            "Detector is not able to detect the language reliably.\n",
            "Detector is not able to detect the language reliably.\n",
            "Detector is not able to detect the language reliably.\n",
            "Detector is not able to detect the language reliably.\n",
            "Detector is not able to detect the language reliably.\n",
            "Detector is not able to detect the language reliably.\n",
            "Detector is not able to detect the language reliably.\n",
            "Detector is not able to detect the language reliably.\n",
            "Detector is not able to detect the language reliably.\n",
            "Detector is not able to detect the language reliably.\n",
            "Detector is not able to detect the language reliably.\n",
            "Detector is not able to detect the language reliably.\n",
            "Detector is not able to detect the language reliably.\n",
            "Detector is not able to detect the language reliably.\n",
            "Detector is not able to detect the language reliably.\n",
            "Detector is not able to detect the language reliably.\n",
            "Detector is not able to detect the language reliably.\n",
            "Detector is not able to detect the language reliably.\n",
            "Detector is not able to detect the language reliably.\n",
            "Detector is not able to detect the language reliably.\n",
            "Detector is not able to detect the language reliably.\n",
            "Detector is not able to detect the language reliably.\n",
            "Detector is not able to detect the language reliably.\n",
            "Detector is not able to detect the language reliably.\n",
            "Detector is not able to detect the language reliably.\n",
            "Detector is not able to detect the language reliably.\n",
            "Detector is not able to detect the language reliably.\n",
            "Detector is not able to detect the language reliably.\n",
            "Detector is not able to detect the language reliably.\n",
            "Detector is not able to detect the language reliably.\n",
            "Detector is not able to detect the language reliably.\n",
            "Detector is not able to detect the language reliably.\n",
            "Detector is not able to detect the language reliably.\n",
            "Detector is not able to detect the language reliably.\n",
            "Detector is not able to detect the language reliably.\n",
            "Detector is not able to detect the language reliably.\n",
            "Detector is not able to detect the language reliably.\n",
            "Detector is not able to detect the language reliably.\n",
            "Detector is not able to detect the language reliably.\n",
            "Detector is not able to detect the language reliably.\n",
            "Detector is not able to detect the language reliably.\n",
            "Detector is not able to detect the language reliably.\n",
            "Detector is not able to detect the language reliably.\n",
            "Detector is not able to detect the language reliably.\n",
            "Detector is not able to detect the language reliably.\n",
            "Detector is not able to detect the language reliably.\n",
            "Detector is not able to detect the language reliably.\n",
            "Detector is not able to detect the language reliably.\n",
            "Detector is not able to detect the language reliably.\n",
            "Detector is not able to detect the language reliably.\n",
            "Detector is not able to detect the language reliably.\n",
            "Detector is not able to detect the language reliably.\n",
            "Detector is not able to detect the language reliably.\n",
            "Detector is not able to detect the language reliably.\n",
            "Detector is not able to detect the language reliably.\n",
            "Detector is not able to detect the language reliably.\n",
            "Detector is not able to detect the language reliably.\n",
            "Detector is not able to detect the language reliably.\n",
            "Detector is not able to detect the language reliably.\n",
            "Detector is not able to detect the language reliably.\n",
            "Detector is not able to detect the language reliably.\n",
            "Detector is not able to detect the language reliably.\n",
            "Detector is not able to detect the language reliably.\n",
            "Detector is not able to detect the language reliably.\n",
            "Detector is not able to detect the language reliably.\n",
            "Detector is not able to detect the language reliably.\n",
            "Detector is not able to detect the language reliably.\n",
            "Detector is not able to detect the language reliably.\n",
            "Detector is not able to detect the language reliably.\n",
            "Detector is not able to detect the language reliably.\n",
            "Detector is not able to detect the language reliably.\n",
            "Detector is not able to detect the language reliably.\n",
            "Detector is not able to detect the language reliably.\n",
            "Detector is not able to detect the language reliably.\n",
            "Detector is not able to detect the language reliably.\n",
            "Detector is not able to detect the language reliably.\n",
            "Detector is not able to detect the language reliably.\n",
            "Detector is not able to detect the language reliably.\n",
            "Detector is not able to detect the language reliably.\n",
            "Detector is not able to detect the language reliably.\n",
            "Detector is not able to detect the language reliably.\n",
            "Detector is not able to detect the language reliably.\n",
            "Detector is not able to detect the language reliably.\n",
            "Detector is not able to detect the language reliably.\n",
            "Detector is not able to detect the language reliably.\n",
            "Detector is not able to detect the language reliably.\n",
            "Detector is not able to detect the language reliably.\n",
            "Detector is not able to detect the language reliably.\n",
            "Detector is not able to detect the language reliably.\n",
            "Detector is not able to detect the language reliably.\n",
            "Detector is not able to detect the language reliably.\n",
            "Detector is not able to detect the language reliably.\n",
            "Detector is not able to detect the language reliably.\n",
            "Detector is not able to detect the language reliably.\n",
            "Detector is not able to detect the language reliably.\n",
            "Detector is not able to detect the language reliably.\n",
            "Detector is not able to detect the language reliably.\n",
            "Detector is not able to detect the language reliably.\n",
            "Detector is not able to detect the language reliably.\n",
            "Detector is not able to detect the language reliably.\n",
            "Detector is not able to detect the language reliably.\n",
            "Detector is not able to detect the language reliably.\n",
            "Detector is not able to detect the language reliably.\n",
            "Detector is not able to detect the language reliably.\n",
            "Detector is not able to detect the language reliably.\n",
            "Detector is not able to detect the language reliably.\n",
            "Detector is not able to detect the language reliably.\n",
            "Detector is not able to detect the language reliably.\n",
            "Detector is not able to detect the language reliably.\n",
            "Detector is not able to detect the language reliably.\n"
          ],
          "name": "stderr"
        }
      ]
    },
    {
      "cell_type": "code",
      "metadata": {
        "id": "NyPVUR5VirmQ",
        "colab_type": "code",
        "colab": {}
      },
      "source": [
        "df[\"lang\"] = langs.apply(lambda x: x.languages[0].code)\n",
        "df[\"lang_conf\"] = langs.apply(lambda x: x.languages[0].confidence)"
      ],
      "execution_count": 0,
      "outputs": []
    },
    {
      "cell_type": "code",
      "metadata": {
        "id": "VS8ZASBfirmT",
        "colab_type": "code",
        "outputId": "fd249d84-ba6f-40cd-d07a-e30ed45ab0f4",
        "colab": {
          "base_uri": "https://localhost:8080/",
          "height": 35
        }
      },
      "source": [
        "df[\"lang\"].unique()"
      ],
      "execution_count": 0,
      "outputs": [
        {
          "output_type": "execute_result",
          "data": {
            "text/plain": [
              "array(['it', 'en', 'es', 'mg', 'da'], dtype=object)"
            ]
          },
          "metadata": {
            "tags": []
          },
          "execution_count": 14
        }
      ]
    },
    {
      "cell_type": "code",
      "metadata": {
        "id": "B7_pFXZhirmX",
        "colab_type": "code",
        "colab": {}
      },
      "source": [
        "df = df[df[\"lang\"] == \"it\"]"
      ],
      "execution_count": 0,
      "outputs": []
    },
    {
      "cell_type": "code",
      "metadata": {
        "id": "_D0BauLovfYw",
        "colab_type": "code",
        "outputId": "d872fe7f-63dc-4ddd-ad99-dac5a5be4dc1",
        "colab": {
          "base_uri": "https://localhost:8080/",
          "height": 35
        }
      },
      "source": [
        "df.lang_conf.mean()"
      ],
      "execution_count": 0,
      "outputs": [
        {
          "output_type": "execute_result",
          "data": {
            "text/plain": [
              "89.27749827365098"
            ]
          },
          "metadata": {
            "tags": []
          },
          "execution_count": 16
        }
      ]
    },
    {
      "cell_type": "code",
      "metadata": {
        "id": "zwj82jYZirmd",
        "colab_type": "code",
        "outputId": "35e4a7a5-17d7-4b3e-f3ad-c35139a7971b",
        "colab": {
          "base_uri": "https://localhost:8080/",
          "height": 35
        }
      },
      "source": [
        "df.shape"
      ],
      "execution_count": 0,
      "outputs": [
        {
          "output_type": "execute_result",
          "data": {
            "text/plain": [
              "(10137, 14)"
            ]
          },
          "metadata": {
            "tags": []
          },
          "execution_count": 17
        }
      ]
    },
    {
      "cell_type": "code",
      "metadata": {
        "id": "I5FHJvgairmg",
        "colab_type": "code",
        "outputId": "f7f7affb-13b0-4379-b2af-3e1ec2b9dc8f",
        "colab": {
          "base_uri": "https://localhost:8080/",
          "height": 298
        }
      },
      "source": [
        "sns.countplot(df.term_id)"
      ],
      "execution_count": 0,
      "outputs": [
        {
          "output_type": "execute_result",
          "data": {
            "text/plain": [
              "<matplotlib.axes._subplots.AxesSubplot at 0x7f92abb47d30>"
            ]
          },
          "metadata": {
            "tags": []
          },
          "execution_count": 18
        },
        {
          "output_type": "display_data",
          "data": {
            "image/png": "[encoded data removed]",
            "text/plain": [
              "<Figure size 432x288 with 1 Axes>"
            ]
          },
          "metadata": {
            "tags": [],
            "needs_background": "light"
          }
        }
      ]
    },
    {
      "cell_type": "code",
      "metadata": {
        "id": "aenljSrLDycq",
        "colab_type": "code",
        "outputId": "105b491c-a02b-494a-fb7e-b556d575c38e",
        "colab": {
          "base_uri": "https://localhost:8080/",
          "height": 300
        }
      },
      "source": [
        "df.term_name.value_counts()"
      ],
      "execution_count": 0,
      "outputs": [
        {
          "output_type": "execute_result",
          "data": {
            "text/plain": [
              "Discoteche & Party     5421\n",
              "Aperitivo              1637\n",
              "Uncategorized          1471\n",
              "Magic The Gathering     534\n",
              "Cena con Delitto        370\n",
              "Latino Americano        227\n",
              "Arte                    183\n",
              "Carnevale                64\n",
              "San Valentino            51\n",
              "Teatro                   49\n",
              "Fotografia               48\n",
              "Halloween                42\n",
              "Capodanno                26\n",
              "Make Up                  12\n",
              "Ferragosto                2\n",
              "Name: term_name, dtype: int64"
            ]
          },
          "metadata": {
            "tags": []
          },
          "execution_count": 19
        }
      ]
    },
    {
      "cell_type": "markdown",
      "metadata": {
        "id": "OPbsiiuPqimy",
        "colab_type": "text"
      },
      "source": [
        "### Text cleaning"
      ]
    },
    {
      "cell_type": "code",
      "metadata": {
        "id": "VBQ-jlzyirmi",
        "colab_type": "code",
        "colab": {}
      },
      "source": [
        "# Move cleaning phase to SpaCy?\n",
        "\n",
        "def cleanText(x):\n",
        "    soup = BeautifulSoup(x, 'lxml')\n",
        "    no_html_text = soup.get_text()\n",
        "    tokens = nltk.word_tokenize(no_html_text)\n",
        "    tokens = [w.lower() for w in tokens]\n",
        "    words = [word for word in tokens if word.isalpha()]\n",
        "    table = str.maketrans('', '', string.punctuation)\n",
        "    stripped = [w.translate(table) for w in tokens]\n",
        "    stopwords = nltk.corpus.stopwords.words('italian')\n",
        "    stopwords.extend(string.punctuation)\n",
        "    words = [w for w in stripped if w.isalpha() and not w in stopwords]\n",
        "    \n",
        "    return \" \".join(words)"
      ],
      "execution_count": 0,
      "outputs": []
    },
    {
      "cell_type": "code",
      "metadata": {
        "id": "_5XLEGm9irml",
        "colab_type": "code",
        "outputId": "318b3cc7-90fe-4acf-aab6-68b5c82388a7",
        "colab": {
          "base_uri": "https://localhost:8080/",
          "height": 35
        }
      },
      "source": [
        "df[\"cleaned_desc\"] = df[\"description\"].progress_apply(cleanText)"
      ],
      "execution_count": 0,
      "outputs": [
        {
          "output_type": "stream",
          "text": [
            "100%|██████████| 10137/10137 [00:28<00:00, 355.34it/s]\n"
          ],
          "name": "stderr"
        }
      ]
    },
    {
      "cell_type": "code",
      "metadata": {
        "id": "0XZOaOJ4irmo",
        "colab_type": "code",
        "outputId": "ad149fcc-1011-43b0-984a-3721042d4054",
        "colab": {
          "base_uri": "https://localhost:8080/",
          "height": 35
        }
      },
      "source": [
        "df[\"cleaned_title\"] = df[\"title\"].progress_apply(cleanText)"
      ],
      "execution_count": 0,
      "outputs": [
        {
          "output_type": "stream",
          "text": [
            "100%|██████████| 10137/10137 [00:07<00:00, 1378.24it/s]\n"
          ],
          "name": "stderr"
        }
      ]
    },
    {
      "cell_type": "code",
      "metadata": {
        "id": "6hfHzFrrirmr",
        "colab_type": "code",
        "colab": {}
      },
      "source": [
        "df[\"full_cleaned\"] = df[\"cleaned_desc\"] + df[\"cleaned_title\"]"
      ],
      "execution_count": 0,
      "outputs": []
    },
    {
      "cell_type": "code",
      "metadata": {
        "id": "rgMGYFA6irmt",
        "colab_type": "code",
        "colab": {}
      },
      "source": [
        "df = df.reset_index()"
      ],
      "execution_count": 0,
      "outputs": []
    },
    {
      "cell_type": "code",
      "metadata": {
        "id": "BxORQ2Bpirmw",
        "colab_type": "code",
        "colab": {}
      },
      "source": [
        "# We consider events equals if they have the same id and title\n",
        "df = df.astype({\"user\": str, \"place_id\": str})\n",
        "\n",
        "join_func = lambda col: ', '.join(col)"
      ],
      "execution_count": 0,
      "outputs": []
    },
    {
      "cell_type": "code",
      "metadata": {
        "id": "11rT7Q21irmy",
        "colab_type": "code",
        "colab": {}
      },
      "source": [
        "df_merged = pd.DataFrame(df.groupby(['ID', 'cleaned_title'], as_index=False).agg({\n",
        "    'term_name': join_func,\n",
        "    'place_id': join_func,\n",
        "    'cleaned_desc' : join_func,\n",
        "    'full_cleaned' : join_func,\n",
        "    'user' : join_func}))"
      ],
      "execution_count": 0,
      "outputs": []
    },
    {
      "cell_type": "code",
      "metadata": {
        "id": "K2mHNuXMirm0",
        "colab_type": "code",
        "outputId": "38e16966-e3af-411b-f877-569105976046",
        "colab": {
          "base_uri": "https://localhost:8080/",
          "height": 105
        }
      },
      "source": [
        "df_merged[\"full_cleaned\"] = df_merged[\"full_cleaned\"].progress_apply(lambda x: ' '.join(set(x.strip().split(\", \"))))\n",
        "df_merged[\"cleaned_desc\"] = df_merged[\"cleaned_desc\"].progress_apply(lambda x: ' '.join(set(x.strip().split(\", \"))))\n",
        "df_merged['user'] = df_merged['user'].progress_apply(lambda x: ', '.join(set(x.strip().split(\", \"))))\n",
        "df_merged['term_name'] = df_merged['term_name'].progress_apply(lambda x: set(x.strip().split(\", \")))\n",
        "df_merged['place_id'] = df_merged['place_id'].progress_apply(lambda x: ', '.join(set(x.strip().split(\", \"))))"
      ],
      "execution_count": 0,
      "outputs": [
        {
          "output_type": "stream",
          "text": [
            "100%|██████████| 8971/8971 [00:00<00:00, 216668.59it/s]\n",
            "100%|██████████| 8971/8971 [00:00<00:00, 214373.79it/s]\n",
            "100%|██████████| 8971/8971 [00:00<00:00, 549838.55it/s]\n",
            "100%|██████████| 8971/8971 [00:00<00:00, 501594.36it/s]\n",
            "100%|██████████| 8971/8971 [00:00<00:00, 418623.11it/s]\n"
          ],
          "name": "stderr"
        }
      ]
    },
    {
      "cell_type": "code",
      "metadata": {
        "id": "Sf9s10XPirm2",
        "colab_type": "code",
        "outputId": "4767f991-356f-4516-8929-6126d7242dfe",
        "colab": {
          "base_uri": "https://localhost:8080/",
          "height": 287
        }
      },
      "source": [
        "df_merged.head()"
      ],
      "execution_count": 0,
      "outputs": [
        {
          "output_type": "execute_result",
          "data": {
            "text/html": [
              "<div>\n",
              "<style scoped>\n",
              "    .dataframe tbody tr th:only-of-type {\n",
              "        vertical-align: middle;\n",
              "    }\n",
              "\n",
              "    .dataframe tbody tr th {\n",
              "        vertical-align: top;\n",
              "    }\n",
              "\n",
              "    .dataframe thead th {\n",
              "        text-align: right;\n",
              "    }\n",
              "</style>\n",
              "<table border=\"1\" class=\"dataframe\">\n",
              "  <thead>\n",
              "    <tr style=\"text-align: right;\">\n",
              "      <th></th>\n",
              "      <th>ID</th>\n",
              "      <th>cleaned_title</th>\n",
              "      <th>term_name</th>\n",
              "      <th>place_id</th>\n",
              "      <th>cleaned_desc</th>\n",
              "      <th>full_cleaned</th>\n",
              "      <th>user</th>\n",
              "    </tr>\n",
              "  </thead>\n",
              "  <tbody>\n",
              "    <tr>\n",
              "      <th>0</th>\n",
              "      <td>1048</td>\n",
              "      <td>giovedi take away largo cairoli noche tropical</td>\n",
              "      <td>{Latino Americano}</td>\n",
              "      <td>90930</td>\n",
              "      <td>giovedi serata noche tropical take away largo ...</td>\n",
              "      <td>giovedi serata noche tropical take away largo ...</td>\n",
              "      <td>1</td>\n",
              "    </tr>\n",
              "    <tr>\n",
              "      <th>1</th>\n",
              "      <td>1124</td>\n",
              "      <td>ott arianna antinori hostaria cohen release party</td>\n",
              "      <td>{Uncategorized}</td>\n",
              "      <td>91136</td>\n",
              "      <td>ingresso gratuito invito richiedilo scrivendo ...</td>\n",
              "      <td>ingresso gratuito invito richiedilo scrivendo ...</td>\n",
              "      <td>1</td>\n",
              "    </tr>\n",
              "    <tr>\n",
              "      <th>2</th>\n",
              "      <td>1367</td>\n",
              "      <td>anathema alcest milano</td>\n",
              "      <td>{Uncategorized}</td>\n",
              "      <td>91136</td>\n",
              "      <td>anathema nuovo album data italiana piacere ann...</td>\n",
              "      <td>anathema nuovo album data italiana piacere ann...</td>\n",
              "      <td>1</td>\n",
              "    </tr>\n",
              "    <tr>\n",
              "      <th>3</th>\n",
              "      <td>1370</td>\n",
              "      <td>we love haiducii milano sab ottobre alcatraz</td>\n",
              "      <td>{Discoteche &amp; Party}</td>\n",
              "      <td>91136</td>\n",
              "      <td>we love xxl alcatraz milano sabato ottobre spe...</td>\n",
              "      <td>we love xxl alcatraz milano sabato ottobre spe...</td>\n",
              "      <td>1</td>\n",
              "    </tr>\n",
              "    <tr>\n",
              "      <th>4</th>\n",
              "      <td>1374</td>\n",
              "      <td>fabri fibra ottobre milano alcatraz</td>\n",
              "      <td>{Uncategorized}</td>\n",
              "      <td>91136</td>\n",
              "      <td>fabri fibra fenomeno tour ottobre alcatraz mil...</td>\n",
              "      <td>fabri fibra fenomeno tour ottobre alcatraz mil...</td>\n",
              "      <td>1</td>\n",
              "    </tr>\n",
              "  </tbody>\n",
              "</table>\n",
              "</div>"
            ],
            "text/plain": [
              "     ID  ... user\n",
              "0  1048  ...    1\n",
              "1  1124  ...    1\n",
              "2  1367  ...    1\n",
              "3  1370  ...    1\n",
              "4  1374  ...    1\n",
              "\n",
              "[5 rows x 7 columns]"
            ]
          },
          "metadata": {
            "tags": []
          },
          "execution_count": 28
        }
      ]
    },
    {
      "cell_type": "markdown",
      "metadata": {
        "id": "oeCuS93MqovF",
        "colab_type": "text"
      },
      "source": [
        "### One-hot encoding and vectorization of text"
      ]
    },
    {
      "cell_type": "code",
      "metadata": {
        "id": "4SSEYx71irm5",
        "colab_type": "code",
        "outputId": "c20b5296-55df-4fa9-a2eb-15bf306e9a49",
        "colab": {
          "base_uri": "https://localhost:8080/",
          "height": 35
        }
      },
      "source": [
        "mlb = MultiLabelBinarizer()\n",
        "y = mlb.fit_transform(df_merged.term_name)\n",
        "y[126]"
      ],
      "execution_count": 0,
      "outputs": [
        {
          "output_type": "execute_result",
          "data": {
            "text/plain": [
              "array([0, 0, 0, 0, 0, 1, 0, 0, 0, 1, 0, 0, 0, 0, 0])"
            ]
          },
          "metadata": {
            "tags": []
          },
          "execution_count": 29
        }
      ]
    },
    {
      "cell_type": "code",
      "metadata": {
        "id": "lBbQh7w6irm7",
        "colab_type": "code",
        "colab": {}
      },
      "source": [
        "df_onehot_place = pd.get_dummies(df_merged['place_id'], prefix='place_id', drop_first=True)\n",
        "df_onehot_user = pd.get_dummies(df_merged['user'], prefix='user', drop_first=True)\n",
        "df_onehot = df_onehot_place.join(df_onehot_user)\n",
        "\n",
        "onehot_sparse = scipy.sparse.csr_matrix(df_onehot.values, dtype=np.int64)\n",
        "\n",
        "del df_onehot_place, df_onehot_user, df_onehot, df"
      ],
      "execution_count": 0,
      "outputs": []
    },
    {
      "cell_type": "markdown",
      "metadata": {
        "id": "p4Lsgi82irm-",
        "colab_type": "text"
      },
      "source": [
        "We'll want to try different representations:\n",
        "1. BoW (descr + title)\n",
        "2. BoW (descr + title) + place + user\n",
        "3. Tfidf (descr + title)\n",
        "4. Tfidf (descr + title) + place + user"
      ]
    },
    {
      "cell_type": "code",
      "metadata": {
        "id": "6cqlI8pg5a8W",
        "colab_type": "code",
        "colab": {}
      },
      "source": [
        "vect_bow = CountVectorizer()\n",
        "vect_tfidf = TfidfVectorizer()"
      ],
      "execution_count": 0,
      "outputs": []
    },
    {
      "cell_type": "code",
      "metadata": {
        "id": "MtJgjw50irnB",
        "colab_type": "code",
        "colab": {}
      },
      "source": [
        "X1 = vect_bow.fit_transform(df_merged['full_cleaned'])\n",
        "X2 = scipy.sparse.hstack([X1, onehot_sparse], dtype=np.int64, format=\"csr\")\n",
        "X3 = vect_tfidf.fit_transform(df_merged['full_cleaned'])\n",
        "X4 = scipy.sparse.hstack([X3, onehot_sparse], dtype=np.int64, format=\"csr\")"
      ],
      "execution_count": 0,
      "outputs": []
    },
    {
      "cell_type": "code",
      "metadata": {
        "id": "7yyrWXUUqTw8",
        "colab_type": "code",
        "colab": {}
      },
      "source": [
        "with open('/content/drive/My Drive/Colab Notebooks/whatsout/bow_vectorizer.pk', 'wb') as vect:\n",
        "  pickle.dump(vect_bow, vect)\n",
        "\n",
        "with open('/content/drive/My Drive/Colab Notebooks/whatsout/X2.pk', 'wb') as file:\n",
        "  pickle.dump(X2, file)"
      ],
      "execution_count": 0,
      "outputs": []
    },
    {
      "cell_type": "markdown",
      "metadata": {
        "id": "ZBArrEy_pwVL",
        "colab_type": "text"
      },
      "source": [
        "## Experiments"
      ]
    },
    {
      "cell_type": "markdown",
      "metadata": {
        "id": "QmVzwDekpylN",
        "colab_type": "text"
      },
      "source": [
        "### Random Forest"
      ]
    },
    {
      "cell_type": "code",
      "metadata": {
        "id": "vtKB8XXK1wwK",
        "colab_type": "code",
        "colab": {}
      },
      "source": [
        "X_train, y_train, X_test, y_test = iterative_train_test_split(X2, y, test_size = 0.3)"
      ],
      "execution_count": 0,
      "outputs": []
    },
    {
      "cell_type": "code",
      "metadata": {
        "id": "ZbD7dCso_7ku",
        "colab_type": "code",
        "outputId": "f1f0df20-51f9-4116-dadc-a5e7069d01b2",
        "colab": {
          "base_uri": "https://localhost:8080/",
          "height": 1000
        }
      },
      "source": [
        "clf = RandomForestClassifier(verbose = 10, n_jobs=-1, random_state=123)\n",
        "clf.fit(X_train, y_train)"
      ],
      "execution_count": 0,
      "outputs": [
        {
          "output_type": "stream",
          "text": [
            "[Parallel(n_jobs=-1)]: Using backend ThreadingBackend with 4 concurrent workers.\n"
          ],
          "name": "stderr"
        },
        {
          "output_type": "stream",
          "text": [
            "building tree 1 of 100\n",
            "building tree 2 of 100\n",
            "building tree 3 of 100\n",
            "building tree 4 of 100\n",
            "building tree 5 of 100\n",
            "building tree 6 of 100\n",
            "building tree 7 of 100\n",
            "building tree 8 of 100\n"
          ],
          "name": "stdout"
        },
        {
          "output_type": "stream",
          "text": [
            "[Parallel(n_jobs=-1)]: Done   5 tasks      | elapsed:    1.1s\n"
          ],
          "name": "stderr"
        },
        {
          "output_type": "stream",
          "text": [
            "building tree 9 of 100\n",
            "building tree 10 of 100\n",
            "building tree 11 of 100\n",
            "building tree 12 of 100\n",
            "building tree 13 of 100\n",
            "building tree 14 of 100\n",
            "building tree 15 of 100\n",
            "building tree 16 of 100\n"
          ],
          "name": "stdout"
        },
        {
          "output_type": "stream",
          "text": [
            "[Parallel(n_jobs=-1)]: Done  10 tasks      | elapsed:    1.6s\n"
          ],
          "name": "stderr"
        },
        {
          "output_type": "stream",
          "text": [
            "building tree 17 of 100\n",
            "building tree 18 of 100\n",
            "building tree 19 of 100\n",
            "building tree 20 of 100\n"
          ],
          "name": "stdout"
        },
        {
          "output_type": "stream",
          "text": [
            "[Parallel(n_jobs=-1)]: Done  17 tasks      | elapsed:    2.7s\n"
          ],
          "name": "stderr"
        },
        {
          "output_type": "stream",
          "text": [
            "building tree 21 of 100\n",
            "building tree 22 of 100\n",
            "building tree 23 of 100\n",
            "building tree 24 of 100\n",
            "building tree 25 of 100\n",
            "building tree 26 of 100\n",
            "building tree 27 of 100\n",
            "building tree 28 of 100\n"
          ],
          "name": "stdout"
        },
        {
          "output_type": "stream",
          "text": [
            "[Parallel(n_jobs=-1)]: Done  24 tasks      | elapsed:    3.4s\n"
          ],
          "name": "stderr"
        },
        {
          "output_type": "stream",
          "text": [
            "building tree 29 of 100\n",
            "building tree 30 of 100\n",
            "building tree 31 of 100\n",
            "building tree 32 of 100\n",
            "building tree 33 of 100\n",
            "building tree 34 of 100\n",
            "building tree 35 of 100\n",
            "building tree 36 of 100\n"
          ],
          "name": "stdout"
        },
        {
          "output_type": "stream",
          "text": [
            "[Parallel(n_jobs=-1)]: Done  33 tasks      | elapsed:    4.8s\n"
          ],
          "name": "stderr"
        },
        {
          "output_type": "stream",
          "text": [
            "building tree 37 of 100\n",
            "building tree 38 of 100\n",
            "building tree 39 of 100\n",
            "building tree 40 of 100\n",
            "building tree 41 of 100\n",
            "building tree 42 of 100\n",
            "building tree 43 of 100\n",
            "building tree 44 of 100\n",
            "building tree 45 of 100\n",
            "building tree 46 of 100\n",
            "building tree 47 of 100\n"
          ],
          "name": "stdout"
        },
        {
          "output_type": "stream",
          "text": [
            "[Parallel(n_jobs=-1)]: Done  42 tasks      | elapsed:    6.0s\n"
          ],
          "name": "stderr"
        },
        {
          "output_type": "stream",
          "text": [
            "building tree 48 of 100\n",
            "building tree 49 of 100\n",
            "building tree 50 of 100\n",
            "building tree 51 of 100\n",
            "building tree 52 of 100\n",
            "building tree 53 of 100\n",
            "building tree 54 of 100\n",
            "building tree 55 of 100\n",
            "building tree 56 of 100\n"
          ],
          "name": "stdout"
        },
        {
          "output_type": "stream",
          "text": [
            "[Parallel(n_jobs=-1)]: Done  53 tasks      | elapsed:    7.6s\n"
          ],
          "name": "stderr"
        },
        {
          "output_type": "stream",
          "text": [
            "building tree 57 of 100\n",
            "building tree 58 of 100\n",
            "building tree 59 of 100\n",
            "building tree 60 of 100\n",
            "building tree 61 of 100\n",
            "building tree 62 of 100\n",
            "building tree 63 of 100\n",
            "building tree 64 of 100\n",
            "building tree 65 of 100\n",
            "building tree 66 of 100\n",
            "building tree 67 of 100\n",
            "building tree 68 of 100\n"
          ],
          "name": "stdout"
        },
        {
          "output_type": "stream",
          "text": [
            "[Parallel(n_jobs=-1)]: Done  64 tasks      | elapsed:    8.8s\n"
          ],
          "name": "stderr"
        },
        {
          "output_type": "stream",
          "text": [
            "building tree 69 of 100building tree 70 of 100\n",
            "\n",
            "building tree 71 of 100\n",
            "building tree 72 of 100\n",
            "building tree 73 of 100\n",
            "building tree 74 of 100\n",
            "building tree 75 of 100\n",
            "building tree 76 of 100\n",
            "building tree 77 of 100\n",
            "building tree 78 of 100\n",
            "building tree 79 of 100\n",
            "building tree 80 of 100\n"
          ],
          "name": "stdout"
        },
        {
          "output_type": "stream",
          "text": [
            "[Parallel(n_jobs=-1)]: Done  77 tasks      | elapsed:   10.8s\n"
          ],
          "name": "stderr"
        },
        {
          "output_type": "stream",
          "text": [
            "building tree 81 of 100\n",
            "building tree 82 of 100\n",
            "building tree 83 of 100\n",
            "building tree 84 of 100\n",
            "building tree 85 of 100\n",
            "building tree 86 of 100\n",
            "building tree 87 of 100\n",
            "building tree 88 of 100\n",
            "building tree 89 of 100\n",
            "building tree 90 of 100\n",
            "building tree 91 of 100\n",
            "building tree 92 of 100\n",
            "building tree 93 of 100\n",
            "building tree 94 of 100\n",
            "building tree 95 of 100\n"
          ],
          "name": "stdout"
        },
        {
          "output_type": "stream",
          "text": [
            "[Parallel(n_jobs=-1)]: Done  90 tasks      | elapsed:   12.6s\n"
          ],
          "name": "stderr"
        },
        {
          "output_type": "stream",
          "text": [
            "building tree 96 of 100\n",
            "building tree 97 of 100\n",
            "building tree 98 of 100\n",
            "building tree 99 of 100\n",
            "building tree 100 of 100\n"
          ],
          "name": "stdout"
        },
        {
          "output_type": "stream",
          "text": [
            "[Parallel(n_jobs=-1)]: Done 100 out of 100 | elapsed:   13.8s finished\n"
          ],
          "name": "stderr"
        },
        {
          "output_type": "execute_result",
          "data": {
            "text/plain": [
              "RandomForestClassifier(bootstrap=True, ccp_alpha=0.0, class_weight=None,\n",
              "                       criterion='gini', max_depth=None, max_features='auto',\n",
              "                       max_leaf_nodes=None, max_samples=None,\n",
              "                       min_impurity_decrease=0.0, min_impurity_split=None,\n",
              "                       min_samples_leaf=1, min_samples_split=2,\n",
              "                       min_weight_fraction_leaf=0.0, n_estimators=100,\n",
              "                       n_jobs=-1, oob_score=False, random_state=123, verbose=10,\n",
              "                       warm_start=False)"
            ]
          },
          "metadata": {
            "tags": []
          },
          "execution_count": 34
        }
      ]
    },
    {
      "cell_type": "code",
      "metadata": {
        "id": "CF14-s1kAIo9",
        "colab_type": "code",
        "outputId": "9451851f-962f-4b79-b666-5c5643022068",
        "colab": {
          "base_uri": "https://localhost:8080/",
          "height": 425
        }
      },
      "source": [
        "y_hat_train = clf.predict(X_train)\n",
        "y_hat_test = clf.predict(X_test)"
      ],
      "execution_count": 0,
      "outputs": [
        {
          "output_type": "stream",
          "text": [
            "[Parallel(n_jobs=4)]: Using backend ThreadingBackend with 4 concurrent workers.\n",
            "[Parallel(n_jobs=4)]: Done   5 tasks      | elapsed:    0.0s\n",
            "[Parallel(n_jobs=4)]: Done  10 tasks      | elapsed:    0.1s\n",
            "[Parallel(n_jobs=4)]: Done  17 tasks      | elapsed:    0.1s\n",
            "[Parallel(n_jobs=4)]: Done  24 tasks      | elapsed:    0.1s\n",
            "[Parallel(n_jobs=4)]: Done  33 tasks      | elapsed:    0.2s\n",
            "[Parallel(n_jobs=4)]: Done  42 tasks      | elapsed:    0.2s\n",
            "[Parallel(n_jobs=4)]: Done  53 tasks      | elapsed:    0.3s\n",
            "[Parallel(n_jobs=4)]: Done  64 tasks      | elapsed:    0.3s\n",
            "[Parallel(n_jobs=4)]: Done  77 tasks      | elapsed:    0.4s\n",
            "[Parallel(n_jobs=4)]: Done  90 tasks      | elapsed:    0.5s\n",
            "[Parallel(n_jobs=4)]: Done 100 out of 100 | elapsed:    0.5s finished\n",
            "[Parallel(n_jobs=4)]: Using backend ThreadingBackend with 4 concurrent workers.\n",
            "[Parallel(n_jobs=4)]: Done   5 tasks      | elapsed:    0.0s\n",
            "[Parallel(n_jobs=4)]: Done  10 tasks      | elapsed:    0.0s\n",
            "[Parallel(n_jobs=4)]: Done  17 tasks      | elapsed:    0.1s\n",
            "[Parallel(n_jobs=4)]: Done  24 tasks      | elapsed:    0.1s\n",
            "[Parallel(n_jobs=4)]: Done  33 tasks      | elapsed:    0.1s\n",
            "[Parallel(n_jobs=4)]: Done  42 tasks      | elapsed:    0.2s\n",
            "[Parallel(n_jobs=4)]: Done  53 tasks      | elapsed:    0.2s\n",
            "[Parallel(n_jobs=4)]: Done  64 tasks      | elapsed:    0.3s\n",
            "[Parallel(n_jobs=4)]: Done  77 tasks      | elapsed:    0.3s\n",
            "[Parallel(n_jobs=4)]: Done  90 tasks      | elapsed:    0.4s\n",
            "[Parallel(n_jobs=4)]: Done 100 out of 100 | elapsed:    0.4s finished\n"
          ],
          "name": "stderr"
        }
      ]
    },
    {
      "cell_type": "code",
      "metadata": {
        "id": "-wkI-TdDCITt",
        "colab_type": "code",
        "outputId": "667c07be-1b3f-4e1a-fa67-8cc0e488b183",
        "colab": {
          "base_uri": "https://localhost:8080/",
          "height": 34
        }
      },
      "source": [
        "precision_score(y_train, y_hat_train, average='micro'), precision_score(y_test, y_hat_test, average='micro')"
      ],
      "execution_count": 0,
      "outputs": [
        {
          "output_type": "execute_result",
          "data": {
            "text/plain": [
              "(0.9914023960535588, 0.9427453769559033)"
            ]
          },
          "metadata": {
            "tags": []
          },
          "execution_count": 36
        }
      ]
    },
    {
      "cell_type": "code",
      "metadata": {
        "id": "FUTja2l6Ceix",
        "colab_type": "code",
        "outputId": "dc7affd4-0ce6-4eed-a720-eb7c8fda8fb7",
        "colab": {
          "base_uri": "https://localhost:8080/",
          "height": 34
        }
      },
      "source": [
        "recall_score(y_train, y_hat_train, average='micro'), recall_score(y_test, y_hat_test, average='micro')"
      ],
      "execution_count": 0,
      "outputs": [
        {
          "output_type": "execute_result",
          "data": {
            "text/plain": [
              "(0.991123009722418, 0.8720394736842105)"
            ]
          },
          "metadata": {
            "tags": []
          },
          "execution_count": 37
        }
      ]
    },
    {
      "cell_type": "code",
      "metadata": {
        "id": "IpvwYKvJAJbj",
        "colab_type": "code",
        "outputId": "d5f38b10-55ff-4687-ec85-a74e6676f9c1",
        "colab": {
          "base_uri": "https://localhost:8080/",
          "height": 34
        }
      },
      "source": [
        "f1_score(y_train, y_hat_train, average='micro'), f1_score(y_test, y_hat_test, average='micro')"
      ],
      "execution_count": 0,
      "outputs": [
        {
          "output_type": "execute_result",
          "data": {
            "text/plain": [
              "(0.991262683201804, 0.906015037593985)"
            ]
          },
          "metadata": {
            "tags": []
          },
          "execution_count": 38
        }
      ]
    },
    {
      "cell_type": "code",
      "metadata": {
        "id": "yAj8RSZYFEP6",
        "colab_type": "code",
        "outputId": "cfb94738-a85e-436e-9926-df3ae359c60d",
        "colab": {
          "base_uri": "https://localhost:8080/",
          "height": 530
        }
      },
      "source": [
        "print(classification_report(y_test, y_hat_test))"
      ],
      "execution_count": 0,
      "outputs": [
        {
          "output_type": "stream",
          "text": [
            "              precision    recall  f1-score   support\n",
            "\n",
            "           0       0.88      0.76      0.81       491\n",
            "           1       1.00      0.53      0.69        55\n",
            "           2       0.00      0.00      0.00         7\n",
            "           3       0.00      0.00      0.00        21\n",
            "           4       0.98      0.90      0.94       111\n",
            "           5       0.98      0.94      0.96      1626\n",
            "           6       0.00      0.00      0.00         0\n",
            "           7       1.00      0.43      0.60        14\n",
            "           8       0.00      0.00      0.00        12\n",
            "           9       0.92      0.66      0.77        68\n",
            "          10       0.97      0.97      0.97       160\n",
            "          11       0.00      0.00      0.00         4\n",
            "          12       0.00      0.00      0.00        15\n",
            "          13       1.00      0.20      0.33        15\n",
            "          14       0.85      0.92      0.88       441\n",
            "\n",
            "   micro avg       0.94      0.87      0.91      3040\n",
            "   macro avg       0.57      0.42      0.46      3040\n",
            "weighted avg       0.93      0.87      0.89      3040\n",
            " samples avg       0.90      0.89      0.89      3040\n",
            "\n"
          ],
          "name": "stdout"
        },
        {
          "output_type": "stream",
          "text": [
            "/usr/local/lib/python3.6/dist-packages/sklearn/metrics/_classification.py:1272: UndefinedMetricWarning: Precision and F-score are ill-defined and being set to 0.0 in labels with no predicted samples. Use `zero_division` parameter to control this behavior.\n",
            "  _warn_prf(average, modifier, msg_start, len(result))\n",
            "/usr/local/lib/python3.6/dist-packages/sklearn/metrics/_classification.py:1272: UndefinedMetricWarning: Recall and F-score are ill-defined and being set to 0.0 in labels with no true samples. Use `zero_division` parameter to control this behavior.\n",
            "  _warn_prf(average, modifier, msg_start, len(result))\n",
            "/usr/local/lib/python3.6/dist-packages/sklearn/metrics/_classification.py:1272: UndefinedMetricWarning: Precision and F-score are ill-defined and being set to 0.0 in samples with no predicted labels. Use `zero_division` parameter to control this behavior.\n",
            "  _warn_prf(average, modifier, msg_start, len(result))\n"
          ],
          "name": "stderr"
        }
      ]
    },
    {
      "cell_type": "code",
      "metadata": {
        "id": "QZ8jXxqWkr81",
        "colab_type": "code",
        "outputId": "173e7f6c-edfc-4b77-b166-b1c9fbc1e50d",
        "colab": {
          "base_uri": "https://localhost:8080/",
          "height": 765
        }
      },
      "source": [
        "print(multilabel_confusion_matrix(y_test, y_hat_test))"
      ],
      "execution_count": 0,
      "outputs": [
        {
          "output_type": "stream",
          "text": [
            "[[[2145   52]\n",
            "  [ 120  371]]\n",
            "\n",
            " [[2633    0]\n",
            "  [  26   29]]\n",
            "\n",
            " [[2681    0]\n",
            "  [   7    0]]\n",
            "\n",
            " [[2666    1]\n",
            "  [  21    0]]\n",
            "\n",
            " [[2575    2]\n",
            "  [  11  100]]\n",
            "\n",
            " [[1037   25]\n",
            "  [  90 1536]]\n",
            "\n",
            " [[2688    0]\n",
            "  [   0    0]]\n",
            "\n",
            " [[2674    0]\n",
            "  [   8    6]]\n",
            "\n",
            " [[2676    0]\n",
            "  [  12    0]]\n",
            "\n",
            " [[2616    4]\n",
            "  [  23   45]]\n",
            "\n",
            " [[2524    4]\n",
            "  [   4  156]]\n",
            "\n",
            " [[2684    0]\n",
            "  [   4    0]]\n",
            "\n",
            " [[2673    0]\n",
            "  [  15    0]]\n",
            "\n",
            " [[2673    0]\n",
            "  [  12    3]]\n",
            "\n",
            " [[2174   73]\n",
            "  [  36  405]]]\n"
          ],
          "name": "stdout"
        }
      ]
    },
    {
      "cell_type": "code",
      "metadata": {
        "id": "gqcx7HCeC1Xw",
        "colab_type": "code",
        "colab": {}
      },
      "source": [
        "param_grid = [{'n_estimators':[100,200,300,500], \n",
        "               'max_depth':[50,100], 'min_samples_leaf':[5,10,50],\n",
        "              'min_samples_split':[5,10],\n",
        "              'bootstrap':[True,False]}]\n",
        "\n",
        "rf = RandomForestClassifier()\n",
        "clf = GridSearchCV(rf, param_grid, cv = 5, verbose=10, n_jobs=-1, scoring='f1_micro')\n",
        "\n",
        "clf.fit(X_train, y_train)\n",
        "\n",
        "clf.best_params_, clf.best_score_"
      ],
      "execution_count": 0,
      "outputs": []
    },
    {
      "cell_type": "code",
      "metadata": {
        "id": "YIhKe8_kD6fd",
        "colab_type": "code",
        "colab": {}
      },
      "source": [
        "y_hat_test = clf.predict(X_test)"
      ],
      "execution_count": 0,
      "outputs": []
    },
    {
      "cell_type": "code",
      "metadata": {
        "colab_type": "code",
        "id": "lK4jY6iLD-1f",
        "colab": {}
      },
      "source": [
        "precision_score(y_test, y_hat_test, average='micro')"
      ],
      "execution_count": 0,
      "outputs": []
    },
    {
      "cell_type": "code",
      "metadata": {
        "colab_type": "code",
        "id": "lNmzU0U3D-1r",
        "colab": {}
      },
      "source": [
        "recall_score(y_test, y_hat_test, average='micro')"
      ],
      "execution_count": 0,
      "outputs": []
    },
    {
      "cell_type": "code",
      "metadata": {
        "colab_type": "code",
        "id": "BaAQlJ8xD-1y",
        "colab": {}
      },
      "source": [
        "f1_score(y_test, y_hat_test, average='micro')"
      ],
      "execution_count": 0,
      "outputs": []
    },
    {
      "cell_type": "markdown",
      "metadata": {
        "id": "0qhuR-jVp7Y1",
        "colab_type": "text"
      },
      "source": [
        "### KNN"
      ]
    },
    {
      "cell_type": "code",
      "metadata": {
        "id": "Xd7MXPx9irnI",
        "colab_type": "code",
        "outputId": "b4f74b86-c4cc-4d16-ff26-f071c10ff7c7",
        "colab": {
          "base_uri": "https://localhost:8080/",
          "height": 68
        }
      },
      "source": [
        "clf = KNeighborsClassifier(n_jobs=-1)\n",
        "clf.fit(X_train, y_train)"
      ],
      "execution_count": 0,
      "outputs": [
        {
          "output_type": "execute_result",
          "data": {
            "text/plain": [
              "KNeighborsClassifier(algorithm='auto', leaf_size=30, metric='minkowski',\n",
              "                     metric_params=None, n_jobs=-1, n_neighbors=5, p=2,\n",
              "                     weights='uniform')"
            ]
          },
          "metadata": {
            "tags": []
          },
          "execution_count": 41
        }
      ]
    },
    {
      "cell_type": "code",
      "metadata": {
        "id": "qCZ88NqrirnL",
        "colab_type": "code",
        "colab": {}
      },
      "source": [
        "y_hat_train = clf.predict(X_train)\n",
        "y_hat_test = clf.predict(X_test)"
      ],
      "execution_count": 0,
      "outputs": []
    },
    {
      "cell_type": "code",
      "metadata": {
        "colab_type": "code",
        "outputId": "9bd17120-4235-40b0-bc2a-10b0991efe72",
        "id": "hXA8To6hCvJQ",
        "colab": {
          "base_uri": "https://localhost:8080/",
          "height": 34
        }
      },
      "source": [
        "precision_score(y_train, y_hat_train, average='micro'), precision_score(y_test, y_hat_test, average='micro')"
      ],
      "execution_count": 0,
      "outputs": [
        {
          "output_type": "execute_result",
          "data": {
            "text/plain": [
              "(0.9310395101326724, 0.8675405312176613)"
            ]
          },
          "metadata": {
            "tags": []
          },
          "execution_count": 43
        }
      ]
    },
    {
      "cell_type": "code",
      "metadata": {
        "colab_type": "code",
        "outputId": "2255ff9d-e531-407f-ff5b-222e8ddd2070",
        "id": "PfoAvMBmCvJa",
        "colab": {
          "base_uri": "https://localhost:8080/",
          "height": 34
        }
      },
      "source": [
        "recall_score(y_train, y_hat_train, average='micro'), recall_score(y_test, y_hat_test, average='micro')"
      ],
      "execution_count": 0,
      "outputs": [
        {
          "output_type": "execute_result",
          "data": {
            "text/plain": [
              "(0.8998168240101452, 0.8273026315789473)"
            ]
          },
          "metadata": {
            "tags": []
          },
          "execution_count": 44
        }
      ]
    },
    {
      "cell_type": "code",
      "metadata": {
        "id": "tHsceKXNirnN",
        "colab_type": "code",
        "outputId": "55613730-6be5-491d-f533-c27b62876ba8",
        "colab": {
          "base_uri": "https://localhost:8080/",
          "height": 34
        }
      },
      "source": [
        "f1_score(y_train, y_hat_train, average='micro'), f1_score(y_test, y_hat_test, average='micro')"
      ],
      "execution_count": 0,
      "outputs": [
        {
          "output_type": "execute_result",
          "data": {
            "text/plain": [
              "(0.9151619375179134, 0.8469439299545377)"
            ]
          },
          "metadata": {
            "tags": []
          },
          "execution_count": 45
        }
      ]
    },
    {
      "cell_type": "code",
      "metadata": {
        "id": "FPZTAeNaMA8B",
        "colab_type": "code",
        "outputId": "2ccf35f2-eb0d-461a-b875-cce440c3fdbf",
        "colab": {
          "base_uri": "https://localhost:8080/",
          "height": 530
        }
      },
      "source": [
        "print(classification_report(y_test, y_hat_test))"
      ],
      "execution_count": 0,
      "outputs": [
        {
          "output_type": "stream",
          "text": [
            "              precision    recall  f1-score   support\n",
            "\n",
            "           0       0.76      0.69      0.73       491\n",
            "           1       1.00      0.42      0.59        55\n",
            "           2       0.00      0.00      0.00         7\n",
            "           3       0.00      0.00      0.00        21\n",
            "           4       0.98      0.74      0.84       111\n",
            "           5       0.97      0.90      0.93      1626\n",
            "           6       0.00      0.00      0.00         0\n",
            "           7       1.00      0.29      0.44        14\n",
            "           8       1.00      0.08      0.15        12\n",
            "           9       0.85      0.69      0.76        68\n",
            "          10       0.89      0.96      0.92       160\n",
            "          11       0.00      0.00      0.00         4\n",
            "          12       1.00      0.13      0.24        15\n",
            "          13       1.00      0.33      0.50        15\n",
            "          14       0.66      0.90      0.76       441\n",
            "\n",
            "   micro avg       0.87      0.83      0.85      3040\n",
            "   macro avg       0.67      0.41      0.46      3040\n",
            "weighted avg       0.88      0.83      0.84      3040\n",
            " samples avg       0.85      0.84      0.84      3040\n",
            "\n"
          ],
          "name": "stdout"
        },
        {
          "output_type": "stream",
          "text": [
            "/usr/local/lib/python3.6/dist-packages/sklearn/metrics/_classification.py:1272: UndefinedMetricWarning: Precision and F-score are ill-defined and being set to 0.0 in labels with no predicted samples. Use `zero_division` parameter to control this behavior.\n",
            "  _warn_prf(average, modifier, msg_start, len(result))\n",
            "/usr/local/lib/python3.6/dist-packages/sklearn/metrics/_classification.py:1272: UndefinedMetricWarning: Recall and F-score are ill-defined and being set to 0.0 in labels with no true samples. Use `zero_division` parameter to control this behavior.\n",
            "  _warn_prf(average, modifier, msg_start, len(result))\n",
            "/usr/local/lib/python3.6/dist-packages/sklearn/metrics/_classification.py:1272: UndefinedMetricWarning: Precision and F-score are ill-defined and being set to 0.0 in samples with no predicted labels. Use `zero_division` parameter to control this behavior.\n",
            "  _warn_prf(average, modifier, msg_start, len(result))\n"
          ],
          "name": "stderr"
        }
      ]
    },
    {
      "cell_type": "code",
      "metadata": {
        "id": "znm581IbmyXH",
        "colab_type": "code",
        "outputId": "87ae2d4b-8a25-426f-c766-46e4b71bff21",
        "colab": {
          "base_uri": "https://localhost:8080/",
          "height": 765
        }
      },
      "source": [
        "print(multilabel_confusion_matrix(y_test, y_hat_test))"
      ],
      "execution_count": 0,
      "outputs": [
        {
          "output_type": "stream",
          "text": [
            "[[[2091  106]\n",
            "  [ 151  340]]\n",
            "\n",
            " [[2633    0]\n",
            "  [  32   23]]\n",
            "\n",
            " [[2681    0]\n",
            "  [   7    0]]\n",
            "\n",
            " [[2667    0]\n",
            "  [  21    0]]\n",
            "\n",
            " [[2575    2]\n",
            "  [  29   82]]\n",
            "\n",
            " [[1012   50]\n",
            "  [ 165 1461]]\n",
            "\n",
            " [[2688    0]\n",
            "  [   0    0]]\n",
            "\n",
            " [[2674    0]\n",
            "  [  10    4]]\n",
            "\n",
            " [[2676    0]\n",
            "  [  11    1]]\n",
            "\n",
            " [[2612    8]\n",
            "  [  21   47]]\n",
            "\n",
            " [[2510   18]\n",
            "  [   7  153]]\n",
            "\n",
            " [[2684    0]\n",
            "  [   4    0]]\n",
            "\n",
            " [[2673    0]\n",
            "  [  13    2]]\n",
            "\n",
            " [[2673    0]\n",
            "  [  10    5]]\n",
            "\n",
            " [[2047  200]\n",
            "  [  44  397]]]\n"
          ],
          "name": "stdout"
        }
      ]
    },
    {
      "cell_type": "code",
      "metadata": {
        "id": "DjABJLIairnQ",
        "colab_type": "code",
        "outputId": "fe4ac9b1-0ae6-4a9f-8c4f-63c6c7ded9e6",
        "colab": {
          "base_uri": "https://localhost:8080/",
          "height": 255
        }
      },
      "source": [
        "param_grid = [{\"n_neighbors\": range(1,21)}]\n",
        "\n",
        "knn = KNeighborsClassifier()\n",
        "clf = GridSearchCV(knn, param_grid, cv = 5, verbose=10, n_jobs=-1, scoring='f1_micro')\n",
        "\n",
        "clf.fit(X_train, y_train)\n",
        "\n",
        "clf.best_params_, clf.best_score_"
      ],
      "execution_count": 0,
      "outputs": [
        {
          "output_type": "stream",
          "text": [
            "Fitting 5 folds for each of 20 candidates, totalling 100 fits\n"
          ],
          "name": "stdout"
        },
        {
          "output_type": "stream",
          "text": [
            "[Parallel(n_jobs=-1)]: Using backend LokyBackend with 4 concurrent workers.\n",
            "[Parallel(n_jobs=-1)]: Done   5 tasks      | elapsed:    4.4s\n",
            "[Parallel(n_jobs=-1)]: Done  10 tasks      | elapsed:    6.3s\n",
            "[Parallel(n_jobs=-1)]: Done  17 tasks      | elapsed:    9.8s\n",
            "[Parallel(n_jobs=-1)]: Done  24 tasks      | elapsed:   12.2s\n",
            "[Parallel(n_jobs=-1)]: Done  33 tasks      | elapsed:   18.0s\n",
            "[Parallel(n_jobs=-1)]: Done  42 tasks      | elapsed:   21.9s\n",
            "[Parallel(n_jobs=-1)]: Done  53 tasks      | elapsed:   26.9s\n",
            "[Parallel(n_jobs=-1)]: Done  64 tasks      | elapsed:   31.5s\n",
            "[Parallel(n_jobs=-1)]: Done  77 tasks      | elapsed:   37.4s\n",
            "[Parallel(n_jobs=-1)]: Done  90 tasks      | elapsed:   43.9s\n",
            "[Parallel(n_jobs=-1)]: Done 100 out of 100 | elapsed:   47.7s finished\n"
          ],
          "name": "stderr"
        },
        {
          "output_type": "execute_result",
          "data": {
            "text/plain": [
              "({'n_neighbors': 5}, 0.791348478952045)"
            ]
          },
          "metadata": {
            "tags": []
          },
          "execution_count": 48
        }
      ]
    },
    {
      "cell_type": "code",
      "metadata": {
        "id": "9RvByp5KirnS",
        "colab_type": "code",
        "colab": {}
      },
      "source": [
        "y_hat_test = clf.predict(X_test)"
      ],
      "execution_count": 0,
      "outputs": []
    },
    {
      "cell_type": "code",
      "metadata": {
        "id": "9IHaNjcgirnV",
        "colab_type": "code",
        "outputId": "20717006-9387-49f4-99c1-91251c8bc92b",
        "colab": {
          "base_uri": "https://localhost:8080/",
          "height": 34
        }
      },
      "source": [
        "f1_score(y_test, y_hat_test, average='micro')"
      ],
      "execution_count": 0,
      "outputs": [
        {
          "output_type": "execute_result",
          "data": {
            "text/plain": [
              "0.8469439299545377"
            ]
          },
          "metadata": {
            "tags": []
          },
          "execution_count": 50
        }
      ]
    },
    {
      "cell_type": "markdown",
      "metadata": {
        "id": "9Edkg9Erp-9R",
        "colab_type": "text"
      },
      "source": [
        "### Neural Network"
      ]
    },
    {
      "cell_type": "code",
      "metadata": {
        "id": "yGWHoBHxkT12",
        "colab_type": "code",
        "outputId": "f90a49c6-5dfd-4da4-9e7a-e20edc0b6c95",
        "colab": {
          "base_uri": "https://localhost:8080/",
          "height": 34
        }
      },
      "source": [
        "tf.__version__"
      ],
      "execution_count": 0,
      "outputs": [
        {
          "output_type": "execute_result",
          "data": {
            "text/plain": [
              "'2.2.0-rc3'"
            ]
          },
          "metadata": {
            "tags": []
          },
          "execution_count": 34
        }
      ]
    },
    {
      "cell_type": "code",
      "metadata": {
        "id": "rI9eQOB0kV6C",
        "colab_type": "code",
        "outputId": "2fcb1627-2254-4847-f75e-3c7d12ca7fee",
        "colab": {
          "base_uri": "https://localhost:8080/",
          "height": 476
        }
      },
      "source": [
        "device_lib.list_local_devices()"
      ],
      "execution_count": 0,
      "outputs": [
        {
          "output_type": "execute_result",
          "data": {
            "text/plain": [
              "[name: \"/device:CPU:0\"\n",
              " device_type: \"CPU\"\n",
              " memory_limit: 268435456\n",
              " locality {\n",
              " }\n",
              " incarnation: 17740025158728597866, name: \"/device:XLA_CPU:0\"\n",
              " device_type: \"XLA_CPU\"\n",
              " memory_limit: 17179869184\n",
              " locality {\n",
              " }\n",
              " incarnation: 6601586473274676401\n",
              " physical_device_desc: \"device: XLA_CPU device\", name: \"/device:XLA_GPU:0\"\n",
              " device_type: \"XLA_GPU\"\n",
              " memory_limit: 17179869184\n",
              " locality {\n",
              " }\n",
              " incarnation: 17166799390621081162\n",
              " physical_device_desc: \"device: XLA_GPU device\", name: \"/device:GPU:0\"\n",
              " device_type: \"GPU\"\n",
              " memory_limit: 11150726272\n",
              " locality {\n",
              "   bus_id: 1\n",
              "   links {\n",
              "   }\n",
              " }\n",
              " incarnation: 15794637764607165208\n",
              " physical_device_desc: \"device: 0, name: Tesla K80, pci bus id: 0000:00:04.0, compute capability: 3.7\"]"
            ]
          },
          "metadata": {
            "tags": []
          },
          "execution_count": 35
        }
      ]
    },
    {
      "cell_type": "code",
      "metadata": {
        "id": "GBSq26v3kXDr",
        "colab_type": "code",
        "outputId": "c4ab5769-35cc-465c-cf86-b220fe82f2e2",
        "colab": {
          "base_uri": "https://localhost:8080/",
          "height": 1000
        }
      },
      "source": [
        "!cat /proc/cpuinfo"
      ],
      "execution_count": 0,
      "outputs": [
        {
          "output_type": "stream",
          "text": [
            "processor\t: 0\n",
            "vendor_id\t: GenuineIntel\n",
            "cpu family\t: 6\n",
            "model\t\t: 63\n",
            "model name\t: Intel(R) Xeon(R) CPU @ 2.30GHz\n",
            "stepping\t: 0\n",
            "microcode\t: 0x1\n",
            "cpu MHz\t\t: 2300.000\n",
            "cache size\t: 46080 KB\n",
            "physical id\t: 0\n",
            "siblings\t: 4\n",
            "core id\t\t: 0\n",
            "cpu cores\t: 2\n",
            "apicid\t\t: 0\n",
            "initial apicid\t: 0\n",
            "fpu\t\t: yes\n",
            "fpu_exception\t: yes\n",
            "cpuid level\t: 13\n",
            "wp\t\t: yes\n",
            "flags\t\t: fpu vme de pse tsc msr pae mce cx8 apic sep mtrr pge mca cmov pat pse36 clflush mmx fxsr sse sse2 ss ht syscall nx pdpe1gb rdtscp lm constant_tsc rep_good nopl xtopology nonstop_tsc cpuid tsc_known_freq pni pclmulqdq ssse3 fma cx16 pcid sse4_1 sse4_2 x2apic movbe popcnt aes xsave avx f16c rdrand hypervisor lahf_lm abm invpcid_single ssbd ibrs ibpb stibp fsgsbase tsc_adjust bmi1 avx2 smep bmi2 erms invpcid xsaveopt arat md_clear arch_capabilities\n",
            "bugs\t\t: cpu_meltdown spectre_v1 spectre_v2 spec_store_bypass l1tf mds swapgs itlb_multihit\n",
            "bogomips\t: 4600.00\n",
            "clflush size\t: 64\n",
            "cache_alignment\t: 64\n",
            "address sizes\t: 46 bits physical, 48 bits virtual\n",
            "power management:\n",
            "\n",
            "processor\t: 1\n",
            "vendor_id\t: GenuineIntel\n",
            "cpu family\t: 6\n",
            "model\t\t: 63\n",
            "model name\t: Intel(R) Xeon(R) CPU @ 2.30GHz\n",
            "stepping\t: 0\n",
            "microcode\t: 0x1\n",
            "cpu MHz\t\t: 2300.000\n",
            "cache size\t: 46080 KB\n",
            "physical id\t: 0\n",
            "siblings\t: 4\n",
            "core id\t\t: 1\n",
            "cpu cores\t: 2\n",
            "apicid\t\t: 2\n",
            "initial apicid\t: 2\n",
            "fpu\t\t: yes\n",
            "fpu_exception\t: yes\n",
            "cpuid level\t: 13\n",
            "wp\t\t: yes\n",
            "flags\t\t: fpu vme de pse tsc msr pae mce cx8 apic sep mtrr pge mca cmov pat pse36 clflush mmx fxsr sse sse2 ss ht syscall nx pdpe1gb rdtscp lm constant_tsc rep_good nopl xtopology nonstop_tsc cpuid tsc_known_freq pni pclmulqdq ssse3 fma cx16 pcid sse4_1 sse4_2 x2apic movbe popcnt aes xsave avx f16c rdrand hypervisor lahf_lm abm invpcid_single ssbd ibrs ibpb stibp fsgsbase tsc_adjust bmi1 avx2 smep bmi2 erms invpcid xsaveopt arat md_clear arch_capabilities\n",
            "bugs\t\t: cpu_meltdown spectre_v1 spectre_v2 spec_store_bypass l1tf mds swapgs itlb_multihit\n",
            "bogomips\t: 4600.00\n",
            "clflush size\t: 64\n",
            "cache_alignment\t: 64\n",
            "address sizes\t: 46 bits physical, 48 bits virtual\n",
            "power management:\n",
            "\n",
            "processor\t: 2\n",
            "vendor_id\t: GenuineIntel\n",
            "cpu family\t: 6\n",
            "model\t\t: 63\n",
            "model name\t: Intel(R) Xeon(R) CPU @ 2.30GHz\n",
            "stepping\t: 0\n",
            "microcode\t: 0x1\n",
            "cpu MHz\t\t: 2300.000\n",
            "cache size\t: 46080 KB\n",
            "physical id\t: 0\n",
            "siblings\t: 4\n",
            "core id\t\t: 0\n",
            "cpu cores\t: 2\n",
            "apicid\t\t: 1\n",
            "initial apicid\t: 1\n",
            "fpu\t\t: yes\n",
            "fpu_exception\t: yes\n",
            "cpuid level\t: 13\n",
            "wp\t\t: yes\n",
            "flags\t\t: fpu vme de pse tsc msr pae mce cx8 apic sep mtrr pge mca cmov pat pse36 clflush mmx fxsr sse sse2 ss ht syscall nx pdpe1gb rdtscp lm constant_tsc rep_good nopl xtopology nonstop_tsc cpuid tsc_known_freq pni pclmulqdq ssse3 fma cx16 pcid sse4_1 sse4_2 x2apic movbe popcnt aes xsave avx f16c rdrand hypervisor lahf_lm abm invpcid_single ssbd ibrs ibpb stibp fsgsbase tsc_adjust bmi1 avx2 smep bmi2 erms invpcid xsaveopt arat md_clear arch_capabilities\n",
            "bugs\t\t: cpu_meltdown spectre_v1 spectre_v2 spec_store_bypass l1tf mds swapgs itlb_multihit\n",
            "bogomips\t: 4600.00\n",
            "clflush size\t: 64\n",
            "cache_alignment\t: 64\n",
            "address sizes\t: 46 bits physical, 48 bits virtual\n",
            "power management:\n",
            "\n",
            "processor\t: 3\n",
            "vendor_id\t: GenuineIntel\n",
            "cpu family\t: 6\n",
            "model\t\t: 63\n",
            "model name\t: Intel(R) Xeon(R) CPU @ 2.30GHz\n",
            "stepping\t: 0\n",
            "microcode\t: 0x1\n",
            "cpu MHz\t\t: 2300.000\n",
            "cache size\t: 46080 KB\n",
            "physical id\t: 0\n",
            "siblings\t: 4\n",
            "core id\t\t: 1\n",
            "cpu cores\t: 2\n",
            "apicid\t\t: 3\n",
            "initial apicid\t: 3\n",
            "fpu\t\t: yes\n",
            "fpu_exception\t: yes\n",
            "cpuid level\t: 13\n",
            "wp\t\t: yes\n",
            "flags\t\t: fpu vme de pse tsc msr pae mce cx8 apic sep mtrr pge mca cmov pat pse36 clflush mmx fxsr sse sse2 ss ht syscall nx pdpe1gb rdtscp lm constant_tsc rep_good nopl xtopology nonstop_tsc cpuid tsc_known_freq pni pclmulqdq ssse3 fma cx16 pcid sse4_1 sse4_2 x2apic movbe popcnt aes xsave avx f16c rdrand hypervisor lahf_lm abm invpcid_single ssbd ibrs ibpb stibp fsgsbase tsc_adjust bmi1 avx2 smep bmi2 erms invpcid xsaveopt arat md_clear arch_capabilities\n",
            "bugs\t\t: cpu_meltdown spectre_v1 spectre_v2 spec_store_bypass l1tf mds swapgs itlb_multihit\n",
            "bogomips\t: 4600.00\n",
            "clflush size\t: 64\n",
            "cache_alignment\t: 64\n",
            "address sizes\t: 46 bits physical, 48 bits virtual\n",
            "power management:\n",
            "\n"
          ],
          "name": "stdout"
        }
      ]
    },
    {
      "cell_type": "code",
      "metadata": {
        "id": "whBUMvvDkYYK",
        "colab_type": "code",
        "outputId": "8d77e90e-17d3-4ad4-fb09-bfffbc312f8b",
        "colab": {
          "base_uri": "https://localhost:8080/",
          "height": 816
        }
      },
      "source": [
        "!cat /proc/meminfo"
      ],
      "execution_count": 0,
      "outputs": [
        {
          "output_type": "stream",
          "text": [
            "MemTotal:       26751700 kB\n",
            "MemFree:        19649836 kB\n",
            "MemAvailable:   25042452 kB\n",
            "Buffers:          102364 kB\n",
            "Cached:          5334452 kB\n",
            "SwapCached:            0 kB\n",
            "Active:          1946016 kB\n",
            "Inactive:        4643188 kB\n",
            "Active(anon):     992192 kB\n",
            "Inactive(anon):     2384 kB\n",
            "Active(file):     953824 kB\n",
            "Inactive(file):  4640804 kB\n",
            "Unevictable:           0 kB\n",
            "Mlocked:               0 kB\n",
            "SwapTotal:             0 kB\n",
            "SwapFree:              0 kB\n",
            "Dirty:              1792 kB\n",
            "Writeback:             0 kB\n",
            "AnonPages:       1152356 kB\n",
            "Mapped:           705140 kB\n",
            "Shmem:              2984 kB\n",
            "Slab:             282176 kB\n",
            "SReclaimable:     211908 kB\n",
            "SUnreclaim:        70268 kB\n",
            "KernelStack:        5112 kB\n",
            "PageTables:        10668 kB\n",
            "NFS_Unstable:          0 kB\n",
            "Bounce:                0 kB\n",
            "WritebackTmp:          0 kB\n",
            "CommitLimit:    13375848 kB\n",
            "Committed_AS:    4049372 kB\n",
            "VmallocTotal:   34359738367 kB\n",
            "VmallocUsed:           0 kB\n",
            "VmallocChunk:          0 kB\n",
            "Percpu:             1920 kB\n",
            "AnonHugePages:     14336 kB\n",
            "ShmemHugePages:        0 kB\n",
            "ShmemPmdMapped:        0 kB\n",
            "HugePages_Total:       0\n",
            "HugePages_Free:        0\n",
            "HugePages_Rsvd:        0\n",
            "HugePages_Surp:        0\n",
            "Hugepagesize:       2048 kB\n",
            "Hugetlb:               0 kB\n",
            "DirectMap4k:      255164 kB\n",
            "DirectMap2M:     9181184 kB\n",
            "DirectMap1G:    19922944 kB\n"
          ],
          "name": "stdout"
        }
      ]
    },
    {
      "cell_type": "code",
      "metadata": {
        "id": "G2UmnEepirna",
        "colab_type": "code",
        "colab": {}
      },
      "source": [
        "batch_size = 64\n",
        "\n",
        "def batch_generator(X, y, batch_size):\n",
        "    number_of_batches = np.ceil(X.shape[0]/batch_size)\n",
        "    counter=0\n",
        "    shuffle_index = np.arange(np.shape(y)[0])\n",
        "    np.random.shuffle(shuffle_index)\n",
        "    X =  X[shuffle_index, :]\n",
        "    y =  y[shuffle_index,:]\n",
        "    while 1:\n",
        "        index_batch = shuffle_index[batch_size*counter:batch_size*(counter+1)]\n",
        "        X_batch = X[index_batch,:].todense()\n",
        "        y_batch = y[index_batch,:]\n",
        "        counter += 1\n",
        "        yield(np.array(X_batch),y_batch)\n",
        "        if (counter >= number_of_batches):\n",
        "            np.random.shuffle(shuffle_index)\n",
        "            counter=0\n",
        "\n",
        "def compute_f1(y_true, y_pred): #taken from old keras source code\n",
        "    true_positives = K.sum(K.round(K.clip(y_true * y_pred, 0, 1)))\n",
        "    possible_positives = K.sum(K.round(K.clip(y_true, 0, 1)))\n",
        "    predicted_positives = K.sum(K.round(K.clip(y_pred, 0, 1)))\n",
        "    precision = true_positives / (predicted_positives + K.epsilon())\n",
        "    recall = true_positives / (possible_positives + K.epsilon())\n",
        "    f1_val = 2*(precision*recall)/(precision + recall + K.epsilon())\n",
        "    return f1_val\n",
        "\n",
        "es = EarlyStopping(monitor='loss', verbose=1, mode='min', patience = 2, min_delta=0.01)"
      ],
      "execution_count": 0,
      "outputs": []
    },
    {
      "cell_type": "code",
      "metadata": {
        "id": "M-YinS9cirnd",
        "colab_type": "code",
        "colab": {}
      },
      "source": [
        "def get_model(input_dim):\n",
        "  with tf.device('/device:GPU:0'):\n",
        "    model = Sequential()\n",
        "    model.add(Dense(1024, activation='relu', input_dim=input_dim))\n",
        "    model.add(Dropout(0.2))\n",
        "    model.add(Dense(512, activation='relu'))\n",
        "    model.add(Dropout(0.2))\n",
        "    model.add(Dense(256, activation='relu'))\n",
        "    model.add(Dropout(0.2))\n",
        "    model.add(Dense(128, activation='relu'))\n",
        "    model.add(Dropout(0.2))\n",
        "    model.add(Dense(64, activation='relu'))\n",
        "    model.add(Dense(len(mlb.classes_), activation='sigmoid'))\n",
        "    model.compile(optimizer='adam',\n",
        "              loss='categorical_crossentropy',\n",
        "              metrics=['accuracy', compute_f1])\n",
        "    \n",
        "    return model"
      ],
      "execution_count": 0,
      "outputs": []
    },
    {
      "cell_type": "code",
      "metadata": {
        "id": "uQECFlCS2Ciz",
        "colab_type": "code",
        "colab": {}
      },
      "source": [
        "model = get_model(X_train.shape[1])"
      ],
      "execution_count": 0,
      "outputs": []
    },
    {
      "cell_type": "code",
      "metadata": {
        "id": "ucPn0Ydvirng",
        "colab_type": "code",
        "colab": {}
      },
      "source": [
        "model.summary()"
      ],
      "execution_count": 0,
      "outputs": []
    },
    {
      "cell_type": "code",
      "metadata": {
        "id": "eUuMNhUWirnj",
        "colab_type": "code",
        "outputId": "547fcf6d-a4b7-437b-c63e-327813c1af7f",
        "colab": {
          "base_uri": "https://localhost:8080/",
          "height": 374
        }
      },
      "source": [
        "history = model.fit(x=batch_generator(X_train, y_train, batch_size),\n",
        "                    epochs=20,\n",
        "                    callbacks=[es],\n",
        "                    steps_per_epoch=np.ceil(X_train.shape[0]/batch_size),\n",
        "                    #class_weight=class_weights,\n",
        "                    use_multiprocessing=False)"
      ],
      "execution_count": 0,
      "outputs": [
        {
          "output_type": "stream",
          "text": [
            "Epoch 1/20\n",
            "99/99 [==============================] - 2s 24ms/step - loss: 1.2573 - accuracy: 0.5177 - compute_f1: 0.6369\n",
            "Epoch 2/20\n",
            "99/99 [==============================] - 2s 24ms/step - loss: 0.5884 - accuracy: 0.7979 - compute_f1: 0.8599\n",
            "Epoch 3/20\n",
            "99/99 [==============================] - 2s 24ms/step - loss: 0.4147 - accuracy: 0.8698 - compute_f1: 0.9189\n",
            "Epoch 4/20\n",
            "99/99 [==============================] - 2s 24ms/step - loss: 0.3672 - accuracy: 0.8822 - compute_f1: 0.9361\n",
            "Epoch 5/20\n",
            "99/99 [==============================] - 2s 24ms/step - loss: 0.3325 - accuracy: 0.8759 - compute_f1: 0.9388\n",
            "Epoch 6/20\n",
            "99/99 [==============================] - 2s 24ms/step - loss: 0.3142 - accuracy: 0.8665 - compute_f1: 0.9465\n",
            "Epoch 7/20\n",
            "99/99 [==============================] - 2s 24ms/step - loss: 0.2961 - accuracy: 0.8767 - compute_f1: 0.9543\n",
            "Epoch 8/20\n",
            "99/99 [==============================] - 2s 24ms/step - loss: 0.2847 - accuracy: 0.8916 - compute_f1: 0.9569\n",
            "Epoch 9/20\n",
            "99/99 [==============================] - 2s 24ms/step - loss: 0.2843 - accuracy: 0.8773 - compute_f1: 0.9546\n",
            "Epoch 10/20\n",
            "99/99 [==============================] - 3s 28ms/step - loss: 0.2771 - accuracy: 0.8759 - compute_f1: 0.9581\n",
            "Epoch 00010: early stopping\n"
          ],
          "name": "stdout"
        }
      ]
    },
    {
      "cell_type": "code",
      "metadata": {
        "id": "kxOQKmoqirnl",
        "colab_type": "code",
        "colab": {}
      },
      "source": [
        "model.save(\"/content/drive/My Drive/Colab Notebooks/whatsout/model_nn.h5\")"
      ],
      "execution_count": 0,
      "outputs": []
    },
    {
      "cell_type": "code",
      "metadata": {
        "id": "wx5UEu6GMNES",
        "colab_type": "code",
        "outputId": "082c2082-9169-491e-c914-eead8c9e820b",
        "colab": {
          "base_uri": "https://localhost:8080/",
          "height": 34
        }
      },
      "source": [
        "history.history['compute_f1'][-1]"
      ],
      "execution_count": 0,
      "outputs": [
        {
          "output_type": "execute_result",
          "data": {
            "text/plain": [
              "0.9581371545791626"
            ]
          },
          "metadata": {
            "tags": []
          },
          "execution_count": 116
        }
      ]
    },
    {
      "cell_type": "code",
      "metadata": {
        "id": "n6LLcpc1irnn",
        "colab_type": "code",
        "colab": {}
      },
      "source": [
        "model = tensorflow.keras.models.load_model(\"/content/drive/My Drive/Colab Notebooks/whatsout/model_nn.h5\", custom_objects={\"compute_f1\": compute_f1})"
      ],
      "execution_count": 0,
      "outputs": []
    },
    {
      "cell_type": "code",
      "metadata": {
        "id": "u_lMqSvTirnq",
        "colab_type": "code",
        "outputId": "c19f50f4-dcd0-4ee4-aee0-e8b839177cb2",
        "colab": {
          "base_uri": "https://localhost:8080/",
          "height": 34
        }
      },
      "source": [
        "score = model.evaluate(x=batch_generator(X_test, y_test, batch_size), verbose=1,\n",
        "                       steps=np.ceil(X_test.shape[0]/batch_size),\n",
        "                       use_multiprocessing=False)"
      ],
      "execution_count": 0,
      "outputs": [
        {
          "output_type": "stream",
          "text": [
            "42/42 [==============================] - 1s 13ms/step - loss: 0.5748 - accuracy: 0.8211 - compute_f1: 0.9131\n"
          ],
          "name": "stdout"
        }
      ]
    },
    {
      "cell_type": "code",
      "metadata": {
        "id": "qKUGL1Zoirnt",
        "colab_type": "code",
        "outputId": "f100666e-e59e-4f6f-8a1b-1124848d49d6",
        "colab": {
          "base_uri": "https://localhost:8080/",
          "height": 34
        }
      },
      "source": [
        "print(\"Test F1 score:\", score[2])"
      ],
      "execution_count": 0,
      "outputs": [
        {
          "output_type": "stream",
          "text": [
            "Test F1 score: 0.9130619764328003\n"
          ],
          "name": "stdout"
        }
      ]
    },
    {
      "cell_type": "code",
      "metadata": {
        "id": "sIuuA8LUirnw",
        "colab_type": "code",
        "outputId": "6f03eb44-a0ec-4790-f882-bd34d30495a2",
        "colab": {
          "base_uri": "https://localhost:8080/",
          "height": 1000
        }
      },
      "source": [
        "folds = MultilabelStratifiedKFold(n_splits=5, random_state=123, shuffle=True)\n",
        "cvscores = []\n",
        "\n",
        "for i, (train, val) in enumerate(folds.split(X2, y)):\n",
        "    print('\\nFold',str(i),'\\n')\n",
        "    model = get_model(X2.shape[1])\n",
        "    history = model.fit(x=batch_generator(X2[train], y[train], batch_size),\n",
        "                    epochs=20,\n",
        "                    callbacks=[es],\n",
        "                    steps_per_epoch=np.ceil(X2[train].shape[0]/batch_size),\n",
        "                    #class_weight='balanced',\n",
        "                    use_multiprocessing=False)\n",
        "    \n",
        "    scores = model.evaluate(x=batch_generator(X2[val], y[val], batch_size), verbose=1,\n",
        "                            steps=np.ceil(X2[val].shape[0]/batch_size),\n",
        "                            use_multiprocessing=False)\n",
        "    \n",
        "    cvscores.append(scores[1])"
      ],
      "execution_count": 0,
      "outputs": [
        {
          "output_type": "stream",
          "text": [
            "\n",
            "Fold 0 \n",
            "\n",
            "Epoch 1/20\n",
            "112/112 [==============================] - 3s 25ms/step - loss: 1.0142 - accuracy: 0.6619 - compute_f1: 0.7329\n",
            "Epoch 2/20\n",
            "112/112 [==============================] - 3s 25ms/step - loss: 0.4502 - accuracy: 0.8330 - compute_f1: 0.8991\n",
            "Epoch 3/20\n",
            "112/112 [==============================] - 3s 25ms/step - loss: 0.3559 - accuracy: 0.8686 - compute_f1: 0.9256\n",
            "Epoch 4/20\n",
            "112/112 [==============================] - 3s 24ms/step - loss: 0.3299 - accuracy: 0.9044 - compute_f1: 0.9337\n",
            "Epoch 5/20\n",
            "112/112 [==============================] - 3s 24ms/step - loss: 0.2990 - accuracy: 0.9005 - compute_f1: 0.9433\n",
            "Epoch 6/20\n",
            "112/112 [==============================] - 3s 24ms/step - loss: 0.2802 - accuracy: 0.8936 - compute_f1: 0.9538\n",
            "Epoch 7/20\n",
            "112/112 [==============================] - 3s 24ms/step - loss: 0.2773 - accuracy: 0.8732 - compute_f1: 0.9562\n",
            "Epoch 8/20\n",
            "112/112 [==============================] - 3s 24ms/step - loss: 0.2779 - accuracy: 0.8979 - compute_f1: 0.9543\n",
            "Epoch 00008: early stopping\n",
            "29/29 [==============================] - 0s 11ms/step - loss: 0.5777 - accuracy: 0.8628 - compute_f1: 0.9179\n",
            "\n",
            "Fold 1 \n",
            "\n",
            "Epoch 1/20\n",
            "113/113 [==============================] - 3s 23ms/step - loss: 1.0018 - accuracy: 0.6312 - compute_f1: 0.7226\n",
            "Epoch 2/20\n",
            "113/113 [==============================] - 3s 23ms/step - loss: 0.4548 - accuracy: 0.8168 - compute_f1: 0.8878\n",
            "Epoch 3/20\n",
            "113/113 [==============================] - 3s 23ms/step - loss: 0.3590 - accuracy: 0.8752 - compute_f1: 0.9262\n",
            "Epoch 4/20\n",
            "113/113 [==============================] - 3s 24ms/step - loss: 0.3164 - accuracy: 0.8539 - compute_f1: 0.9427\n",
            "Epoch 5/20\n",
            "113/113 [==============================] - 3s 24ms/step - loss: 0.2982 - accuracy: 0.8627 - compute_f1: 0.9477\n",
            "Epoch 6/20\n",
            "113/113 [==============================] - 3s 24ms/step - loss: 0.2805 - accuracy: 0.8835 - compute_f1: 0.9544\n",
            "Epoch 7/20\n",
            "113/113 [==============================] - 3s 24ms/step - loss: 0.2737 - accuracy: 0.9006 - compute_f1: 0.9569\n",
            "Epoch 8/20\n",
            "113/113 [==============================] - 3s 24ms/step - loss: 0.2601 - accuracy: 0.8892 - compute_f1: 0.9609\n",
            "Epoch 9/20\n",
            "113/113 [==============================] - 3s 24ms/step - loss: 0.2612 - accuracy: 0.9023 - compute_f1: 0.9641\n",
            "Epoch 10/20\n",
            "113/113 [==============================] - 3s 24ms/step - loss: 0.2643 - accuracy: 0.8821 - compute_f1: 0.9608\n",
            "Epoch 00010: early stopping\n",
            "28/28 [==============================] - 0s 12ms/step - loss: 0.6034 - accuracy: 0.8418 - compute_f1: 0.9164\n",
            "\n",
            "Fold 2 \n",
            "\n",
            "Epoch 1/20\n",
            "113/113 [==============================] - 3s 24ms/step - loss: 1.0148 - accuracy: 0.5052 - compute_f1: 0.7048\n",
            "Epoch 2/20\n",
            "113/113 [==============================] - 3s 23ms/step - loss: 0.5603 - accuracy: 0.6956 - compute_f1: 0.8277\n",
            "Epoch 3/20\n",
            "113/113 [==============================] - 3s 24ms/step - loss: 0.3970 - accuracy: 0.8417 - compute_f1: 0.9122\n",
            "Epoch 4/20\n",
            "113/113 [==============================] - 3s 24ms/step - loss: 0.3483 - accuracy: 0.8603 - compute_f1: 0.9269\n",
            "Epoch 5/20\n",
            "113/113 [==============================] - 3s 24ms/step - loss: 0.3097 - accuracy: 0.8892 - compute_f1: 0.9447\n",
            "Epoch 6/20\n",
            "113/113 [==============================] - 3s 24ms/step - loss: 0.2936 - accuracy: 0.8968 - compute_f1: 0.9516\n",
            "Epoch 7/20\n",
            "113/113 [==============================] - 3s 24ms/step - loss: 0.2863 - accuracy: 0.9138 - compute_f1: 0.9525\n",
            "Epoch 8/20\n",
            "113/113 [==============================] - 3s 24ms/step - loss: 0.2903 - accuracy: 0.9113 - compute_f1: 0.9552\n",
            "Epoch 00008: early stopping\n",
            "28/28 [==============================] - 0s 11ms/step - loss: 0.5507 - accuracy: 0.8826 - compute_f1: 0.9183\n",
            "\n",
            "Fold 3 \n",
            "\n",
            "Epoch 1/20\n",
            "113/113 [==============================] - 3s 23ms/step - loss: 1.0651 - accuracy: 0.5034 - compute_f1: 0.6807\n",
            "Epoch 2/20\n",
            "113/113 [==============================] - 3s 23ms/step - loss: 0.6695 - accuracy: 0.5147 - compute_f1: 0.7644\n",
            "Epoch 3/20\n",
            "113/113 [==============================] - 3s 24ms/step - loss: 0.6147 - accuracy: 0.5285 - compute_f1: 0.7801\n",
            "Epoch 4/20\n",
            "113/113 [==============================] - 3s 24ms/step - loss: 0.5950 - accuracy: 0.5304 - compute_f1: 0.7865\n",
            "Epoch 5/20\n",
            "113/113 [==============================] - 3s 24ms/step - loss: 0.5858 - accuracy: 0.5420 - compute_f1: 0.7873\n",
            "Epoch 6/20\n",
            "113/113 [==============================] - 3s 24ms/step - loss: 0.5890 - accuracy: 0.5636 - compute_f1: 0.7887\n",
            "Epoch 00006: early stopping\n",
            "28/28 [==============================] - 0s 11ms/step - loss: 0.8253 - accuracy: 0.5502 - compute_f1: 0.7618\n",
            "\n",
            "Fold 4 \n",
            "\n",
            "Epoch 1/20\n",
            "113/113 [==============================] - 3s 23ms/step - loss: 0.9337 - accuracy: 0.6573 - compute_f1: 0.7225\n",
            "Epoch 2/20\n",
            "113/113 [==============================] - 3s 23ms/step - loss: 0.4336 - accuracy: 0.8796 - compute_f1: 0.8921\n",
            "Epoch 3/20\n",
            "113/113 [==============================] - 3s 23ms/step - loss: 0.3292 - accuracy: 0.9075 - compute_f1: 0.9305\n",
            "Epoch 4/20\n",
            "113/113 [==============================] - 3s 23ms/step - loss: 0.3093 - accuracy: 0.8654 - compute_f1: 0.9301\n",
            "Epoch 5/20\n",
            "113/113 [==============================] - 3s 23ms/step - loss: 0.2803 - accuracy: 0.9012 - compute_f1: 0.9469\n",
            "Epoch 6/20\n",
            "113/113 [==============================] - 3s 24ms/step - loss: 0.2718 - accuracy: 0.8806 - compute_f1: 0.9478\n",
            "Epoch 7/20\n",
            "113/113 [==============================] - 3s 23ms/step - loss: 0.2740 - accuracy: 0.9071 - compute_f1: 0.9531\n",
            "Epoch 00007: early stopping\n",
            "29/29 [==============================] - 0s 11ms/step - loss: 0.5574 - accuracy: 0.8879 - compute_f1: 0.9018\n"
          ],
          "name": "stdout"
        }
      ]
    },
    {
      "cell_type": "code",
      "metadata": {
        "id": "lvvjfOjRtQGp",
        "colab_type": "code",
        "outputId": "e932cb80-08eb-444f-87d9-e6bdf4d17ff2",
        "colab": {
          "base_uri": "https://localhost:8080/",
          "height": 34
        }
      },
      "source": [
        "print(np.mean(cvscores))"
      ],
      "execution_count": 0,
      "outputs": [
        {
          "output_type": "stream",
          "text": [
            "0.8050758957862854\n"
          ],
          "name": "stdout"
        }
      ]
    },
    {
      "cell_type": "markdown",
      "metadata": {
        "id": "3WjYeyD0qEpF",
        "colab_type": "text"
      },
      "source": [
        "### Classifier Chain"
      ]
    },
    {
      "cell_type": "code",
      "metadata": {
        "id": "lqktqkU2irny",
        "colab_type": "code",
        "colab": {}
      },
      "source": [
        "def CC_problem(train, lbl_train, test, lbl_test, save_model = False):\n",
        "  clf = ClassifierChain(\n",
        "      classifier = SGDClassifier(n_jobs=-1, class_weight='balanced', random_state=123),\n",
        "      require_dense = [False, True]\n",
        "      )\n",
        "    \n",
        "  clf.fit(train, lbl_train)\n",
        "\n",
        "  if save_model:\n",
        "    with open('/content/drive/My Drive/Colab Notebooks/whatsout/model_svm.pk', 'wb') as file:\n",
        "      pickle.dump(clf, file)\n",
        "    \n",
        "  return f1_score(lbl_train, clf.predict(train), average='micro'), f1_score(lbl_test, clf.predict(test), average='micro')"
      ],
      "execution_count": 0,
      "outputs": []
    },
    {
      "cell_type": "code",
      "metadata": {
        "id": "zaLTz-ldirn0",
        "colab_type": "code",
        "outputId": "0d441559-96bc-4408-8a6d-c1b856d6441a",
        "colab": {
          "base_uri": "https://localhost:8080/",
          "height": 34
        }
      },
      "source": [
        "print(CC_problem(X_train, y_train, X_test, y_test, True))"
      ],
      "execution_count": 0,
      "outputs": [
        {
          "output_type": "stream",
          "text": [
            "(0.8866060328469542, 0.8112033195020747)\n"
          ],
          "name": "stdout"
        }
      ]
    },
    {
      "cell_type": "code",
      "metadata": {
        "id": "K1eh05IQirn2",
        "colab_type": "code",
        "colab": {}
      },
      "source": [
        "def multilabel_random_oversample(X, y):\n",
        "    lp = LabelPowerset()\n",
        "    ros = RandomOverSampler(random_state=42)\n",
        "\n",
        "    yt = lp.transform(y)\n",
        "\n",
        "    X_resampled, y_resampled = ros.fit_sample(X, yt)\n",
        "\n",
        "    y_resampled = lp.inverse_transform(y_resampled)\n",
        "    \n",
        "    return X_resampled, y_resampled"
      ],
      "execution_count": 0,
      "outputs": []
    },
    {
      "cell_type": "code",
      "metadata": {
        "id": "RZr2DE_5irn4",
        "colab_type": "code",
        "outputId": "ca5b66a8-0207-4572-e3e3-89f98610657e",
        "colab": {
          "base_uri": "https://localhost:8080/",
          "height": 71
        }
      },
      "source": [
        "X_resampled, y_resampled = multilabel_random_oversample(X_train, y_train)"
      ],
      "execution_count": 0,
      "outputs": [
        {
          "output_type": "stream",
          "text": [
            "/usr/local/lib/python3.6/dist-packages/sklearn/utils/deprecation.py:87: FutureWarning: Function safe_indexing is deprecated; safe_indexing is deprecated in version 0.22 and will be removed in version 0.24.\n",
            "  warnings.warn(msg, category=FutureWarning)\n"
          ],
          "name": "stderr"
        }
      ]
    },
    {
      "cell_type": "code",
      "metadata": {
        "id": "m0Elotwlirn6",
        "colab_type": "code",
        "outputId": "4454ded1-4c1a-47b0-be94-a67a971564c5",
        "colab": {
          "base_uri": "https://localhost:8080/",
          "height": 34
        }
      },
      "source": [
        "print(CC_problem(X_resampled, y_resampled, X_test, y_test))"
      ],
      "execution_count": 0,
      "outputs": [
        {
          "output_type": "stream",
          "text": [
            "(0.9977242357027057, 0.8786145535430568)\n"
          ],
          "name": "stdout"
        }
      ]
    },
    {
      "cell_type": "code",
      "metadata": {
        "id": "_9FbzXgrw9bL",
        "colab_type": "code",
        "outputId": "ba228a30-5603-4a14-d136-3434b06f103d",
        "colab": {
          "base_uri": "https://localhost:8080/",
          "height": 530
        }
      },
      "source": [
        "print(classification_report(y_test, clf.predict(X_test)))"
      ],
      "execution_count": 0,
      "outputs": [
        {
          "output_type": "stream",
          "text": [
            "              precision    recall  f1-score   support\n",
            "\n",
            "           0       0.76      0.69      0.73       491\n",
            "           1       1.00      0.42      0.59        55\n",
            "           2       0.00      0.00      0.00         7\n",
            "           3       0.00      0.00      0.00        21\n",
            "           4       0.98      0.74      0.84       111\n",
            "           5       0.97      0.90      0.93      1626\n",
            "           6       0.00      0.00      0.00         0\n",
            "           7       1.00      0.29      0.44        14\n",
            "           8       1.00      0.08      0.15        12\n",
            "           9       0.85      0.69      0.76        68\n",
            "          10       0.89      0.96      0.92       160\n",
            "          11       0.00      0.00      0.00         4\n",
            "          12       1.00      0.13      0.24        15\n",
            "          13       1.00      0.33      0.50        15\n",
            "          14       0.66      0.90      0.76       441\n",
            "\n",
            "   micro avg       0.87      0.83      0.85      3040\n",
            "   macro avg       0.67      0.41      0.46      3040\n",
            "weighted avg       0.88      0.83      0.84      3040\n",
            " samples avg       0.85      0.84      0.84      3040\n",
            "\n"
          ],
          "name": "stdout"
        },
        {
          "output_type": "stream",
          "text": [
            "/usr/local/lib/python3.6/dist-packages/sklearn/metrics/_classification.py:1272: UndefinedMetricWarning: Precision and F-score are ill-defined and being set to 0.0 in labels with no predicted samples. Use `zero_division` parameter to control this behavior.\n",
            "  _warn_prf(average, modifier, msg_start, len(result))\n",
            "/usr/local/lib/python3.6/dist-packages/sklearn/metrics/_classification.py:1272: UndefinedMetricWarning: Recall and F-score are ill-defined and being set to 0.0 in labels with no true samples. Use `zero_division` parameter to control this behavior.\n",
            "  _warn_prf(average, modifier, msg_start, len(result))\n",
            "/usr/local/lib/python3.6/dist-packages/sklearn/metrics/_classification.py:1272: UndefinedMetricWarning: Precision and F-score are ill-defined and being set to 0.0 in samples with no predicted labels. Use `zero_division` parameter to control this behavior.\n",
            "  _warn_prf(average, modifier, msg_start, len(result))\n"
          ],
          "name": "stderr"
        }
      ]
    },
    {
      "cell_type": "code",
      "metadata": {
        "id": "uYg_khbVxLCL",
        "colab_type": "code",
        "outputId": "963f090f-ef46-43c9-b9cd-d4347a5ca8aa",
        "colab": {
          "base_uri": "https://localhost:8080/",
          "height": 765
        }
      },
      "source": [
        "print(multilabel_confusion_matrix(y_test, clf.predict(X_test)))"
      ],
      "execution_count": 0,
      "outputs": [
        {
          "output_type": "stream",
          "text": [
            "[[[2091  106]\n",
            "  [ 151  340]]\n",
            "\n",
            " [[2633    0]\n",
            "  [  32   23]]\n",
            "\n",
            " [[2681    0]\n",
            "  [   7    0]]\n",
            "\n",
            " [[2667    0]\n",
            "  [  21    0]]\n",
            "\n",
            " [[2575    2]\n",
            "  [  29   82]]\n",
            "\n",
            " [[1012   50]\n",
            "  [ 165 1461]]\n",
            "\n",
            " [[2688    0]\n",
            "  [   0    0]]\n",
            "\n",
            " [[2674    0]\n",
            "  [  10    4]]\n",
            "\n",
            " [[2676    0]\n",
            "  [  11    1]]\n",
            "\n",
            " [[2612    8]\n",
            "  [  21   47]]\n",
            "\n",
            " [[2510   18]\n",
            "  [   7  153]]\n",
            "\n",
            " [[2684    0]\n",
            "  [   4    0]]\n",
            "\n",
            " [[2673    0]\n",
            "  [  13    2]]\n",
            "\n",
            " [[2673    0]\n",
            "  [  10    5]]\n",
            "\n",
            " [[2047  200]\n",
            "  [  44  397]]]\n"
          ],
          "name": "stdout"
        }
      ]
    },
    {
      "cell_type": "markdown",
      "metadata": {
        "id": "jIKlTamDqHUt",
        "colab_type": "text"
      },
      "source": [
        "### Full training with CV on every dataset"
      ]
    },
    {
      "cell_type": "code",
      "metadata": {
        "id": "x-g0kNGyInUR",
        "colab_type": "code",
        "colab": {}
      },
      "source": [
        "# Run everything on every dataset\n",
        "\n",
        "datasets = [X1, X2, X3, X4]\n",
        "knn_test_scores = []\n",
        "rf_test_scores = []\n",
        "nn_test_scores = []\n",
        "cc_test_scores = []\n",
        "\n",
        "def training_func(X, y, i, isOver=False):\n",
        "  # ClassifierChain SVM\n",
        "  print(\"\\nSVM for dataset \", str(i))\n",
        "  folds = MultilabelStratifiedKFold(n_splits=5, random_state=123, shuffle=True)\n",
        "\n",
        "  cc_test_score, knn_score = [], []\n",
        "  for j, (train, val) in enumerate(folds.split(X, y)):\n",
        "    cc = ClassifierChain(\n",
        "        classifier = SGDClassifier(n_jobs=-1, class_weight='balanced', random_state=123),\n",
        "        require_dense = [False, True])\n",
        "    cc.fit(X[train], y[train])\n",
        "    cc_test_score.append(f1_score(y[val], cc.predict(X[val]), average='micro'))\n",
        "\n",
        "  cc_test_scores.append(np.mean(cc_test_score))\n",
        "\n",
        "  # KNN\n",
        "  print(\"\\nKNN for dataset \", str(i))\n",
        "  knn_score = cross_val_score(KNeighborsClassifier(n_jobs=-1), X, y, n_jobs=-1, scoring='f1_micro')\n",
        "  knn_test_scores.append(np.mean(knn_score))\n",
        "\n",
        "  # Random Forest\n",
        "  print(\"\\nRandom forest for dataset \", str(i))\n",
        "  score = cross_val_score(RandomForestClassifier(n_jobs=-1, random_state=123), X, y, n_jobs=-1, scoring='f1_micro')\n",
        "  rf_test_scores.append(np.mean(score))\n",
        "\n",
        "  # Neural Network\n",
        "  print(\"\\nNN for dataset \", str(i))\n",
        "  cvscores_test = []\n",
        "  for i, (train, val) in enumerate(folds.split(X, y)):\n",
        "    print('\\nFold',str(i),'\\n')\n",
        "    model = get_model(data.shape[1])\n",
        "    history = model.fit(x=batch_generator(X[train], y[train], batch_size),\n",
        "                        epochs=20,\n",
        "                        callbacks=[es],\n",
        "                        steps_per_epoch=np.ceil(X[train].shape[0]/batch_size),\n",
        "                        verbose=0,\n",
        "                        use_multiprocessing=False)\n",
        "    \n",
        "    scores = model.evaluate(x=batch_generator(X[val], y[val], batch_size), verbose=0,\n",
        "                            steps=np.ceil(X[val].shape[0]/batch_size),\n",
        "                            use_multiprocessing=False)\n",
        "\n",
        "    cvscores_test.append(scores[1])\n",
        "    \n",
        "  nn_test_scores.append(np.mean(cvscores_test))"
      ],
      "execution_count": 0,
      "outputs": []
    },
    {
      "cell_type": "code",
      "metadata": {
        "id": "xJMZtUv6KNLs",
        "colab_type": "code",
        "outputId": "83c20432-dbdf-4ad4-b1b0-9135a6461165",
        "colab": {
          "base_uri": "https://localhost:8080/",
          "height": 1000
        }
      },
      "source": [
        "# TRAINING\n",
        "for i, data in enumerate(datasets):\n",
        "  print(\"\\nDataset: \", str(i))\n",
        "\n",
        "  # Train\n",
        "  training_func(data, y, i)"
      ],
      "execution_count": 0,
      "outputs": [
        {
          "output_type": "stream",
          "text": [
            "\n",
            "Dataset:  0\n",
            "\n",
            "SVM for dataset  0\n",
            "\n",
            "KNN for dataset  0\n",
            "\n",
            "Random forest for dataset  0\n",
            "\n",
            "NN for dataset  0\n",
            "\n",
            "Fold 0 \n",
            "\n",
            "Epoch 00009: early stopping\n",
            "\n",
            "Fold 1 \n",
            "\n",
            "Epoch 00007: early stopping\n",
            "\n",
            "Fold 2 \n",
            "\n",
            "Epoch 00012: early stopping\n",
            "\n",
            "Fold 3 \n",
            "\n",
            "Epoch 00008: early stopping\n",
            "\n",
            "Fold 4 \n",
            "\n",
            "Epoch 00011: early stopping\n"
          ],
          "name": "stdout"
        },
        {
          "output_type": "stream",
          "text": [
            "/usr/local/lib/python3.6/dist-packages/sklearn/utils/deprecation.py:87: FutureWarning: Function safe_indexing is deprecated; safe_indexing is deprecated in version 0.22 and will be removed in version 0.24.\n",
            "  warnings.warn(msg, category=FutureWarning)\n"
          ],
          "name": "stderr"
        },
        {
          "output_type": "stream",
          "text": [
            "\n",
            "Dataset:  1\n",
            "\n",
            "SVM for dataset  1\n",
            "\n",
            "KNN for dataset  1\n"
          ],
          "name": "stdout"
        },
        {
          "output_type": "stream",
          "text": [
            "/usr/local/lib/python3.6/dist-packages/joblib/externals/loky/process_executor.py:706: UserWarning: A worker stopped while some jobs were given to the executor. This can be caused by a too short worker timeout or by a memory leak.\n",
            "  \"timeout or by a memory leak.\", UserWarning\n"
          ],
          "name": "stderr"
        },
        {
          "output_type": "stream",
          "text": [
            "\n",
            "Random forest for dataset  1\n",
            "\n",
            "NN for dataset  1\n",
            "\n",
            "Fold 0 \n",
            "\n",
            "Epoch 00012: early stopping\n",
            "\n",
            "Fold 1 \n",
            "\n",
            "Epoch 00009: early stopping\n",
            "\n",
            "Fold 2 \n",
            "\n",
            "Epoch 00010: early stopping\n",
            "\n",
            "Fold 3 \n",
            "\n",
            "Epoch 00011: early stopping\n",
            "\n",
            "Fold 4 \n",
            "\n",
            "Epoch 00009: early stopping\n"
          ],
          "name": "stdout"
        },
        {
          "output_type": "stream",
          "text": [
            "/usr/local/lib/python3.6/dist-packages/sklearn/utils/deprecation.py:87: FutureWarning: Function safe_indexing is deprecated; safe_indexing is deprecated in version 0.22 and will be removed in version 0.24.\n",
            "  warnings.warn(msg, category=FutureWarning)\n"
          ],
          "name": "stderr"
        },
        {
          "output_type": "stream",
          "text": [
            "\n",
            "Dataset:  2\n",
            "\n",
            "SVM for dataset  2\n",
            "\n",
            "KNN for dataset  2\n",
            "\n",
            "Random forest for dataset  2\n",
            "\n",
            "NN for dataset  2\n",
            "\n",
            "Fold 0 \n",
            "\n",
            "Epoch 00012: early stopping\n",
            "\n",
            "Fold 1 \n",
            "\n",
            "Epoch 00013: early stopping\n",
            "\n",
            "Fold 2 \n",
            "\n",
            "Epoch 00013: early stopping\n",
            "\n",
            "Fold 3 \n",
            "\n",
            "Epoch 00015: early stopping\n",
            "\n",
            "Fold 4 \n",
            "\n",
            "Epoch 00013: early stopping\n"
          ],
          "name": "stdout"
        },
        {
          "output_type": "stream",
          "text": [
            "/usr/local/lib/python3.6/dist-packages/sklearn/utils/deprecation.py:87: FutureWarning: Function safe_indexing is deprecated; safe_indexing is deprecated in version 0.22 and will be removed in version 0.24.\n",
            "  warnings.warn(msg, category=FutureWarning)\n"
          ],
          "name": "stderr"
        },
        {
          "output_type": "stream",
          "text": [
            "\n",
            "Dataset:  3\n",
            "\n",
            "SVM for dataset  3\n",
            "\n",
            "KNN for dataset  3\n"
          ],
          "name": "stdout"
        },
        {
          "output_type": "stream",
          "text": [
            "/usr/local/lib/python3.6/dist-packages/joblib/externals/loky/process_executor.py:706: UserWarning: A worker stopped while some jobs were given to the executor. This can be caused by a too short worker timeout or by a memory leak.\n",
            "  \"timeout or by a memory leak.\", UserWarning\n"
          ],
          "name": "stderr"
        },
        {
          "output_type": "stream",
          "text": [
            "\n",
            "Random forest for dataset  3\n",
            "\n",
            "NN for dataset  3\n",
            "\n",
            "Fold 0 \n",
            "\n",
            "Epoch 00014: early stopping\n",
            "\n",
            "Fold 1 \n",
            "\n",
            "Epoch 00012: early stopping\n",
            "\n",
            "Fold 2 \n",
            "\n",
            "Epoch 00011: early stopping\n",
            "\n",
            "Fold 3 \n",
            "\n",
            "Epoch 00012: early stopping\n",
            "\n",
            "Fold 4 \n",
            "\n",
            "Epoch 00012: early stopping\n"
          ],
          "name": "stdout"
        },
        {
          "output_type": "stream",
          "text": [
            "/usr/local/lib/python3.6/dist-packages/sklearn/utils/deprecation.py:87: FutureWarning: Function safe_indexing is deprecated; safe_indexing is deprecated in version 0.22 and will be removed in version 0.24.\n",
            "  warnings.warn(msg, category=FutureWarning)\n"
          ],
          "name": "stderr"
        }
      ]
    },
    {
      "cell_type": "markdown",
      "metadata": {
        "id": "DsFOHDg8gyff",
        "colab_type": "text"
      },
      "source": [
        "### Matrix Regression (MR)"
      ]
    },
    {
      "cell_type": "code",
      "metadata": {
        "id": "-UzPNGUA47cA",
        "colab_type": "code",
        "colab": {}
      },
      "source": [
        "# Implementation in progress"
      ],
      "execution_count": 0,
      "outputs": []
    },
    {
      "cell_type": "markdown",
      "metadata": {
        "id": "5zEBRbR9qMaJ",
        "colab_type": "text"
      },
      "source": [
        "## Results"
      ]
    },
    {
      "cell_type": "code",
      "metadata": {
        "colab_type": "code",
        "id": "WcVu-pOQduBD",
        "colab": {}
      },
      "source": [
        "dataset_names = ['BoW (descr + title)', 'BoW (descr + title) + place + user','Tfidf (descr + title)','Tfidf (descr + title) + place + user']"
      ],
      "execution_count": 0,
      "outputs": []
    },
    {
      "cell_type": "code",
      "metadata": {
        "id": "SykZKk-QKqs4",
        "colab_type": "code",
        "outputId": "2e2de96f-34b6-4314-c601-e99b2cf256e1",
        "colab": {
          "base_uri": "https://localhost:8080/",
          "height": 207
        }
      },
      "source": [
        "results_test = pd.DataFrame(list(zip(dataset_names, knn_test_scores, rf_test_scores, nn_test_scores, cc_test_scores)),\n",
        "                       columns =['Dataset','KNN', 'Random Forest', 'Neural Network', 'SVM']) \n",
        "\n",
        "print('Cross-validated F1 score:\\n')\n",
        "results_test"
      ],
      "execution_count": 0,
      "outputs": [
        {
          "output_type": "stream",
          "text": [
            "Cross-validated F1 score:\n",
            "\n"
          ],
          "name": "stdout"
        },
        {
          "output_type": "execute_result",
          "data": {
            "text/html": [
              "<div>\n",
              "<style scoped>\n",
              "    .dataframe tbody tr th:only-of-type {\n",
              "        vertical-align: middle;\n",
              "    }\n",
              "\n",
              "    .dataframe tbody tr th {\n",
              "        vertical-align: top;\n",
              "    }\n",
              "\n",
              "    .dataframe thead th {\n",
              "        text-align: right;\n",
              "    }\n",
              "</style>\n",
              "<table border=\"1\" class=\"dataframe\">\n",
              "  <thead>\n",
              "    <tr style=\"text-align: right;\">\n",
              "      <th></th>\n",
              "      <th>Dataset</th>\n",
              "      <th>KNN</th>\n",
              "      <th>Random Forest</th>\n",
              "      <th>Neural Network</th>\n",
              "      <th>SVM</th>\n",
              "    </tr>\n",
              "  </thead>\n",
              "  <tbody>\n",
              "    <tr>\n",
              "      <th>0</th>\n",
              "      <td>BoW (descr + title)</td>\n",
              "      <td>0.788153</td>\n",
              "      <td>0.823445</td>\n",
              "      <td>0.848590</td>\n",
              "      <td>0.819440</td>\n",
              "    </tr>\n",
              "    <tr>\n",
              "      <th>1</th>\n",
              "      <td>BoW (descr + title) + place + user</td>\n",
              "      <td>0.795606</td>\n",
              "      <td>0.825124</td>\n",
              "      <td>0.840044</td>\n",
              "      <td>0.819511</td>\n",
              "    </tr>\n",
              "    <tr>\n",
              "      <th>2</th>\n",
              "      <td>Tfidf (descr + title)</td>\n",
              "      <td>0.817052</td>\n",
              "      <td>0.831930</td>\n",
              "      <td>0.827103</td>\n",
              "      <td>0.865096</td>\n",
              "    </tr>\n",
              "    <tr>\n",
              "      <th>3</th>\n",
              "      <td>Tfidf (descr + title) + place + user</td>\n",
              "      <td>0.704854</td>\n",
              "      <td>0.758021</td>\n",
              "      <td>0.734499</td>\n",
              "      <td>0.615040</td>\n",
              "    </tr>\n",
              "  </tbody>\n",
              "</table>\n",
              "</div>"
            ],
            "text/plain": [
              "                                Dataset       KNN  ...  Neural Network       SVM\n",
              "0                   BoW (descr + title)  0.788153  ...        0.848590  0.819440\n",
              "1    BoW (descr + title) + place + user  0.795606  ...        0.840044  0.819511\n",
              "2                 Tfidf (descr + title)  0.817052  ...        0.827103  0.865096\n",
              "3  Tfidf (descr + title) + place + user  0.704854  ...        0.734499  0.615040\n",
              "\n",
              "[4 rows x 5 columns]"
            ]
          },
          "metadata": {
            "tags": []
          },
          "execution_count": 46
        }
      ]
    },
    {
      "cell_type": "code",
      "metadata": {
        "id": "WIHQolLZOmOQ",
        "colab_type": "code",
        "colab": {}
      },
      "source": [
        "results_test.to_csv('/content/drive/My Drive/Colab Notebooks/whatsout/results_cv.csv')"
      ],
      "execution_count": 0,
      "outputs": []
    }
  ]
}