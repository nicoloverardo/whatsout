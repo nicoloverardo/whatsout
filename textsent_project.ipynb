{
 "cells": [
  {
   "cell_type": "markdown",
   "metadata": {
    "colab_type": "text",
    "id": "I0_FFwrSjqx1"
   },
   "source": [
    "# Whatsout\n",
    "\n",
    "\n",
    "---\n",
    "\n",
    "\n",
    "Text mining and sentiment analysis project"
   ]
  },
  {
   "cell_type": "markdown",
   "metadata": {
    "colab_type": "text",
    "id": "64W0T32535Gg"
   },
   "source": [
    "**NOTE**: Bear in mind that this notebook was written to be used on Google Colab in order to exploit the GPU during the training of the neural networks. This means that some cells will return error if run in a local environment and some indentations will need to be fixed."
   ]
  },
  {
   "cell_type": "markdown",
   "metadata": {
    "colab_type": "text",
    "id": "7KxvLD9cqYSH"
   },
   "source": [
    "## Imports and setup"
   ]
  },
  {
   "cell_type": "code",
   "execution_count": null,
   "metadata": {
    "colab": {
     "base_uri": "https://localhost:8080/",
     "height": 214
    },
    "colab_type": "code",
    "id": "lD2R6v7wjFQv",
    "outputId": "cd133dae-d42f-420a-ed5a-37ba6d67f9a7"
   },
   "outputs": [
    {
     "name": "stdout",
     "output_type": "stream",
     "text": [
      "Requirement already satisfied: polyglot in /usr/local/lib/python3.6/dist-packages (16.7.4)\n",
      "Requirement already satisfied: pyicu in /usr/local/lib/python3.6/dist-packages (2.4.3)\n",
      "Requirement already satisfied: pycld2 in /usr/local/lib/python3.6/dist-packages (0.41)\n",
      "Requirement already satisfied: scikit-multilearn in /usr/local/lib/python3.6/dist-packages (0.2.0)\n",
      "Requirement already satisfied: imbalanced-learn in /usr/local/lib/python3.6/dist-packages (0.4.3)\n",
      "Requirement already satisfied: iterative-stratification in /usr/local/lib/python3.6/dist-packages (0.1.6)\n",
      "Requirement already satisfied: scipy>=0.13.3 in /usr/local/lib/python3.6/dist-packages (from imbalanced-learn) (1.4.1)\n",
      "Requirement already satisfied: scikit-learn>=0.20 in /usr/local/lib/python3.6/dist-packages (from imbalanced-learn) (0.22.2.post1)\n",
      "Requirement already satisfied: numpy>=1.8.2 in /usr/local/lib/python3.6/dist-packages (from imbalanced-learn) (1.18.2)\n",
      "Requirement already satisfied: joblib>=0.11 in /usr/local/lib/python3.6/dist-packages (from scikit-learn>=0.20->imbalanced-learn) (0.14.1)\n"
     ]
    }
   ],
   "source": [
    "!pip install polyglot pyicu pycld2 scikit-multilearn imbalanced-learn iterative-stratification"
   ]
  },
  {
   "cell_type": "code",
   "execution_count": 1,
   "metadata": {
    "colab": {},
    "colab_type": "code",
    "execution": {
     "iopub.execute_input": "2020-05-02T09:35:52.220516Z",
     "iopub.status.busy": "2020-05-02T09:35:52.219901Z",
     "iopub.status.idle": "2020-05-02T09:35:56.715037Z",
     "shell.execute_reply": "2020-05-02T09:35:56.714056Z",
     "shell.execute_reply.started": "2020-05-02T09:35:52.220441Z"
    },
    "id": "aJc5YSkCirln"
   },
   "outputs": [
    {
     "name": "stderr",
     "output_type": "stream",
     "text": [
      "Using TensorFlow backend.\n"
     ]
    }
   ],
   "source": [
    "import numpy as np\n",
    "import pandas as pd\n",
    "import seaborn as sns\n",
    "import matplotlib\n",
    "import matplotlib.pyplot as plt\n",
    "\n",
    "import sys\n",
    "import pickle\n",
    "import string\n",
    "import scipy\n",
    "import nltk\n",
    "from nltk.corpus import stopwords\n",
    "\n",
    "from bs4 import BeautifulSoup\n",
    "\n",
    "from polyglot.detect import Detector\n",
    "\n",
    "from tqdm import tqdm\n",
    "\n",
    "from sklearn.preprocessing import MultiLabelBinarizer\n",
    "from sklearn.feature_extraction.text import CountVectorizer, TfidfVectorizer\n",
    "from sklearn.base import BaseEstimator\n",
    "from sklearn.metrics import accuracy_score, precision_score, recall_score, f1_score, classification_report, confusion_matrix, ConfusionMatrixDisplay, multilabel_confusion_matrix\n",
    "from sklearn.neighbors import KNeighborsClassifier\n",
    "from sklearn.ensemble import RandomForestClassifier\n",
    "from sklearn.model_selection import GridSearchCV, cross_val_score, train_test_split\n",
    "from sklearn.linear_model import SGDClassifier\n",
    "\n",
    "from skmultilearn.problem_transform import ClassifierChain, LabelPowerset\n",
    "\n",
    "from imblearn.over_sampling import RandomOverSampler\n",
    "\n",
    "from skmultilearn.model_selection import iterative_train_test_split\n",
    "\n",
    "import tensorflow as tf\n",
    "import tensorflow.keras.backend as K\n",
    "import tensorflow.keras.utils\n",
    "import tensorflow.keras.callbacks\n",
    "from tensorflow.python.client import device_lib\n",
    "from tensorflow.keras.models import Sequential\n",
    "from tensorflow.keras.layers import Dense, Dropout, Embedding, Flatten, Conv1D, GlobalMaxPooling1D\n",
    "from tensorflow.keras.callbacks import EarlyStopping\n",
    "\n",
    "from iterstrat.ml_stratifiers import MultilabelStratifiedKFold"
   ]
  },
  {
   "cell_type": "code",
   "execution_count": 2,
   "metadata": {
    "colab": {},
    "colab_type": "code",
    "execution": {
     "iopub.execute_input": "2020-04-26T21:26:00.881606Z",
     "iopub.status.busy": "2020-04-26T21:26:00.881467Z",
     "iopub.status.idle": "2020-04-26T21:26:00.887947Z",
     "shell.execute_reply": "2020-04-26T21:26:00.887290Z",
     "shell.execute_reply.started": "2020-04-26T21:26:00.881588Z"
    },
    "id": "-5R_CVGNQNyc"
   },
   "outputs": [
    {
     "name": "stderr",
     "output_type": "stream",
     "text": [
      "/home/nick/anaconda3/lib/python3.7/site-packages/tqdm/std.py:666: FutureWarning: The Panel class is removed from pandas. Accessing it from the top-level namespace will also be removed in the next version\n",
      "  from pandas import Panel\n"
     ]
    }
   ],
   "source": [
    "tqdm.pandas()"
   ]
  },
  {
   "cell_type": "code",
   "execution_count": null,
   "metadata": {
    "colab": {
     "base_uri": "https://localhost:8080/",
     "height": 105
    },
    "colab_type": "code",
    "id": "QPo0005k4Yhe",
    "outputId": "71b3982e-3ca2-4d0a-96cf-5c272ddaed7f"
   },
   "outputs": [
    {
     "name": "stdout",
     "output_type": "stream",
     "text": [
      "[nltk_data] Downloading package punkt to /root/nltk_data...\n",
      "[nltk_data]   Package punkt is already up-to-date!\n",
      "[nltk_data] Downloading package stopwords to /root/nltk_data...\n",
      "[nltk_data]   Package stopwords is already up-to-date!\n"
     ]
    },
    {
     "data": {
      "text/plain": [
       "True"
      ]
     },
     "execution_count": 20,
     "metadata": {
      "tags": []
     },
     "output_type": "execute_result"
    }
   ],
   "source": [
    "nltk.download('punkt')\n",
    "nltk.download('stopwords')"
   ]
  },
  {
   "cell_type": "code",
   "execution_count": null,
   "metadata": {
    "colab": {
     "base_uri": "https://localhost:8080/",
     "height": 55
    },
    "colab_type": "code",
    "id": "Ij6GFZ9cg_P-",
    "outputId": "a309f13f-a3c3-406a-fe20-4f9f106a58b3"
   },
   "outputs": [
    {
     "name": "stdout",
     "output_type": "stream",
     "text": [
      "Drive already mounted at /content/drive; to attempt to forcibly remount, call drive.mount(\"/content/drive\", force_remount=True).\n"
     ]
    }
   ],
   "source": [
    "from google.colab import drive\n",
    "drive.mount('/content/drive')"
   ]
  },
  {
   "cell_type": "code",
   "execution_count": 3,
   "metadata": {
    "colab": {},
    "colab_type": "code",
    "execution": {
     "iopub.execute_input": "2020-04-26T21:26:03.288720Z",
     "iopub.status.busy": "2020-04-26T21:26:03.288546Z",
     "iopub.status.idle": "2020-04-26T21:26:03.472939Z",
     "shell.execute_reply": "2020-04-26T21:26:03.472495Z",
     "shell.execute_reply.started": "2020-04-26T21:26:03.288701Z"
    },
    "id": "hGyTo0Kcirlv"
   },
   "outputs": [],
   "source": [
    "df = pd.read_csv(\"whatsout.csv\", encoding=\"utf-8\")"
   ]
  },
  {
   "cell_type": "code",
   "execution_count": 4,
   "metadata": {
    "colab": {
     "base_uri": "https://localhost:8080/",
     "height": 353
    },
    "colab_type": "code",
    "execution": {
     "iopub.execute_input": "2020-04-26T21:26:03.634902Z",
     "iopub.status.busy": "2020-04-26T21:26:03.634727Z",
     "iopub.status.idle": "2020-04-26T21:26:03.650079Z",
     "shell.execute_reply": "2020-04-26T21:26:03.649606Z",
     "shell.execute_reply.started": "2020-04-26T21:26:03.634883Z"
    },
    "id": "aIMWFB3Iirl3",
    "outputId": "d64a3f9a-a571-4c12-fa5e-00f245b75c83"
   },
   "outputs": [
    {
     "name": "stdout",
     "output_type": "stream",
     "text": [
      "<class 'pandas.core.frame.DataFrame'>\n",
      "RangeIndex: 10760 entries, 0 to 10759\n",
      "Data columns (total 12 columns):\n",
      " #   Column       Non-Null Count  Dtype  \n",
      "---  ------       --------------  -----  \n",
      " 0   ID           10760 non-null  int64  \n",
      " 1   description  10760 non-null  object \n",
      " 2   title        10760 non-null  object \n",
      " 3   term_id      10760 non-null  int64  \n",
      " 4   term_name    10760 non-null  object \n",
      " 5   place_id     10760 non-null  int64  \n",
      " 6   place_name   10760 non-null  object \n",
      " 7   start        10760 non-null  object \n",
      " 8   end          10760 non-null  object \n",
      " 9   lat          10760 non-null  float64\n",
      " 10  lng          10760 non-null  float64\n",
      " 11  user         10760 non-null  int64  \n",
      "dtypes: float64(2), int64(4), object(6)\n",
      "memory usage: 1008.9+ KB\n"
     ]
    }
   ],
   "source": [
    "df.info()"
   ]
  },
  {
   "cell_type": "code",
   "execution_count": 5,
   "metadata": {
    "colab": {
     "base_uri": "https://localhost:8080/",
     "height": 405
    },
    "colab_type": "code",
    "execution": {
     "iopub.execute_input": "2020-04-26T21:26:03.842221Z",
     "iopub.status.busy": "2020-04-26T21:26:03.841978Z",
     "iopub.status.idle": "2020-04-26T21:26:03.858317Z",
     "shell.execute_reply": "2020-04-26T21:26:03.857780Z",
     "shell.execute_reply.started": "2020-04-26T21:26:03.842197Z"
    },
    "id": "19hsJ4LZirl7",
    "outputId": "e11a4d63-7deb-4a17-8844-ce818ca6bc1f"
   },
   "outputs": [
    {
     "data": {
      "text/html": [
       "<div>\n",
       "<style scoped>\n",
       "    .dataframe tbody tr th:only-of-type {\n",
       "        vertical-align: middle;\n",
       "    }\n",
       "\n",
       "    .dataframe tbody tr th {\n",
       "        vertical-align: top;\n",
       "    }\n",
       "\n",
       "    .dataframe thead th {\n",
       "        text-align: right;\n",
       "    }\n",
       "</style>\n",
       "<table border=\"1\" class=\"dataframe\">\n",
       "  <thead>\n",
       "    <tr style=\"text-align: right;\">\n",
       "      <th></th>\n",
       "      <th>ID</th>\n",
       "      <th>description</th>\n",
       "      <th>title</th>\n",
       "      <th>term_id</th>\n",
       "      <th>term_name</th>\n",
       "      <th>place_id</th>\n",
       "      <th>place_name</th>\n",
       "      <th>start</th>\n",
       "      <th>end</th>\n",
       "      <th>lat</th>\n",
       "      <th>lng</th>\n",
       "      <th>user</th>\n",
       "    </tr>\n",
       "  </thead>\n",
       "  <tbody>\n",
       "    <tr>\n",
       "      <th>0</th>\n",
       "      <td>1124</td>\n",
       "      <td>INGRESSO GRATUITO SU INVITO. RICHIEDILO SCRIVE...</td>\n",
       "      <td>5 Ott Arianna Antinori \"Hostaria Cohen\" Releas...</td>\n",
       "      <td>1</td>\n",
       "      <td>Uncategorized</td>\n",
       "      <td>91136</td>\n",
       "      <td>Alcatraz</td>\n",
       "      <td>2017-10-05 21:00:00</td>\n",
       "      <td>2017-10-06 02:00:00</td>\n",
       "      <td>45.494689</td>\n",
       "      <td>9.182658</td>\n",
       "      <td>1</td>\n",
       "    </tr>\n",
       "    <tr>\n",
       "      <th>1</th>\n",
       "      <td>1367</td>\n",
       "      <td>ANATHEMA: nuovo album e data italiana\\r\\n \\r\\n...</td>\n",
       "      <td>Anathema + Alcest | Milano</td>\n",
       "      <td>1</td>\n",
       "      <td>Uncategorized</td>\n",
       "      <td>91136</td>\n",
       "      <td>Alcatraz</td>\n",
       "      <td>2017-10-16 20:00:00</td>\n",
       "      <td>2017-10-16 23:30:00</td>\n",
       "      <td>45.494689</td>\n",
       "      <td>9.182658</td>\n",
       "      <td>1</td>\n",
       "    </tr>\n",
       "    <tr>\n",
       "      <th>2</th>\n",
       "      <td>1374</td>\n",
       "      <td>FABRI FIBRA - FENOMENO TOUR\\r\\n \\r\\n 23 ottobr...</td>\n",
       "      <td>Fabri Fibra - 23 Ottobre Milano, Alcatraz</td>\n",
       "      <td>1</td>\n",
       "      <td>Uncategorized</td>\n",
       "      <td>91136</td>\n",
       "      <td>Alcatraz</td>\n",
       "      <td>2017-10-23 21:00:00</td>\n",
       "      <td>2017-10-23 23:55:00</td>\n",
       "      <td>45.494689</td>\n",
       "      <td>9.182658</td>\n",
       "      <td>1</td>\n",
       "    </tr>\n",
       "    <tr>\n",
       "      <th>3</th>\n",
       "      <td>1377</td>\n",
       "      <td>Giovedì 26 ottobre \\r\\n Via Audio &amp;amp; BPM Co...</td>\n",
       "      <td>Omar Pedrini in concerto - Alcatraz Milano</td>\n",
       "      <td>1</td>\n",
       "      <td>Uncategorized</td>\n",
       "      <td>91136</td>\n",
       "      <td>Alcatraz</td>\n",
       "      <td>2017-10-26 21:00:00</td>\n",
       "      <td>2017-10-26 23:30:00</td>\n",
       "      <td>45.494689</td>\n",
       "      <td>9.182658</td>\n",
       "      <td>1</td>\n",
       "    </tr>\n",
       "    <tr>\n",
       "      <th>4</th>\n",
       "      <td>1379</td>\n",
       "      <td>SABATO 28 OTTOBRE SUD SOUND SYSTEM Live @ Alca...</td>\n",
       "      <td>SUD SOUND System - Eternal Vibes Tour | 28.10....</td>\n",
       "      <td>1</td>\n",
       "      <td>Uncategorized</td>\n",
       "      <td>91136</td>\n",
       "      <td>Alcatraz</td>\n",
       "      <td>2017-10-28 23:00:00</td>\n",
       "      <td>2017-10-29 04:00:00</td>\n",
       "      <td>45.494689</td>\n",
       "      <td>9.182658</td>\n",
       "      <td>1</td>\n",
       "    </tr>\n",
       "  </tbody>\n",
       "</table>\n",
       "</div>"
      ],
      "text/plain": [
       "     ID                                        description  \\\n",
       "0  1124  INGRESSO GRATUITO SU INVITO. RICHIEDILO SCRIVE...   \n",
       "1  1367  ANATHEMA: nuovo album e data italiana\\r\\n \\r\\n...   \n",
       "2  1374  FABRI FIBRA - FENOMENO TOUR\\r\\n \\r\\n 23 ottobr...   \n",
       "3  1377  Giovedì 26 ottobre \\r\\n Via Audio &amp; BPM Co...   \n",
       "4  1379  SABATO 28 OTTOBRE SUD SOUND SYSTEM Live @ Alca...   \n",
       "\n",
       "                                               title  term_id      term_name  \\\n",
       "0  5 Ott Arianna Antinori \"Hostaria Cohen\" Releas...        1  Uncategorized   \n",
       "1                         Anathema + Alcest | Milano        1  Uncategorized   \n",
       "2          Fabri Fibra - 23 Ottobre Milano, Alcatraz        1  Uncategorized   \n",
       "3         Omar Pedrini in concerto - Alcatraz Milano        1  Uncategorized   \n",
       "4  SUD SOUND System - Eternal Vibes Tour | 28.10....        1  Uncategorized   \n",
       "\n",
       "   place_id place_name                start                  end        lat  \\\n",
       "0     91136   Alcatraz  2017-10-05 21:00:00  2017-10-06 02:00:00  45.494689   \n",
       "1     91136   Alcatraz  2017-10-16 20:00:00  2017-10-16 23:30:00  45.494689   \n",
       "2     91136   Alcatraz  2017-10-23 21:00:00  2017-10-23 23:55:00  45.494689   \n",
       "3     91136   Alcatraz  2017-10-26 21:00:00  2017-10-26 23:30:00  45.494689   \n",
       "4     91136   Alcatraz  2017-10-28 23:00:00  2017-10-29 04:00:00  45.494689   \n",
       "\n",
       "        lng  user  \n",
       "0  9.182658     1  \n",
       "1  9.182658     1  \n",
       "2  9.182658     1  \n",
       "3  9.182658     1  \n",
       "4  9.182658     1  "
      ]
     },
     "execution_count": 5,
     "metadata": {},
     "output_type": "execute_result"
    }
   ],
   "source": [
    "df.head()"
   ]
  },
  {
   "cell_type": "code",
   "execution_count": 6,
   "metadata": {
    "colab": {
     "base_uri": "https://localhost:8080/",
     "height": 88
    },
    "colab_type": "code",
    "execution": {
     "iopub.execute_input": "2020-04-26T21:26:04.044356Z",
     "iopub.status.busy": "2020-04-26T21:26:04.044149Z",
     "iopub.status.idle": "2020-04-26T21:26:04.051997Z",
     "shell.execute_reply": "2020-04-26T21:26:04.051497Z",
     "shell.execute_reply.started": "2020-04-26T21:26:04.044323Z"
    },
    "id": "hJU-KarHirl_",
    "outputId": "f088bf75-0ffa-4ce1-e226-0d9043f28070"
   },
   "outputs": [
    {
     "data": {
      "text/plain": [
       "array(['Uncategorized', 'Discoteche &amp; Party', 'Cena con Delitto',\n",
       "       'Latino Americano', 'Magic The Gathering', 'Aperitivo',\n",
       "       'Fotografia', 'Capodanno', 'San Valentino', 'Carnevale', 'Teatro',\n",
       "       'Arte', 'Make Up', 'Ferragosto', 'Halloween'], dtype=object)"
      ]
     },
     "execution_count": 6,
     "metadata": {},
     "output_type": "execute_result"
    }
   ],
   "source": [
    "df[\"term_name\"].unique()"
   ]
  },
  {
   "cell_type": "markdown",
   "metadata": {
    "colab_type": "text",
    "id": "aDhZimesprB6"
   },
   "source": [
    "## Data pre-processing"
   ]
  },
  {
   "cell_type": "code",
   "execution_count": 7,
   "metadata": {
    "colab": {},
    "colab_type": "code",
    "execution": {
     "iopub.execute_input": "2020-04-26T21:26:04.577251Z",
     "iopub.status.busy": "2020-04-26T21:26:04.577066Z",
     "iopub.status.idle": "2020-04-26T21:26:04.586113Z",
     "shell.execute_reply": "2020-04-26T21:26:04.585637Z",
     "shell.execute_reply.started": "2020-04-26T21:26:04.577231Z"
    },
    "id": "HN_0UkiHirmD"
   },
   "outputs": [],
   "source": [
    "df[\"term_name\"] = df[\"term_name\"].str.replace(\"&amp;\", \"&\")"
   ]
  },
  {
   "cell_type": "code",
   "execution_count": 8,
   "metadata": {
    "colab": {},
    "colab_type": "code",
    "execution": {
     "iopub.execute_input": "2020-04-26T21:26:04.843748Z",
     "iopub.status.busy": "2020-04-26T21:26:04.843540Z",
     "iopub.status.idle": "2020-04-26T21:26:04.906474Z",
     "shell.execute_reply": "2020-04-26T21:26:04.906043Z",
     "shell.execute_reply.started": "2020-04-26T21:26:04.843712Z"
    },
    "id": "B8qsrh38irmK"
   },
   "outputs": [],
   "source": [
    "df.dropna(inplace=True)\n",
    "df.dropna(subset=['term_name'], inplace=True)\n",
    "\n",
    "# We only select those columns because there are events that are \"duplicated\" but with different dates.\n",
    "# Thus, an event is considered duplicated only if the values of those columns are exactly the same.\n",
    "df.drop_duplicates(subset=['title', 'ID', 'description', 'term_name'], inplace=True)"
   ]
  },
  {
   "cell_type": "markdown",
   "metadata": {
    "colab_type": "text",
    "id": "iRvoTk7Jqf8A"
   },
   "source": [
    "### Language detection"
   ]
  },
  {
   "cell_type": "code",
   "execution_count": null,
   "metadata": {
    "colab": {},
    "colab_type": "code",
    "id": "xYSTM7MXirmN"
   },
   "outputs": [],
   "source": [
    "# A warning will appear here: it is caused by the short length of the text. \n",
    "# However, the confidence reported is quite high and very few mistakes were made.\n",
    "df.description = df.description.astype(str)\n",
    "langs = df.description.apply(lambda x: Detector(x, quiet = True))"
   ]
  },
  {
   "cell_type": "code",
   "execution_count": 10,
   "metadata": {
    "colab": {},
    "colab_type": "code",
    "execution": {
     "iopub.execute_input": "2020-04-26T21:26:19.690281Z",
     "iopub.status.busy": "2020-04-26T21:26:19.690081Z",
     "iopub.status.idle": "2020-04-26T21:26:19.705981Z",
     "shell.execute_reply": "2020-04-26T21:26:19.705325Z",
     "shell.execute_reply.started": "2020-04-26T21:26:19.690249Z"
    },
    "id": "NyPVUR5VirmQ"
   },
   "outputs": [],
   "source": [
    "df[\"lang\"] = langs.apply(lambda x: x.languages[0].code)\n",
    "df[\"lang_conf\"] = langs.apply(lambda x: x.languages[0].confidence)"
   ]
  },
  {
   "cell_type": "code",
   "execution_count": 11,
   "metadata": {
    "colab": {
     "base_uri": "https://localhost:8080/",
     "height": 35
    },
    "colab_type": "code",
    "execution": {
     "iopub.execute_input": "2020-04-26T21:26:19.985762Z",
     "iopub.status.busy": "2020-04-26T21:26:19.985469Z",
     "iopub.status.idle": "2020-04-26T21:26:19.990057Z",
     "shell.execute_reply": "2020-04-26T21:26:19.989634Z",
     "shell.execute_reply.started": "2020-04-26T21:26:19.985734Z"
    },
    "id": "VS8ZASBfirmT",
    "outputId": "87a3f9a1-59c0-4ddb-b64b-f654c11e275f"
   },
   "outputs": [
    {
     "data": {
      "text/plain": [
       "array(['it', 'en', 'es', 'mg', 'da'], dtype=object)"
      ]
     },
     "execution_count": 11,
     "metadata": {},
     "output_type": "execute_result"
    }
   ],
   "source": [
    "df[\"lang\"].unique()"
   ]
  },
  {
   "cell_type": "code",
   "execution_count": 12,
   "metadata": {
    "colab": {},
    "colab_type": "code",
    "execution": {
     "iopub.execute_input": "2020-04-26T21:26:20.243235Z",
     "iopub.status.busy": "2020-04-26T21:26:20.243029Z",
     "iopub.status.idle": "2020-04-26T21:26:20.251789Z",
     "shell.execute_reply": "2020-04-26T21:26:20.251240Z",
     "shell.execute_reply.started": "2020-04-26T21:26:20.243201Z"
    },
    "id": "B7_pFXZhirmX"
   },
   "outputs": [],
   "source": [
    "df = df[df[\"lang\"] == \"it\"]"
   ]
  },
  {
   "cell_type": "code",
   "execution_count": 13,
   "metadata": {
    "colab": {
     "base_uri": "https://localhost:8080/",
     "height": 35
    },
    "colab_type": "code",
    "execution": {
     "iopub.execute_input": "2020-04-26T21:26:20.457759Z",
     "iopub.status.busy": "2020-04-26T21:26:20.457554Z",
     "iopub.status.idle": "2020-04-26T21:26:20.461498Z",
     "shell.execute_reply": "2020-04-26T21:26:20.460982Z",
     "shell.execute_reply.started": "2020-04-26T21:26:20.457726Z"
    },
    "id": "_D0BauLovfYw",
    "outputId": "38b2296b-9849-4c89-c406-866afc6b41fe"
   },
   "outputs": [
    {
     "data": {
      "text/plain": [
       "89.27749827365098"
      ]
     },
     "execution_count": 13,
     "metadata": {},
     "output_type": "execute_result"
    }
   ],
   "source": [
    "df.lang_conf.mean()"
   ]
  },
  {
   "cell_type": "code",
   "execution_count": 14,
   "metadata": {
    "colab": {
     "base_uri": "https://localhost:8080/",
     "height": 35
    },
    "colab_type": "code",
    "execution": {
     "iopub.execute_input": "2020-04-26T21:26:20.689384Z",
     "iopub.status.busy": "2020-04-26T21:26:20.689180Z",
     "iopub.status.idle": "2020-04-26T21:26:20.692992Z",
     "shell.execute_reply": "2020-04-26T21:26:20.692485Z",
     "shell.execute_reply.started": "2020-04-26T21:26:20.689351Z"
    },
    "id": "zwj82jYZirmd",
    "outputId": "0b8caaad-c988-4e01-cd8d-a2c9ce5f17ed"
   },
   "outputs": [
    {
     "data": {
      "text/plain": [
       "(10137, 14)"
      ]
     },
     "execution_count": 14,
     "metadata": {},
     "output_type": "execute_result"
    }
   ],
   "source": [
    "df.shape"
   ]
  },
  {
   "cell_type": "code",
   "execution_count": 15,
   "metadata": {
    "colab": {
     "base_uri": "https://localhost:8080/",
     "height": 298
    },
    "colab_type": "code",
    "execution": {
     "iopub.execute_input": "2020-04-26T21:26:21.085804Z",
     "iopub.status.busy": "2020-04-26T21:26:21.085617Z",
     "iopub.status.idle": "2020-04-26T21:26:21.257412Z",
     "shell.execute_reply": "2020-04-26T21:26:21.256871Z",
     "shell.execute_reply.started": "2020-04-26T21:26:21.085783Z"
    },
    "id": "I5FHJvgairmg",
    "outputId": "04d5aaf7-6678-4c2a-ccd2-e4728cd1a96d"
   },
   "outputs": [
    {
     "data": {
      "text/plain": [
       "<matplotlib.axes._subplots.AxesSubplot at 0x7f1caadfcb90>"
      ]
     },
     "execution_count": 15,
     "metadata": {},
     "output_type": "execute_result"
    },
    {
     "data": {
      "image/png": "[encoded data removed]",
      "text/plain": [
       "<Figure size 432x288 with 1 Axes>"
      ]
     },
     "metadata": {
      "needs_background": "light"
     },
     "output_type": "display_data"
    }
   ],
   "source": [
    "sns.countplot(df.term_id)"
   ]
  },
  {
   "cell_type": "code",
   "execution_count": 16,
   "metadata": {
    "colab": {
     "base_uri": "https://localhost:8080/",
     "height": 300
    },
    "colab_type": "code",
    "execution": {
     "iopub.execute_input": "2020-04-26T21:26:21.463286Z",
     "iopub.status.busy": "2020-04-26T21:26:21.463075Z",
     "iopub.status.idle": "2020-04-26T21:26:21.469736Z",
     "shell.execute_reply": "2020-04-26T21:26:21.469080Z",
     "shell.execute_reply.started": "2020-04-26T21:26:21.463264Z"
    },
    "id": "aenljSrLDycq",
    "outputId": "aa6dbd67-6bc7-42c5-b43e-6177198a3557"
   },
   "outputs": [
    {
     "data": {
      "text/plain": [
       "Discoteche & Party     5421\n",
       "Aperitivo              1637\n",
       "Uncategorized          1471\n",
       "Magic The Gathering     534\n",
       "Cena con Delitto        370\n",
       "Latino Americano        227\n",
       "Arte                    183\n",
       "Carnevale                64\n",
       "San Valentino            51\n",
       "Teatro                   49\n",
       "Fotografia               48\n",
       "Halloween                42\n",
       "Capodanno                26\n",
       "Make Up                  12\n",
       "Ferragosto                2\n",
       "Name: term_name, dtype: int64"
      ]
     },
     "execution_count": 16,
     "metadata": {},
     "output_type": "execute_result"
    }
   ],
   "source": [
    "df.term_name.value_counts()"
   ]
  },
  {
   "cell_type": "markdown",
   "metadata": {
    "colab_type": "text",
    "id": "OPbsiiuPqimy"
   },
   "source": [
    "### Text cleaning"
   ]
  },
  {
   "cell_type": "code",
   "execution_count": 17,
   "metadata": {
    "colab": {},
    "colab_type": "code",
    "execution": {
     "iopub.execute_input": "2020-04-26T21:26:22.851821Z",
     "iopub.status.busy": "2020-04-26T21:26:22.851641Z",
     "iopub.status.idle": "2020-04-26T21:26:22.857131Z",
     "shell.execute_reply": "2020-04-26T21:26:22.856449Z",
     "shell.execute_reply.started": "2020-04-26T21:26:22.851801Z"
    },
    "id": "VBQ-jlzyirmi"
   },
   "outputs": [],
   "source": [
    "from text import PreProcessing"
   ]
  },
  {
   "cell_type": "code",
   "execution_count": 18,
   "metadata": {
    "colab": {
     "base_uri": "https://localhost:8080/",
     "height": 35
    },
    "colab_type": "code",
    "execution": {
     "iopub.execute_input": "2020-04-26T21:26:23.919174Z",
     "iopub.status.busy": "2020-04-26T21:26:23.918954Z",
     "iopub.status.idle": "2020-04-26T21:26:49.401476Z",
     "shell.execute_reply": "2020-04-26T21:26:49.401100Z",
     "shell.execute_reply.started": "2020-04-26T21:26:23.919142Z"
    },
    "id": "_5XLEGm9irml",
    "outputId": "90e599ad-a66a-4188-d38b-4cb67c9d725f"
   },
   "outputs": [
    {
     "name": "stderr",
     "output_type": "stream",
     "text": [
      "100%|██████████| 10137/10137 [00:25<00:00, 397.89it/s]\n"
     ]
    }
   ],
   "source": [
    "df[\"cleaned_desc\"] = df[\"description\"].progress_apply(PreProcessing.cleanText)"
   ]
  },
  {
   "cell_type": "code",
   "execution_count": 19,
   "metadata": {
    "colab": {
     "base_uri": "https://localhost:8080/",
     "height": 35
    },
    "colab_type": "code",
    "execution": {
     "iopub.execute_input": "2020-04-26T21:26:49.402293Z",
     "iopub.status.busy": "2020-04-26T21:26:49.402159Z",
     "iopub.status.idle": "2020-04-26T21:26:56.058355Z",
     "shell.execute_reply": "2020-04-26T21:26:56.057913Z",
     "shell.execute_reply.started": "2020-04-26T21:26:49.402275Z"
    },
    "id": "0XZOaOJ4irmo",
    "outputId": "31d1796f-b158-4b43-bb34-0a48a5f2363d"
   },
   "outputs": [
    {
     "name": "stderr",
     "output_type": "stream",
     "text": [
      "100%|██████████| 10137/10137 [00:06<00:00, 1524.03it/s]\n"
     ]
    }
   ],
   "source": [
    "df[\"cleaned_title\"] = df[\"title\"].progress_apply(PreProcessing.cleanText)"
   ]
  },
  {
   "cell_type": "code",
   "execution_count": 20,
   "metadata": {
    "colab": {},
    "colab_type": "code",
    "execution": {
     "iopub.execute_input": "2020-04-26T21:26:56.059700Z",
     "iopub.status.busy": "2020-04-26T21:26:56.059566Z",
     "iopub.status.idle": "2020-04-26T21:26:56.085867Z",
     "shell.execute_reply": "2020-04-26T21:26:56.085329Z",
     "shell.execute_reply.started": "2020-04-26T21:26:56.059682Z"
    },
    "id": "6hfHzFrrirmr"
   },
   "outputs": [],
   "source": [
    "df[\"full_cleaned\"] = df[\"cleaned_desc\"] + df[\"cleaned_title\"]"
   ]
  },
  {
   "cell_type": "code",
   "execution_count": 21,
   "metadata": {
    "colab": {},
    "colab_type": "code",
    "execution": {
     "iopub.execute_input": "2020-04-26T21:26:56.086803Z",
     "iopub.status.busy": "2020-04-26T21:26:56.086656Z",
     "iopub.status.idle": "2020-04-26T21:26:56.098875Z",
     "shell.execute_reply": "2020-04-26T21:26:56.098248Z",
     "shell.execute_reply.started": "2020-04-26T21:26:56.086784Z"
    },
    "id": "rgMGYFA6irmt"
   },
   "outputs": [],
   "source": [
    "df = df.reset_index()"
   ]
  },
  {
   "cell_type": "code",
   "execution_count": 22,
   "metadata": {
    "colab": {},
    "colab_type": "code",
    "execution": {
     "iopub.execute_input": "2020-04-26T21:26:56.099838Z",
     "iopub.status.busy": "2020-04-26T21:26:56.099675Z",
     "iopub.status.idle": "2020-04-26T21:26:56.133239Z",
     "shell.execute_reply": "2020-04-26T21:26:56.132655Z",
     "shell.execute_reply.started": "2020-04-26T21:26:56.099817Z"
    },
    "id": "BxORQ2Bpirmw"
   },
   "outputs": [],
   "source": [
    "# We consider events equal if they have the same id and title\n",
    "df = df.astype({\"user\": str, \"place_id\": str})\n",
    "\n",
    "join_func = lambda col: ', '.join(col)"
   ]
  },
  {
   "cell_type": "code",
   "execution_count": 23,
   "metadata": {
    "colab": {},
    "colab_type": "code",
    "execution": {
     "iopub.execute_input": "2020-04-26T21:26:56.134313Z",
     "iopub.status.busy": "2020-04-26T21:26:56.134130Z",
     "iopub.status.idle": "2020-04-26T21:26:56.486181Z",
     "shell.execute_reply": "2020-04-26T21:26:56.485576Z",
     "shell.execute_reply.started": "2020-04-26T21:26:56.134293Z"
    },
    "id": "11rT7Q21irmy"
   },
   "outputs": [],
   "source": [
    "df_merged = pd.DataFrame(df.groupby(['ID', 'cleaned_title'], as_index=False).agg({\n",
    "    'term_name': join_func,\n",
    "    'place_id': join_func,\n",
    "    'cleaned_desc' : join_func,\n",
    "    'full_cleaned' : join_func,\n",
    "    'user' : join_func}))"
   ]
  },
  {
   "cell_type": "code",
   "execution_count": 24,
   "metadata": {
    "colab": {
     "base_uri": "https://localhost:8080/",
     "height": 105
    },
    "colab_type": "code",
    "execution": {
     "iopub.execute_input": "2020-04-26T21:26:56.487020Z",
     "iopub.status.busy": "2020-04-26T21:26:56.486882Z",
     "iopub.status.idle": "2020-04-26T21:26:56.609088Z",
     "shell.execute_reply": "2020-04-26T21:26:56.608538Z",
     "shell.execute_reply.started": "2020-04-26T21:26:56.487001Z"
    },
    "id": "K2mHNuXMirm0",
    "outputId": "39e134d3-aad8-444d-9aac-10f3f7024545"
   },
   "outputs": [
    {
     "name": "stderr",
     "output_type": "stream",
     "text": [
      "100%|██████████| 8971/8971 [00:00<00:00, 278393.44it/s]\n",
      "100%|██████████| 8971/8971 [00:00<00:00, 277197.76it/s]\n",
      "100%|██████████| 8971/8971 [00:00<00:00, 671528.79it/s]\n",
      "100%|██████████| 8971/8971 [00:00<00:00, 586914.70it/s]\n",
      "100%|██████████| 8971/8971 [00:00<00:00, 658357.41it/s]\n"
     ]
    }
   ],
   "source": [
    "df_merged[\"full_cleaned\"] = df_merged[\"full_cleaned\"].progress_apply(lambda x: ' '.join(set(x.strip().split(\", \"))))\n",
    "df_merged[\"cleaned_desc\"] = df_merged[\"cleaned_desc\"].progress_apply(lambda x: ' '.join(set(x.strip().split(\", \"))))\n",
    "df_merged['user'] = df_merged['user'].progress_apply(lambda x: ', '.join(set(x.strip().split(\", \"))))\n",
    "df_merged['term_name'] = df_merged['term_name'].progress_apply(lambda x: set(x.strip().split(\", \")))\n",
    "df_merged['place_id'] = df_merged['place_id'].progress_apply(lambda x: ', '.join(set(x.strip().split(\", \"))))"
   ]
  },
  {
   "cell_type": "code",
   "execution_count": 25,
   "metadata": {
    "colab": {
     "base_uri": "https://localhost:8080/",
     "height": 287
    },
    "colab_type": "code",
    "execution": {
     "iopub.execute_input": "2020-04-26T21:26:56.611369Z",
     "iopub.status.busy": "2020-04-26T21:26:56.611187Z",
     "iopub.status.idle": "2020-04-26T21:26:56.622250Z",
     "shell.execute_reply": "2020-04-26T21:26:56.621590Z",
     "shell.execute_reply.started": "2020-04-26T21:26:56.611342Z"
    },
    "id": "Sf9s10XPirm2",
    "outputId": "1cd8a8ec-2684-4ffd-efcd-667d4d4aff7a"
   },
   "outputs": [
    {
     "data": {
      "text/html": [
       "<div>\n",
       "<style scoped>\n",
       "    .dataframe tbody tr th:only-of-type {\n",
       "        vertical-align: middle;\n",
       "    }\n",
       "\n",
       "    .dataframe tbody tr th {\n",
       "        vertical-align: top;\n",
       "    }\n",
       "\n",
       "    .dataframe thead th {\n",
       "        text-align: right;\n",
       "    }\n",
       "</style>\n",
       "<table border=\"1\" class=\"dataframe\">\n",
       "  <thead>\n",
       "    <tr style=\"text-align: right;\">\n",
       "      <th></th>\n",
       "      <th>ID</th>\n",
       "      <th>cleaned_title</th>\n",
       "      <th>term_name</th>\n",
       "      <th>place_id</th>\n",
       "      <th>cleaned_desc</th>\n",
       "      <th>full_cleaned</th>\n",
       "      <th>user</th>\n",
       "    </tr>\n",
       "  </thead>\n",
       "  <tbody>\n",
       "    <tr>\n",
       "      <th>0</th>\n",
       "      <td>1048</td>\n",
       "      <td>giovedi take away largo cairoli noche tropical</td>\n",
       "      <td>{Latino Americano}</td>\n",
       "      <td>90930</td>\n",
       "      <td>giovedi serata noche tropical take away largo ...</td>\n",
       "      <td>giovedi serata noche tropical take away largo ...</td>\n",
       "      <td>1</td>\n",
       "    </tr>\n",
       "    <tr>\n",
       "      <th>1</th>\n",
       "      <td>1124</td>\n",
       "      <td>ott arianna antinori hostaria cohen release party</td>\n",
       "      <td>{Uncategorized}</td>\n",
       "      <td>91136</td>\n",
       "      <td>ingresso gratuito invito richiedilo scrivendo ...</td>\n",
       "      <td>ingresso gratuito invito richiedilo scrivendo ...</td>\n",
       "      <td>1</td>\n",
       "    </tr>\n",
       "    <tr>\n",
       "      <th>2</th>\n",
       "      <td>1367</td>\n",
       "      <td>anathema alcest milano</td>\n",
       "      <td>{Uncategorized}</td>\n",
       "      <td>91136</td>\n",
       "      <td>anathema nuovo album data italiana piacere ann...</td>\n",
       "      <td>anathema nuovo album data italiana piacere ann...</td>\n",
       "      <td>1</td>\n",
       "    </tr>\n",
       "    <tr>\n",
       "      <th>3</th>\n",
       "      <td>1370</td>\n",
       "      <td>love haiducii milano sab ottobre alcatraz</td>\n",
       "      <td>{Discoteche &amp; Party}</td>\n",
       "      <td>91136</td>\n",
       "      <td>love xxl alcatraz milano sabato ottobre specia...</td>\n",
       "      <td>love xxl alcatraz milano sabato ottobre specia...</td>\n",
       "      <td>1</td>\n",
       "    </tr>\n",
       "    <tr>\n",
       "      <th>4</th>\n",
       "      <td>1374</td>\n",
       "      <td>fabri fibra ottobre milano alcatraz</td>\n",
       "      <td>{Uncategorized}</td>\n",
       "      <td>91136</td>\n",
       "      <td>fabri fibra fenomeno tour ottobre alcatraz mil...</td>\n",
       "      <td>fabri fibra fenomeno tour ottobre alcatraz mil...</td>\n",
       "      <td>1</td>\n",
       "    </tr>\n",
       "  </tbody>\n",
       "</table>\n",
       "</div>"
      ],
      "text/plain": [
       "     ID                                      cleaned_title  \\\n",
       "0  1048     giovedi take away largo cairoli noche tropical   \n",
       "1  1124  ott arianna antinori hostaria cohen release party   \n",
       "2  1367                             anathema alcest milano   \n",
       "3  1370          love haiducii milano sab ottobre alcatraz   \n",
       "4  1374                fabri fibra ottobre milano alcatraz   \n",
       "\n",
       "              term_name place_id  \\\n",
       "0    {Latino Americano}    90930   \n",
       "1       {Uncategorized}    91136   \n",
       "2       {Uncategorized}    91136   \n",
       "3  {Discoteche & Party}    91136   \n",
       "4       {Uncategorized}    91136   \n",
       "\n",
       "                                        cleaned_desc  \\\n",
       "0  giovedi serata noche tropical take away largo ...   \n",
       "1  ingresso gratuito invito richiedilo scrivendo ...   \n",
       "2  anathema nuovo album data italiana piacere ann...   \n",
       "3  love xxl alcatraz milano sabato ottobre specia...   \n",
       "4  fabri fibra fenomeno tour ottobre alcatraz mil...   \n",
       "\n",
       "                                        full_cleaned user  \n",
       "0  giovedi serata noche tropical take away largo ...    1  \n",
       "1  ingresso gratuito invito richiedilo scrivendo ...    1  \n",
       "2  anathema nuovo album data italiana piacere ann...    1  \n",
       "3  love xxl alcatraz milano sabato ottobre specia...    1  \n",
       "4  fabri fibra fenomeno tour ottobre alcatraz mil...    1  "
      ]
     },
     "execution_count": 25,
     "metadata": {},
     "output_type": "execute_result"
    }
   ],
   "source": [
    "df_merged.head()"
   ]
  },
  {
   "cell_type": "markdown",
   "metadata": {
    "colab_type": "text",
    "id": "oeCuS93MqovF"
   },
   "source": [
    "### One-hot encoding and vectorization of text"
   ]
  },
  {
   "cell_type": "code",
   "execution_count": 26,
   "metadata": {
    "colab": {
     "base_uri": "https://localhost:8080/",
     "height": 35
    },
    "colab_type": "code",
    "execution": {
     "iopub.execute_input": "2020-04-26T21:26:56.623926Z",
     "iopub.status.busy": "2020-04-26T21:26:56.623685Z",
     "iopub.status.idle": "2020-04-26T21:26:56.638958Z",
     "shell.execute_reply": "2020-04-26T21:26:56.638037Z",
     "shell.execute_reply.started": "2020-04-26T21:26:56.623896Z"
    },
    "id": "4SSEYx71irm5",
    "outputId": "46f20a85-e2f8-4bef-a0f5-19f75a5e6c41"
   },
   "outputs": [
    {
     "data": {
      "text/plain": [
       "array([0, 0, 0, 0, 0, 1, 0, 0, 0, 1, 0, 0, 0, 0, 0])"
      ]
     },
     "execution_count": 26,
     "metadata": {},
     "output_type": "execute_result"
    }
   ],
   "source": [
    "mlb = MultiLabelBinarizer()\n",
    "y = mlb.fit_transform(df_merged.term_name)\n",
    "y[126]"
   ]
  },
  {
   "cell_type": "code",
   "execution_count": 27,
   "metadata": {
    "colab": {},
    "colab_type": "code",
    "execution": {
     "iopub.execute_input": "2020-04-26T21:26:56.640344Z",
     "iopub.status.busy": "2020-04-26T21:26:56.640148Z",
     "iopub.status.idle": "2020-04-26T21:26:56.771952Z",
     "shell.execute_reply": "2020-04-26T21:26:56.771418Z",
     "shell.execute_reply.started": "2020-04-26T21:26:56.640324Z"
    },
    "id": "1SmBfdBcQYYy"
   },
   "outputs": [],
   "source": [
    "with open('df_merged.pk', 'wb') as file:\n",
    "    pickle.dump(df_merged, file)\n",
    "    \n",
    "with open('y.pk', 'wb') as file:\n",
    "    pickle.dump(y, file)\n",
    "\n",
    "with open('labels_list.pk', 'wb') as file:\n",
    "    pickle.dump(mlb.classes_, file)"
   ]
  },
  {
   "cell_type": "code",
   "execution_count": 13,
   "metadata": {
    "colab": {},
    "colab_type": "code",
    "execution": {
     "iopub.execute_input": "2020-04-27T13:17:43.059666Z",
     "iopub.status.busy": "2020-04-27T13:17:43.058922Z",
     "iopub.status.idle": "2020-04-27T13:17:43.362900Z",
     "shell.execute_reply": "2020-04-27T13:17:43.361964Z",
     "shell.execute_reply.started": "2020-04-27T13:17:43.059578Z"
    },
    "id": "lBbQh7w6irm7"
   },
   "outputs": [],
   "source": [
    "df_onehot_place = pd.get_dummies(df_merged['place_id'], prefix='place_id', drop_first=True)\n",
    "df_onehot_user = pd.get_dummies(df_merged['user'], prefix='user', drop_first=True)\n",
    "df_onehot = df_onehot_place.join(df_onehot_user)\n",
    "\n",
    "onehot_sparse = scipy.sparse.csr_matrix(df_onehot.values, dtype=np.int64)\n",
    "\n",
    "del df_onehot_place, df_onehot_user, df_onehot, df"
   ]
  },
  {
   "cell_type": "markdown",
   "metadata": {
    "colab_type": "text",
    "id": "p4Lsgi82irm-"
   },
   "source": [
    "We'll want to try different representations:\n",
    "1. BoW (descr + title)\n",
    "2. BoW (descr + title) + place + user\n",
    "3. Tfidf (descr + title)\n",
    "4. Tfidf (descr + title) + place + user"
   ]
  },
  {
   "cell_type": "code",
   "execution_count": 14,
   "metadata": {
    "colab": {},
    "colab_type": "code",
    "execution": {
     "iopub.execute_input": "2020-04-27T13:17:46.393151Z",
     "iopub.status.busy": "2020-04-27T13:17:46.392198Z",
     "iopub.status.idle": "2020-04-27T13:17:46.403333Z",
     "shell.execute_reply": "2020-04-27T13:17:46.400608Z",
     "shell.execute_reply.started": "2020-04-27T13:17:46.393057Z"
    },
    "id": "6cqlI8pg5a8W"
   },
   "outputs": [],
   "source": [
    "vect_bow = CountVectorizer()\n",
    "vect_tfidf = TfidfVectorizer()"
   ]
  },
  {
   "cell_type": "code",
   "execution_count": 15,
   "metadata": {
    "colab": {},
    "colab_type": "code",
    "execution": {
     "iopub.execute_input": "2020-04-27T13:17:47.230891Z",
     "iopub.status.busy": "2020-04-27T13:17:47.230147Z",
     "iopub.status.idle": "2020-04-27T13:17:50.018650Z",
     "shell.execute_reply": "2020-04-27T13:17:50.017742Z",
     "shell.execute_reply.started": "2020-04-27T13:17:47.230802Z"
    },
    "id": "MtJgjw50irnB"
   },
   "outputs": [],
   "source": [
    "X1 = vect_bow.fit_transform(df_merged['full_cleaned'])\n",
    "X2 = scipy.sparse.hstack([X1, onehot_sparse], dtype=np.int64, format=\"csr\")\n",
    "X3 = vect_tfidf.fit_transform(df_merged['full_cleaned'])\n",
    "X4 = scipy.sparse.hstack([X3, onehot_sparse], dtype=np.int64, format=\"csr\")"
   ]
  },
  {
   "cell_type": "code",
   "execution_count": 31,
   "metadata": {
    "colab": {},
    "colab_type": "code",
    "execution": {
     "iopub.execute_input": "2020-04-26T21:26:58.553003Z",
     "iopub.status.busy": "2020-04-26T21:26:58.552861Z",
     "iopub.status.idle": "2020-04-26T21:26:58.816762Z",
     "shell.execute_reply": "2020-04-26T21:26:58.816302Z",
     "shell.execute_reply.started": "2020-04-26T21:26:58.552984Z"
    },
    "id": "7yyrWXUUqTw8"
   },
   "outputs": [],
   "source": [
    "with open('bow_vectorizer.pk', 'wb') as vect:\n",
    "    pickle.dump(vect_bow, vect)\n",
    "\n",
    "with open('X2.pk', 'wb') as file:\n",
    "    pickle.dump(X2, file)\n",
    "    \n",
    "with open('tfidf_vectorizer.pk', 'wb') as vect:\n",
    "    pickle.dump(vect_tfidf, vect)\n",
    "\n",
    "with open('X3.pk', 'wb') as file:\n",
    "    pickle.dump(X3, file)"
   ]
  },
  {
   "cell_type": "markdown",
   "metadata": {
    "colab_type": "text",
    "id": "ZBArrEy_pwVL"
   },
   "source": [
    "## Experiments"
   ]
  },
  {
   "cell_type": "markdown",
   "metadata": {
    "colab_type": "text",
    "id": "QmVzwDekpylN"
   },
   "source": [
    "### Random Forest"
   ]
  },
  {
   "cell_type": "code",
   "execution_count": 32,
   "metadata": {
    "colab": {},
    "colab_type": "code",
    "execution": {
     "iopub.execute_input": "2020-04-26T21:26:58.817577Z",
     "iopub.status.busy": "2020-04-26T21:26:58.817445Z",
     "iopub.status.idle": "2020-04-26T21:26:59.210675Z",
     "shell.execute_reply": "2020-04-26T21:26:59.210174Z",
     "shell.execute_reply.started": "2020-04-26T21:26:58.817559Z"
    },
    "id": "vtKB8XXK1wwK"
   },
   "outputs": [],
   "source": [
    "X_train, y_train, X_test, y_test = iterative_train_test_split(X2, y, test_size = 0.3)"
   ]
  },
  {
   "cell_type": "code",
   "execution_count": 33,
   "metadata": {
    "colab": {
     "base_uri": "https://localhost:8080/",
     "height": 1000
    },
    "colab_type": "code",
    "execution": {
     "iopub.execute_input": "2020-04-26T21:26:59.211543Z",
     "iopub.status.busy": "2020-04-26T21:26:59.211349Z",
     "iopub.status.idle": "2020-04-26T21:27:05.509343Z",
     "shell.execute_reply": "2020-04-26T21:27:05.508500Z",
     "shell.execute_reply.started": "2020-04-26T21:26:59.211511Z"
    },
    "id": "ZbD7dCso_7ku",
    "outputId": "f1f0df20-51f9-4116-dadc-a5e7069d01b2"
   },
   "outputs": [
    {
     "name": "stderr",
     "output_type": "stream",
     "text": [
      "[Parallel(n_jobs=-1)]: Using backend ThreadingBackend with 8 concurrent workers.\n"
     ]
    },
    {
     "name": "stdout",
     "output_type": "stream",
     "text": [
      "building tree 1 of 100\n",
      "building tree 2 of 100\n",
      "building tree 3 of 100\n",
      "building tree 4 of 100\n",
      "building tree 5 of 100\n",
      "building tree 6 of 100\n",
      "building tree 7 of 100\n",
      "building tree 8 of 100\n",
      "building tree 9 of 100\n",
      "building tree 10 of 100\n",
      "building tree 11 of 100building tree 12 of 100\n",
      "\n",
      "building tree 13 of 100\n",
      "building tree 14 of 100\n",
      "building tree 15 of 100\n",
      "building tree 16 of 100\n"
     ]
    },
    {
     "name": "stderr",
     "output_type": "stream",
     "text": [
      "[Parallel(n_jobs=-1)]: Done   2 tasks      | elapsed:    0.4s\n"
     ]
    },
    {
     "name": "stdout",
     "output_type": "stream",
     "text": [
      "building tree 17 of 100\n",
      "building tree 18 of 100\n",
      "building tree 19 of 100\n",
      "building tree 20 of 100\n",
      "building tree 21 of 100\n",
      "building tree 22 of 100\n",
      "building tree 23 of 100\n",
      "building tree 24 of 100\n"
     ]
    },
    {
     "name": "stderr",
     "output_type": "stream",
     "text": [
      "[Parallel(n_jobs=-1)]: Done   9 tasks      | elapsed:    0.8s\n",
      "[Parallel(n_jobs=-1)]: Done  16 tasks      | elapsed:    0.8s\n"
     ]
    },
    {
     "name": "stdout",
     "output_type": "stream",
     "text": [
      "building tree 25 of 100\n",
      "building tree 26 of 100building tree 27 of 100\n",
      "\n",
      "building tree 28 of 100\n",
      "building tree 29 of 100\n",
      "building tree 30 of 100\n",
      "building tree 31 of 100\n",
      "building tree 32 of 100\n"
     ]
    },
    {
     "name": "stderr",
     "output_type": "stream",
     "text": [
      "[Parallel(n_jobs=-1)]: Done  25 tasks      | elapsed:    1.5s\n"
     ]
    },
    {
     "name": "stdout",
     "output_type": "stream",
     "text": [
      "building tree 33 of 100\n",
      "building tree 34 of 100\n",
      "building tree 35 of 100\n",
      "building tree 36 of 100\n",
      "building tree 37 of 100\n",
      "building tree 38 of 100\n",
      "building tree 39 of 100\n",
      "building tree 40 of 100\n",
      "building tree 41 of 100\n",
      "building tree 42 of 100\n",
      "building tree 43 of 100\n",
      "building tree 44 of 100\n",
      "building tree 45 of 100\n",
      "building tree 46 of 100\n",
      "building tree 47 of 100\n",
      "building tree 48 of 100\n"
     ]
    },
    {
     "name": "stderr",
     "output_type": "stream",
     "text": [
      "[Parallel(n_jobs=-1)]: Done  34 tasks      | elapsed:    1.9s\n"
     ]
    },
    {
     "name": "stdout",
     "output_type": "stream",
     "text": [
      "building tree 49 of 100\n",
      "building tree 50 of 100\n",
      "building tree 51 of 100\n",
      "building tree 52 of 100\n",
      "building tree 53 of 100\n",
      "building tree 54 of 100\n",
      "building tree 55 of 100\n"
     ]
    },
    {
     "name": "stderr",
     "output_type": "stream",
     "text": [
      "[Parallel(n_jobs=-1)]: Done  45 tasks      | elapsed:    2.4s\n"
     ]
    },
    {
     "name": "stdout",
     "output_type": "stream",
     "text": [
      "building tree 56 of 100\n",
      "building tree 57 of 100\n",
      "building tree 58 of 100building tree 59 of 100\n",
      "\n",
      "building tree 60 of 100\n",
      "building tree 61 of 100\n",
      "building tree 62 of 100\n",
      "building tree 63 of 100\n"
     ]
    },
    {
     "name": "stderr",
     "output_type": "stream",
     "text": [
      "[Parallel(n_jobs=-1)]: Done  56 tasks      | elapsed:    3.1s\n"
     ]
    },
    {
     "name": "stdout",
     "output_type": "stream",
     "text": [
      "building tree 64 of 100\n",
      "building tree 65 of 100\n",
      "building tree 66 of 100\n",
      "building tree 67 of 100\n",
      "building tree 68 of 100\n",
      "building tree 69 of 100\n",
      "building tree 70 of 100\n",
      "building tree 71 of 100\n",
      "building tree 72 of 100\n",
      "building tree 73 of 100\n",
      "building tree 74 of 100\n",
      "building tree 75 of 100\n",
      "building tree 76 of 100\n",
      "building tree 77 of 100\n",
      "building tree 78 of 100\n",
      "building tree 79 of 100\n"
     ]
    },
    {
     "name": "stderr",
     "output_type": "stream",
     "text": [
      "[Parallel(n_jobs=-1)]: Done  69 tasks      | elapsed:    4.1s\n"
     ]
    },
    {
     "name": "stdout",
     "output_type": "stream",
     "text": [
      "building tree 80 of 100\n",
      "building tree 81 of 100\n",
      "building tree 82 of 100\n",
      "building tree 83 of 100\n",
      "building tree 84 of 100\n",
      "building tree 85 of 100\n",
      "building tree 86 of 100\n",
      "building tree 87 of 100building tree 88 of 100\n",
      "\n",
      "building tree 89 of 100\n"
     ]
    },
    {
     "name": "stderr",
     "output_type": "stream",
     "text": [
      "[Parallel(n_jobs=-1)]: Done  82 tasks      | elapsed:    5.1s\n"
     ]
    },
    {
     "name": "stdout",
     "output_type": "stream",
     "text": [
      "building tree 90 of 100\n",
      "building tree 91 of 100\n",
      "building tree 92 of 100\n",
      "building tree 93 of 100\n",
      "building tree 94 of 100\n",
      "building tree 95 of 100\n",
      "building tree 96 of 100\n",
      "building tree 97 of 100\n",
      "building tree 98 of 100\n",
      "building tree 99 of 100\n",
      "building tree 100 of 100\n"
     ]
    },
    {
     "name": "stderr",
     "output_type": "stream",
     "text": [
      "[Parallel(n_jobs=-1)]: Done  96 out of 100 | elapsed:    6.0s remaining:    0.3s\n",
      "[Parallel(n_jobs=-1)]: Done 100 out of 100 | elapsed:    6.2s finished\n"
     ]
    },
    {
     "data": {
      "text/plain": [
       "RandomForestClassifier(bootstrap=True, ccp_alpha=0.0, class_weight=None,\n",
       "                       criterion='gini', max_depth=None, max_features='auto',\n",
       "                       max_leaf_nodes=None, max_samples=None,\n",
       "                       min_impurity_decrease=0.0, min_impurity_split=None,\n",
       "                       min_samples_leaf=1, min_samples_split=2,\n",
       "                       min_weight_fraction_leaf=0.0, n_estimators=100,\n",
       "                       n_jobs=-1, oob_score=False, random_state=123, verbose=10,\n",
       "                       warm_start=False)"
      ]
     },
     "execution_count": 33,
     "metadata": {},
     "output_type": "execute_result"
    }
   ],
   "source": [
    "clf = RandomForestClassifier(verbose = 10, n_jobs=-1, random_state=123)\n",
    "clf.fit(X_train, y_train)"
   ]
  },
  {
   "cell_type": "code",
   "execution_count": 34,
   "metadata": {
    "colab": {
     "base_uri": "https://localhost:8080/",
     "height": 425
    },
    "colab_type": "code",
    "execution": {
     "iopub.execute_input": "2020-04-26T21:27:05.510334Z",
     "iopub.status.busy": "2020-04-26T21:27:05.510118Z",
     "iopub.status.idle": "2020-04-26T21:27:06.326018Z",
     "shell.execute_reply": "2020-04-26T21:27:06.325425Z",
     "shell.execute_reply.started": "2020-04-26T21:27:05.510300Z"
    },
    "id": "CF14-s1kAIo9",
    "outputId": "9451851f-962f-4b79-b666-5c5643022068"
   },
   "outputs": [
    {
     "name": "stderr",
     "output_type": "stream",
     "text": [
      "[Parallel(n_jobs=8)]: Using backend ThreadingBackend with 8 concurrent workers.\n",
      "[Parallel(n_jobs=8)]: Done   2 tasks      | elapsed:    0.0s\n",
      "[Parallel(n_jobs=8)]: Done   9 tasks      | elapsed:    0.1s\n",
      "[Parallel(n_jobs=8)]: Done  16 tasks      | elapsed:    0.1s\n",
      "[Parallel(n_jobs=8)]: Done  25 tasks      | elapsed:    0.2s\n",
      "[Parallel(n_jobs=8)]: Done  34 tasks      | elapsed:    0.2s\n",
      "[Parallel(n_jobs=8)]: Done  45 tasks      | elapsed:    0.3s\n",
      "[Parallel(n_jobs=8)]: Done  56 tasks      | elapsed:    0.3s\n",
      "[Parallel(n_jobs=8)]: Done  69 tasks      | elapsed:    0.4s\n",
      "[Parallel(n_jobs=8)]: Done  82 tasks      | elapsed:    0.4s\n",
      "[Parallel(n_jobs=8)]: Done  96 out of 100 | elapsed:    0.5s remaining:    0.0s\n",
      "[Parallel(n_jobs=8)]: Done 100 out of 100 | elapsed:    0.5s finished\n",
      "[Parallel(n_jobs=8)]: Using backend ThreadingBackend with 8 concurrent workers.\n",
      "[Parallel(n_jobs=8)]: Done   2 tasks      | elapsed:    0.0s\n",
      "[Parallel(n_jobs=8)]: Done   9 tasks      | elapsed:    0.0s\n",
      "[Parallel(n_jobs=8)]: Done  16 tasks      | elapsed:    0.0s\n",
      "[Parallel(n_jobs=8)]: Done  25 tasks      | elapsed:    0.1s\n",
      "[Parallel(n_jobs=8)]: Done  34 tasks      | elapsed:    0.1s\n",
      "[Parallel(n_jobs=8)]: Done  45 tasks      | elapsed:    0.1s\n",
      "[Parallel(n_jobs=8)]: Done  56 tasks      | elapsed:    0.1s\n",
      "[Parallel(n_jobs=8)]: Done  69 tasks      | elapsed:    0.1s\n",
      "[Parallel(n_jobs=8)]: Done  82 tasks      | elapsed:    0.2s\n",
      "[Parallel(n_jobs=8)]: Done  96 out of 100 | elapsed:    0.2s remaining:    0.0s\n",
      "[Parallel(n_jobs=8)]: Done 100 out of 100 | elapsed:    0.2s finished\n"
     ]
    }
   ],
   "source": [
    "y_hat_train = clf.predict(X_train)\n",
    "y_hat_test = clf.predict(X_test)"
   ]
  },
  {
   "cell_type": "code",
   "execution_count": 35,
   "metadata": {
    "colab": {
     "base_uri": "https://localhost:8080/",
     "height": 34
    },
    "colab_type": "code",
    "execution": {
     "iopub.execute_input": "2020-04-26T21:27:06.326938Z",
     "iopub.status.busy": "2020-04-26T21:27:06.326765Z",
     "iopub.status.idle": "2020-04-26T21:27:06.350083Z",
     "shell.execute_reply": "2020-04-26T21:27:06.349485Z",
     "shell.execute_reply.started": "2020-04-26T21:27:06.326916Z"
    },
    "id": "-wkI-TdDCITt",
    "outputId": "667c07be-1b3f-4e1a-fa67-8cc0e488b183"
   },
   "outputs": [
    {
     "data": {
      "text/plain": [
       "(0.9915397631133672, 0.9361928394186458)"
      ]
     },
     "execution_count": 35,
     "metadata": {},
     "output_type": "execute_result"
    }
   ],
   "source": [
    "precision_score(y_train, y_hat_train, average='micro'), precision_score(y_test, y_hat_test, average='micro')"
   ]
  },
  {
   "cell_type": "code",
   "execution_count": 36,
   "metadata": {
    "colab": {
     "base_uri": "https://localhost:8080/",
     "height": 34
    },
    "colab_type": "code",
    "execution": {
     "iopub.execute_input": "2020-04-26T21:27:06.351123Z",
     "iopub.status.busy": "2020-04-26T21:27:06.350930Z",
     "iopub.status.idle": "2020-04-26T21:27:06.371223Z",
     "shell.execute_reply": "2020-04-26T21:27:06.370664Z",
     "shell.execute_reply.started": "2020-04-26T21:27:06.351100Z"
    },
    "id": "FUTja2l6Ceix",
    "outputId": "dc7affd4-0ce6-4eed-a720-eb7c8fda8fb7"
   },
   "outputs": [
    {
     "data": {
      "text/plain": [
       "(0.9908412005072565, 0.86875)"
      ]
     },
     "execution_count": 36,
     "metadata": {},
     "output_type": "execute_result"
    }
   ],
   "source": [
    "recall_score(y_train, y_hat_train, average='micro'), recall_score(y_test, y_hat_test, average='micro')"
   ]
  },
  {
   "cell_type": "code",
   "execution_count": 37,
   "metadata": {
    "colab": {
     "base_uri": "https://localhost:8080/",
     "height": 34
    },
    "colab_type": "code",
    "execution": {
     "iopub.execute_input": "2020-04-26T21:27:06.372171Z",
     "iopub.status.busy": "2020-04-26T21:27:06.371988Z",
     "iopub.status.idle": "2020-04-26T21:27:06.392177Z",
     "shell.execute_reply": "2020-04-26T21:27:06.391662Z",
     "shell.execute_reply.started": "2020-04-26T21:27:06.372148Z"
    },
    "id": "IpvwYKvJAJbj",
    "outputId": "d5f38b10-55ff-4687-ec85-a74e6676f9c1"
   },
   "outputs": [
    {
     "data": {
      "text/plain": [
       "(0.9911903587285926, 0.9012113973724621)"
      ]
     },
     "execution_count": 37,
     "metadata": {},
     "output_type": "execute_result"
    }
   ],
   "source": [
    "f1_score(y_train, y_hat_train, average='micro'), f1_score(y_test, y_hat_test, average='micro')"
   ]
  },
  {
   "cell_type": "code",
   "execution_count": 38,
   "metadata": {
    "colab": {
     "base_uri": "https://localhost:8080/",
     "height": 530
    },
    "colab_type": "code",
    "execution": {
     "iopub.execute_input": "2020-04-26T21:27:06.393185Z",
     "iopub.status.busy": "2020-04-26T21:27:06.392979Z",
     "iopub.status.idle": "2020-04-26T21:27:06.408478Z",
     "shell.execute_reply": "2020-04-26T21:27:06.407871Z",
     "shell.execute_reply.started": "2020-04-26T21:27:06.393161Z"
    },
    "id": "yAj8RSZYFEP6",
    "outputId": "cfb94738-a85e-436e-9926-df3ae359c60d"
   },
   "outputs": [
    {
     "name": "stdout",
     "output_type": "stream",
     "text": [
      "              precision    recall  f1-score   support\n",
      "\n",
      "           0       0.86      0.74      0.79       491\n",
      "           1       1.00      0.51      0.67        55\n",
      "           2       0.00      0.00      0.00         7\n",
      "           3       0.00      0.00      0.00        21\n",
      "           4       0.98      0.90      0.94       111\n",
      "           5       0.98      0.95      0.96      1626\n",
      "           6       0.00      0.00      0.00         0\n",
      "           7       1.00      0.43      0.60        14\n",
      "           8       0.00      0.00      0.00        12\n",
      "           9       0.92      0.66      0.77        68\n",
      "          10       0.96      0.98      0.97       160\n",
      "          11       0.00      0.00      0.00         4\n",
      "          12       0.00      0.00      0.00        15\n",
      "          13       1.00      0.20      0.33        15\n",
      "          14       0.84      0.91      0.87       441\n",
      "\n",
      "   micro avg       0.94      0.87      0.90      3040\n",
      "   macro avg       0.57      0.42      0.46      3040\n",
      "weighted avg       0.92      0.87      0.89      3040\n",
      " samples avg       0.90      0.88      0.89      3040\n",
      "\n"
     ]
    },
    {
     "name": "stderr",
     "output_type": "stream",
     "text": [
      "/home/nick/anaconda3/lib/python3.7/site-packages/sklearn/metrics/_classification.py:1272: UndefinedMetricWarning: Precision and F-score are ill-defined and being set to 0.0 in labels with no predicted samples. Use `zero_division` parameter to control this behavior.\n",
      "  _warn_prf(average, modifier, msg_start, len(result))\n",
      "/home/nick/anaconda3/lib/python3.7/site-packages/sklearn/metrics/_classification.py:1272: UndefinedMetricWarning: Recall and F-score are ill-defined and being set to 0.0 in labels with no true samples. Use `zero_division` parameter to control this behavior.\n",
      "  _warn_prf(average, modifier, msg_start, len(result))\n",
      "/home/nick/anaconda3/lib/python3.7/site-packages/sklearn/metrics/_classification.py:1272: UndefinedMetricWarning: Precision and F-score are ill-defined and being set to 0.0 in samples with no predicted labels. Use `zero_division` parameter to control this behavior.\n",
      "  _warn_prf(average, modifier, msg_start, len(result))\n"
     ]
    }
   ],
   "source": [
    "print(classification_report(y_test, y_hat_test))"
   ]
  },
  {
   "cell_type": "code",
   "execution_count": 39,
   "metadata": {
    "colab": {
     "base_uri": "https://localhost:8080/",
     "height": 765
    },
    "colab_type": "code",
    "execution": {
     "iopub.execute_input": "2020-04-26T21:27:06.409531Z",
     "iopub.status.busy": "2020-04-26T21:27:06.409343Z",
     "iopub.status.idle": "2020-04-26T21:27:06.415496Z",
     "shell.execute_reply": "2020-04-26T21:27:06.414998Z",
     "shell.execute_reply.started": "2020-04-26T21:27:06.409507Z"
    },
    "id": "QZ8jXxqWkr81",
    "outputId": "173e7f6c-edfc-4b77-b166-b1c9fbc1e50d"
   },
   "outputs": [
    {
     "name": "stdout",
     "output_type": "stream",
     "text": [
      "[[[2139   58]\n",
      "  [ 129  362]]\n",
      "\n",
      " [[2633    0]\n",
      "  [  27   28]]\n",
      "\n",
      " [[2681    0]\n",
      "  [   7    0]]\n",
      "\n",
      " [[2665    2]\n",
      "  [  21    0]]\n",
      "\n",
      " [[2575    2]\n",
      "  [  11  100]]\n",
      "\n",
      " [[1031   31]\n",
      "  [  87 1539]]\n",
      "\n",
      " [[2688    0]\n",
      "  [   0    0]]\n",
      "\n",
      " [[2674    0]\n",
      "  [   8    6]]\n",
      "\n",
      " [[2676    0]\n",
      "  [  12    0]]\n",
      "\n",
      " [[2616    4]\n",
      "  [  23   45]]\n",
      "\n",
      " [[2522    6]\n",
      "  [   3  157]]\n",
      "\n",
      " [[2684    0]\n",
      "  [   4    0]]\n",
      "\n",
      " [[2673    0]\n",
      "  [  15    0]]\n",
      "\n",
      " [[2673    0]\n",
      "  [  12    3]]\n",
      "\n",
      " [[2170   77]\n",
      "  [  40  401]]]\n"
     ]
    }
   ],
   "source": [
    "print(multilabel_confusion_matrix(y_test, y_hat_test))"
   ]
  },
  {
   "cell_type": "code",
   "execution_count": 40,
   "metadata": {
    "colab": {},
    "colab_type": "code",
    "execution": {
     "iopub.execute_input": "2020-04-26T21:27:06.417677Z",
     "iopub.status.busy": "2020-04-26T21:27:06.417493Z",
     "iopub.status.idle": "2020-04-26T21:41:42.044903Z",
     "shell.execute_reply": "2020-04-26T21:41:42.044210Z",
     "shell.execute_reply.started": "2020-04-26T21:27:06.417655Z"
    },
    "id": "gqcx7HCeC1Xw"
   },
   "outputs": [
    {
     "name": "stdout",
     "output_type": "stream",
     "text": [
      "Fitting 5 folds for each of 96 candidates, totalling 480 fits\n"
     ]
    },
    {
     "name": "stderr",
     "output_type": "stream",
     "text": [
      "[Parallel(n_jobs=-1)]: Using backend LokyBackend with 8 concurrent workers.\n",
      "[Parallel(n_jobs=-1)]: Done   2 tasks      | elapsed:    7.4s\n",
      "[Parallel(n_jobs=-1)]: Done   9 tasks      | elapsed:   19.6s\n",
      "[Parallel(n_jobs=-1)]: Done  16 tasks      | elapsed:   32.8s\n",
      "[Parallel(n_jobs=-1)]: Done  25 tasks      | elapsed:   50.8s\n",
      "[Parallel(n_jobs=-1)]: Done  34 tasks      | elapsed:  1.2min\n",
      "[Parallel(n_jobs=-1)]: Done  45 tasks      | elapsed:  1.5min\n",
      "[Parallel(n_jobs=-1)]: Done  56 tasks      | elapsed:  1.8min\n",
      "[Parallel(n_jobs=-1)]: Done  69 tasks      | elapsed:  2.1min\n",
      "[Parallel(n_jobs=-1)]: Done  82 tasks      | elapsed:  2.4min\n",
      "[Parallel(n_jobs=-1)]: Done  97 tasks      | elapsed:  2.6min\n",
      "[Parallel(n_jobs=-1)]: Done 112 tasks      | elapsed:  2.8min\n",
      "[Parallel(n_jobs=-1)]: Done 129 tasks      | elapsed:  3.2min\n",
      "[Parallel(n_jobs=-1)]: Done 146 tasks      | elapsed:  3.8min\n",
      "[Parallel(n_jobs=-1)]: Done 165 tasks      | elapsed:  4.4min\n",
      "[Parallel(n_jobs=-1)]: Done 184 tasks      | elapsed:  4.9min\n",
      "[Parallel(n_jobs=-1)]: Done 205 tasks      | elapsed:  5.4min\n",
      "[Parallel(n_jobs=-1)]: Done 226 tasks      | elapsed:  5.7min\n",
      "[Parallel(n_jobs=-1)]: Done 249 tasks      | elapsed:  6.2min\n",
      "[Parallel(n_jobs=-1)]: Done 272 tasks      | elapsed:  7.4min\n",
      "[Parallel(n_jobs=-1)]: Done 297 tasks      | elapsed:  8.4min\n",
      "[Parallel(n_jobs=-1)]: Done 322 tasks      | elapsed:  9.2min\n",
      "[Parallel(n_jobs=-1)]: Done 349 tasks      | elapsed:  9.8min\n",
      "[Parallel(n_jobs=-1)]: Done 376 tasks      | elapsed: 10.8min\n",
      "[Parallel(n_jobs=-1)]: Done 405 tasks      | elapsed: 12.1min\n",
      "[Parallel(n_jobs=-1)]: Done 434 tasks      | elapsed: 13.3min\n",
      "[Parallel(n_jobs=-1)]: Done 465 tasks      | elapsed: 13.9min\n",
      "[Parallel(n_jobs=-1)]: Done 480 out of 480 | elapsed: 14.3min finished\n"
     ]
    },
    {
     "data": {
      "text/plain": [
       "({'bootstrap': False,\n",
       "  'max_depth': 100,\n",
       "  'min_samples_leaf': 5,\n",
       "  'min_samples_split': 10,\n",
       "  'n_estimators': 500},\n",
       " 0.8105089517072536)"
      ]
     },
     "execution_count": 40,
     "metadata": {},
     "output_type": "execute_result"
    }
   ],
   "source": [
    "param_grid = [{'n_estimators':[100,200,300,500], \n",
    "               'max_depth':[50,100], 'min_samples_leaf':[5,10,50],\n",
    "              'min_samples_split':[5,10],\n",
    "              'bootstrap':[True,False]}]\n",
    "\n",
    "rf = RandomForestClassifier()\n",
    "clf = GridSearchCV(rf, param_grid, cv = 5, verbose=10, n_jobs=-1, scoring='f1_micro')\n",
    "\n",
    "clf.fit(X_train, y_train)\n",
    "\n",
    "clf.best_params_, clf.best_score_"
   ]
  },
  {
   "cell_type": "code",
   "execution_count": 55,
   "metadata": {
    "colab": {},
    "colab_type": "code",
    "execution": {
     "iopub.execute_input": "2020-04-26T21:42:16.123351Z",
     "iopub.status.busy": "2020-04-26T21:42:16.123072Z",
     "iopub.status.idle": "2020-04-26T21:42:17.676626Z",
     "shell.execute_reply": "2020-04-26T21:42:17.675966Z",
     "shell.execute_reply.started": "2020-04-26T21:42:16.123308Z"
    },
    "id": "YIhKe8_kD6fd"
   },
   "outputs": [],
   "source": [
    "y_hat_test = clf.predict(X_test)"
   ]
  },
  {
   "cell_type": "code",
   "execution_count": 56,
   "metadata": {
    "colab": {},
    "colab_type": "code",
    "execution": {
     "iopub.execute_input": "2020-04-26T21:42:17.677761Z",
     "iopub.status.busy": "2020-04-26T21:42:17.677607Z",
     "iopub.status.idle": "2020-04-26T21:42:17.686467Z",
     "shell.execute_reply": "2020-04-26T21:42:17.685942Z",
     "shell.execute_reply.started": "2020-04-26T21:42:17.677742Z"
    },
    "id": "lK4jY6iLD-1f"
   },
   "outputs": [
    {
     "data": {
      "text/plain": [
       "0.8901062416998672"
      ]
     },
     "execution_count": 56,
     "metadata": {},
     "output_type": "execute_result"
    }
   ],
   "source": [
    "precision_score(y_test, y_hat_test, average='micro')"
   ]
  },
  {
   "cell_type": "code",
   "execution_count": 57,
   "metadata": {
    "colab": {},
    "colab_type": "code",
    "execution": {
     "iopub.execute_input": "2020-04-26T21:42:17.687251Z",
     "iopub.status.busy": "2020-04-26T21:42:17.687104Z",
     "iopub.status.idle": "2020-04-26T21:42:17.708088Z",
     "shell.execute_reply": "2020-04-26T21:42:17.707524Z",
     "shell.execute_reply.started": "2020-04-26T21:42:17.687232Z"
    },
    "id": "lNmzU0U3D-1r"
   },
   "outputs": [
    {
     "data": {
      "text/plain": [
       "0.8819078947368421"
      ]
     },
     "execution_count": 57,
     "metadata": {},
     "output_type": "execute_result"
    }
   ],
   "source": [
    "recall_score(y_test, y_hat_test, average='micro')"
   ]
  },
  {
   "cell_type": "code",
   "execution_count": 58,
   "metadata": {
    "colab": {},
    "colab_type": "code",
    "execution": {
     "iopub.execute_input": "2020-04-26T21:42:17.709276Z",
     "iopub.status.busy": "2020-04-26T21:42:17.709020Z",
     "iopub.status.idle": "2020-04-26T21:42:17.719193Z",
     "shell.execute_reply": "2020-04-26T21:42:17.718193Z",
     "shell.execute_reply.started": "2020-04-26T21:42:17.709244Z"
    },
    "id": "BaAQlJ8xD-1y"
   },
   "outputs": [
    {
     "data": {
      "text/plain": [
       "0.8859881031064111"
      ]
     },
     "execution_count": 58,
     "metadata": {},
     "output_type": "execute_result"
    }
   ],
   "source": [
    "f1_score(y_test, y_hat_test, average='micro')"
   ]
  },
  {
   "cell_type": "markdown",
   "metadata": {
    "colab_type": "text",
    "id": "0qhuR-jVp7Y1"
   },
   "source": [
    "### KNN"
   ]
  },
  {
   "cell_type": "code",
   "execution_count": 59,
   "metadata": {
    "colab": {
     "base_uri": "https://localhost:8080/",
     "height": 68
    },
    "colab_type": "code",
    "execution": {
     "iopub.execute_input": "2020-04-26T21:42:17.720320Z",
     "iopub.status.busy": "2020-04-26T21:42:17.720031Z",
     "iopub.status.idle": "2020-04-26T21:42:17.731105Z",
     "shell.execute_reply": "2020-04-26T21:42:17.730461Z",
     "shell.execute_reply.started": "2020-04-26T21:42:17.720296Z"
    },
    "id": "Xd7MXPx9irnI",
    "outputId": "b4f74b86-c4cc-4d16-ff26-f071c10ff7c7"
   },
   "outputs": [
    {
     "data": {
      "text/plain": [
       "KNeighborsClassifier(algorithm='auto', leaf_size=30, metric='minkowski',\n",
       "                     metric_params=None, n_jobs=-1, n_neighbors=5, p=2,\n",
       "                     weights='uniform')"
      ]
     },
     "execution_count": 59,
     "metadata": {},
     "output_type": "execute_result"
    }
   ],
   "source": [
    "clf = KNeighborsClassifier(n_jobs=-1)\n",
    "clf.fit(X_train, y_train)"
   ]
  },
  {
   "cell_type": "code",
   "execution_count": 60,
   "metadata": {
    "colab": {},
    "colab_type": "code",
    "execution": {
     "iopub.execute_input": "2020-04-26T21:42:17.732003Z",
     "iopub.status.busy": "2020-04-26T21:42:17.731846Z",
     "iopub.status.idle": "2020-04-26T21:42:22.340346Z",
     "shell.execute_reply": "2020-04-26T21:42:22.339805Z",
     "shell.execute_reply.started": "2020-04-26T21:42:17.731982Z"
    },
    "id": "qCZ88NqrirnL"
   },
   "outputs": [],
   "source": [
    "y_hat_train = clf.predict(X_train)\n",
    "y_hat_test = clf.predict(X_test)"
   ]
  },
  {
   "cell_type": "code",
   "execution_count": 61,
   "metadata": {
    "colab": {
     "base_uri": "https://localhost:8080/",
     "height": 34
    },
    "colab_type": "code",
    "execution": {
     "iopub.execute_input": "2020-04-26T21:42:22.341314Z",
     "iopub.status.busy": "2020-04-26T21:42:22.341151Z",
     "iopub.status.idle": "2020-04-26T21:42:22.360811Z",
     "shell.execute_reply": "2020-04-26T21:42:22.360275Z",
     "shell.execute_reply.started": "2020-04-26T21:42:22.341282Z"
    },
    "id": "hXA8To6hCvJQ",
    "outputId": "9bd17120-4235-40b0-bc2a-10b0991efe72"
   },
   "outputs": [
    {
     "data": {
      "text/plain": [
       "(0.9337613072658302, 0.8652653342522398)"
      ]
     },
     "execution_count": 61,
     "metadata": {},
     "output_type": "execute_result"
    }
   ],
   "source": [
    "precision_score(y_train, y_hat_train, average='micro'), precision_score(y_test, y_hat_test, average='micro')"
   ]
  },
  {
   "cell_type": "code",
   "execution_count": 62,
   "metadata": {
    "colab": {
     "base_uri": "https://localhost:8080/",
     "height": 34
    },
    "colab_type": "code",
    "execution": {
     "iopub.execute_input": "2020-04-26T21:42:22.361707Z",
     "iopub.status.busy": "2020-04-26T21:42:22.361530Z",
     "iopub.status.idle": "2020-04-26T21:42:22.380783Z",
     "shell.execute_reply": "2020-04-26T21:42:22.380117Z",
     "shell.execute_reply.started": "2020-04-26T21:42:22.361687Z"
    },
    "id": "PfoAvMBmCvJa",
    "outputId": "2255ff9d-e531-407f-ff5b-222e8ddd2070"
   },
   "outputs": [
    {
     "data": {
      "text/plain": [
       "(0.9017894885162745, 0.8259868421052632)"
      ]
     },
     "execution_count": 62,
     "metadata": {},
     "output_type": "execute_result"
    }
   ],
   "source": [
    "recall_score(y_train, y_hat_train, average='micro'), recall_score(y_test, y_hat_test, average='micro')"
   ]
  },
  {
   "cell_type": "code",
   "execution_count": 63,
   "metadata": {
    "colab": {
     "base_uri": "https://localhost:8080/",
     "height": 34
    },
    "colab_type": "code",
    "execution": {
     "iopub.execute_input": "2020-04-26T21:42:22.381701Z",
     "iopub.status.busy": "2020-04-26T21:42:22.381551Z",
     "iopub.status.idle": "2020-04-26T21:42:22.399943Z",
     "shell.execute_reply": "2020-04-26T21:42:22.399458Z",
     "shell.execute_reply.started": "2020-04-26T21:42:22.381680Z"
    },
    "id": "tHsceKXNirnN",
    "outputId": "55613730-6be5-491d-f533-c27b62876ba8"
   },
   "outputs": [
    {
     "data": {
      "text/plain": [
       "(0.9174969536233962, 0.8451699764389096)"
      ]
     },
     "execution_count": 63,
     "metadata": {},
     "output_type": "execute_result"
    }
   ],
   "source": [
    "f1_score(y_train, y_hat_train, average='micro'), f1_score(y_test, y_hat_test, average='micro')"
   ]
  },
  {
   "cell_type": "code",
   "execution_count": 64,
   "metadata": {
    "colab": {
     "base_uri": "https://localhost:8080/",
     "height": 530
    },
    "colab_type": "code",
    "execution": {
     "iopub.execute_input": "2020-04-26T21:42:22.400631Z",
     "iopub.status.busy": "2020-04-26T21:42:22.400500Z",
     "iopub.status.idle": "2020-04-26T21:42:22.413107Z",
     "shell.execute_reply": "2020-04-26T21:42:22.412515Z",
     "shell.execute_reply.started": "2020-04-26T21:42:22.400613Z"
    },
    "id": "FPZTAeNaMA8B",
    "outputId": "2ccf35f2-eb0d-461a-b875-cce440c3fdbf"
   },
   "outputs": [
    {
     "name": "stdout",
     "output_type": "stream",
     "text": [
      "              precision    recall  f1-score   support\n",
      "\n",
      "           0       0.77      0.68      0.72       491\n",
      "           1       1.00      0.42      0.59        55\n",
      "           2       0.00      0.00      0.00         7\n",
      "           3       0.00      0.00      0.00        21\n",
      "           4       0.98      0.74      0.84       111\n",
      "           5       0.96      0.90      0.93      1626\n",
      "           6       0.00      0.00      0.00         0\n",
      "           7       1.00      0.29      0.44        14\n",
      "           8       1.00      0.08      0.15        12\n",
      "           9       0.82      0.68      0.74        68\n",
      "          10       0.89      0.95      0.92       160\n",
      "          11       0.00      0.00      0.00         4\n",
      "          12       1.00      0.07      0.12        15\n",
      "          13       1.00      0.33      0.50        15\n",
      "          14       0.66      0.90      0.76       441\n",
      "\n",
      "   micro avg       0.87      0.83      0.85      3040\n",
      "   macro avg       0.67      0.40      0.45      3040\n",
      "weighted avg       0.87      0.83      0.84      3040\n",
      " samples avg       0.85      0.84      0.84      3040\n",
      "\n"
     ]
    },
    {
     "name": "stderr",
     "output_type": "stream",
     "text": [
      "/home/nick/anaconda3/lib/python3.7/site-packages/sklearn/metrics/_classification.py:1272: UndefinedMetricWarning: Precision and F-score are ill-defined and being set to 0.0 in labels with no predicted samples. Use `zero_division` parameter to control this behavior.\n",
      "  _warn_prf(average, modifier, msg_start, len(result))\n",
      "/home/nick/anaconda3/lib/python3.7/site-packages/sklearn/metrics/_classification.py:1272: UndefinedMetricWarning: Recall and F-score are ill-defined and being set to 0.0 in labels with no true samples. Use `zero_division` parameter to control this behavior.\n",
      "  _warn_prf(average, modifier, msg_start, len(result))\n",
      "/home/nick/anaconda3/lib/python3.7/site-packages/sklearn/metrics/_classification.py:1272: UndefinedMetricWarning: Precision and F-score are ill-defined and being set to 0.0 in samples with no predicted labels. Use `zero_division` parameter to control this behavior.\n",
      "  _warn_prf(average, modifier, msg_start, len(result))\n"
     ]
    }
   ],
   "source": [
    "print(classification_report(y_test, y_hat_test))"
   ]
  },
  {
   "cell_type": "code",
   "execution_count": 65,
   "metadata": {
    "colab": {
     "base_uri": "https://localhost:8080/",
     "height": 765
    },
    "colab_type": "code",
    "execution": {
     "iopub.execute_input": "2020-04-26T21:42:22.413991Z",
     "iopub.status.busy": "2020-04-26T21:42:22.413845Z",
     "iopub.status.idle": "2020-04-26T21:42:22.420240Z",
     "shell.execute_reply": "2020-04-26T21:42:22.419597Z",
     "shell.execute_reply.started": "2020-04-26T21:42:22.413971Z"
    },
    "id": "znm581IbmyXH",
    "outputId": "87ae2d4b-8a25-426f-c766-46e4b71bff21"
   },
   "outputs": [
    {
     "name": "stdout",
     "output_type": "stream",
     "text": [
      "[[[2098   99]\n",
      "  [ 157  334]]\n",
      "\n",
      " [[2633    0]\n",
      "  [  32   23]]\n",
      "\n",
      " [[2681    0]\n",
      "  [   7    0]]\n",
      "\n",
      " [[2667    0]\n",
      "  [  21    0]]\n",
      "\n",
      " [[2575    2]\n",
      "  [  29   82]]\n",
      "\n",
      " [[1006   56]\n",
      "  [ 161 1465]]\n",
      "\n",
      " [[2688    0]\n",
      "  [   0    0]]\n",
      "\n",
      " [[2674    0]\n",
      "  [  10    4]]\n",
      "\n",
      " [[2676    0]\n",
      "  [  11    1]]\n",
      "\n",
      " [[2610   10]\n",
      "  [  22   46]]\n",
      "\n",
      " [[2510   18]\n",
      "  [   8  152]]\n",
      "\n",
      " [[2684    0]\n",
      "  [   4    0]]\n",
      "\n",
      " [[2673    0]\n",
      "  [  14    1]]\n",
      "\n",
      " [[2673    0]\n",
      "  [  10    5]]\n",
      "\n",
      " [[2041  206]\n",
      "  [  43  398]]]\n"
     ]
    }
   ],
   "source": [
    "print(multilabel_confusion_matrix(y_test, y_hat_test))"
   ]
  },
  {
   "cell_type": "code",
   "execution_count": 66,
   "metadata": {
    "colab": {
     "base_uri": "https://localhost:8080/",
     "height": 255
    },
    "colab_type": "code",
    "execution": {
     "iopub.execute_input": "2020-04-26T21:42:22.421371Z",
     "iopub.status.busy": "2020-04-26T21:42:22.421209Z",
     "iopub.status.idle": "2020-04-26T21:42:47.547449Z",
     "shell.execute_reply": "2020-04-26T21:42:47.546833Z",
     "shell.execute_reply.started": "2020-04-26T21:42:22.421351Z"
    },
    "id": "DjABJLIairnQ",
    "outputId": "fe4ac9b1-0ae6-4a9f-8c4f-63c6c7ded9e6"
   },
   "outputs": [
    {
     "name": "stderr",
     "output_type": "stream",
     "text": [
      "[Parallel(n_jobs=-1)]: Using backend LokyBackend with 8 concurrent workers.\n"
     ]
    },
    {
     "name": "stdout",
     "output_type": "stream",
     "text": [
      "Fitting 5 folds for each of 20 candidates, totalling 100 fits\n"
     ]
    },
    {
     "name": "stderr",
     "output_type": "stream",
     "text": [
      "[Parallel(n_jobs=-1)]: Done   2 tasks      | elapsed:    1.8s\n",
      "[Parallel(n_jobs=-1)]: Done   9 tasks      | elapsed:    3.6s\n",
      "[Parallel(n_jobs=-1)]: Done  16 tasks      | elapsed:    4.2s\n",
      "[Parallel(n_jobs=-1)]: Done  25 tasks      | elapsed:    7.4s\n",
      "[Parallel(n_jobs=-1)]: Done  34 tasks      | elapsed:    9.7s\n",
      "[Parallel(n_jobs=-1)]: Done  45 tasks      | elapsed:   12.0s\n",
      "[Parallel(n_jobs=-1)]: Done  56 tasks      | elapsed:   14.4s\n",
      "[Parallel(n_jobs=-1)]: Done  69 tasks      | elapsed:   18.1s\n",
      "[Parallel(n_jobs=-1)]: Done  82 tasks      | elapsed:   21.2s\n",
      "[Parallel(n_jobs=-1)]: Done  96 out of 100 | elapsed:   24.4s remaining:    1.0s\n",
      "[Parallel(n_jobs=-1)]: Done 100 out of 100 | elapsed:   25.1s finished\n"
     ]
    },
    {
     "data": {
      "text/plain": [
       "({'n_neighbors': 1}, 0.7929703349941822)"
      ]
     },
     "execution_count": 66,
     "metadata": {},
     "output_type": "execute_result"
    }
   ],
   "source": [
    "param_grid = [{\"n_neighbors\": range(1,21)}]\n",
    "\n",
    "knn = KNeighborsClassifier()\n",
    "clf = GridSearchCV(knn, param_grid, cv = 5, verbose=10, n_jobs=-1, scoring='f1_micro')\n",
    "\n",
    "clf.fit(X_train, y_train)\n",
    "\n",
    "clf.best_params_, clf.best_score_"
   ]
  },
  {
   "cell_type": "code",
   "execution_count": 67,
   "metadata": {
    "colab": {},
    "colab_type": "code",
    "execution": {
     "iopub.execute_input": "2020-04-26T21:42:47.548721Z",
     "iopub.status.busy": "2020-04-26T21:42:47.548417Z",
     "iopub.status.idle": "2020-04-26T21:42:49.110461Z",
     "shell.execute_reply": "2020-04-26T21:42:49.109831Z",
     "shell.execute_reply.started": "2020-04-26T21:42:47.548695Z"
    },
    "id": "9RvByp5KirnS"
   },
   "outputs": [],
   "source": [
    "y_hat_test = clf.predict(X_test)"
   ]
  },
  {
   "cell_type": "code",
   "execution_count": 68,
   "metadata": {
    "colab": {
     "base_uri": "https://localhost:8080/",
     "height": 34
    },
    "colab_type": "code",
    "execution": {
     "iopub.execute_input": "2020-04-26T21:42:49.111292Z",
     "iopub.status.busy": "2020-04-26T21:42:49.111130Z",
     "iopub.status.idle": "2020-04-26T21:42:49.119975Z",
     "shell.execute_reply": "2020-04-26T21:42:49.119471Z",
     "shell.execute_reply.started": "2020-04-26T21:42:49.111259Z"
    },
    "id": "9IHaNjcgirnV",
    "outputId": "20717006-9387-49f4-99c1-91251c8bc92b"
   },
   "outputs": [
    {
     "data": {
      "text/plain": [
       "0.8859881031064111"
      ]
     },
     "execution_count": 68,
     "metadata": {},
     "output_type": "execute_result"
    }
   ],
   "source": [
    "f1_score(y_test, y_hat_test, average='micro')"
   ]
  },
  {
   "cell_type": "markdown",
   "metadata": {
    "colab_type": "text",
    "id": "9Edkg9Erp-9R"
   },
   "source": [
    "### Neural Network"
   ]
  },
  {
   "cell_type": "code",
   "execution_count": null,
   "metadata": {
    "colab": {
     "base_uri": "https://localhost:8080/",
     "height": 34
    },
    "colab_type": "code",
    "id": "yGWHoBHxkT12",
    "outputId": "f90a49c6-5dfd-4da4-9e7a-e20edc0b6c95"
   },
   "outputs": [
    {
     "data": {
      "text/plain": [
       "'2.2.0-rc3'"
      ]
     },
     "execution_count": 34,
     "metadata": {
      "tags": []
     },
     "output_type": "execute_result"
    }
   ],
   "source": [
    "tf.__version__"
   ]
  },
  {
   "cell_type": "code",
   "execution_count": null,
   "metadata": {
    "colab": {
     "base_uri": "https://localhost:8080/",
     "height": 476
    },
    "colab_type": "code",
    "id": "rI9eQOB0kV6C",
    "outputId": "2fcb1627-2254-4847-f75e-3c7d12ca7fee"
   },
   "outputs": [
    {
     "data": {
      "text/plain": [
       "[name: \"/device:CPU:0\"\n",
       " device_type: \"CPU\"\n",
       " memory_limit: 268435456\n",
       " locality {\n",
       " }\n",
       " incarnation: 17740025158728597866, name: \"/device:XLA_CPU:0\"\n",
       " device_type: \"XLA_CPU\"\n",
       " memory_limit: 17179869184\n",
       " locality {\n",
       " }\n",
       " incarnation: 6601586473274676401\n",
       " physical_device_desc: \"device: XLA_CPU device\", name: \"/device:XLA_GPU:0\"\n",
       " device_type: \"XLA_GPU\"\n",
       " memory_limit: 17179869184\n",
       " locality {\n",
       " }\n",
       " incarnation: 17166799390621081162\n",
       " physical_device_desc: \"device: XLA_GPU device\", name: \"/device:GPU:0\"\n",
       " device_type: \"GPU\"\n",
       " memory_limit: 11150726272\n",
       " locality {\n",
       "   bus_id: 1\n",
       "   links {\n",
       "   }\n",
       " }\n",
       " incarnation: 15794637764607165208\n",
       " physical_device_desc: \"device: 0, name: Tesla K80, pci bus id: 0000:00:04.0, compute capability: 3.7\"]"
      ]
     },
     "execution_count": 35,
     "metadata": {
      "tags": []
     },
     "output_type": "execute_result"
    }
   ],
   "source": [
    "device_lib.list_local_devices()"
   ]
  },
  {
   "cell_type": "code",
   "execution_count": null,
   "metadata": {
    "colab": {
     "base_uri": "https://localhost:8080/",
     "height": 1000
    },
    "colab_type": "code",
    "id": "GBSq26v3kXDr",
    "outputId": "c4ab5769-35cc-465c-cf86-b220fe82f2e2"
   },
   "outputs": [
    {
     "name": "stdout",
     "output_type": "stream",
     "text": [
      "processor\t: 0\n",
      "vendor_id\t: GenuineIntel\n",
      "cpu family\t: 6\n",
      "model\t\t: 63\n",
      "model name\t: Intel(R) Xeon(R) CPU @ 2.30GHz\n",
      "stepping\t: 0\n",
      "microcode\t: 0x1\n",
      "cpu MHz\t\t: 2300.000\n",
      "cache size\t: 46080 KB\n",
      "physical id\t: 0\n",
      "siblings\t: 4\n",
      "core id\t\t: 0\n",
      "cpu cores\t: 2\n",
      "apicid\t\t: 0\n",
      "initial apicid\t: 0\n",
      "fpu\t\t: yes\n",
      "fpu_exception\t: yes\n",
      "cpuid level\t: 13\n",
      "wp\t\t: yes\n",
      "flags\t\t: fpu vme de pse tsc msr pae mce cx8 apic sep mtrr pge mca cmov pat pse36 clflush mmx fxsr sse sse2 ss ht syscall nx pdpe1gb rdtscp lm constant_tsc rep_good nopl xtopology nonstop_tsc cpuid tsc_known_freq pni pclmulqdq ssse3 fma cx16 pcid sse4_1 sse4_2 x2apic movbe popcnt aes xsave avx f16c rdrand hypervisor lahf_lm abm invpcid_single ssbd ibrs ibpb stibp fsgsbase tsc_adjust bmi1 avx2 smep bmi2 erms invpcid xsaveopt arat md_clear arch_capabilities\n",
      "bugs\t\t: cpu_meltdown spectre_v1 spectre_v2 spec_store_bypass l1tf mds swapgs itlb_multihit\n",
      "bogomips\t: 4600.00\n",
      "clflush size\t: 64\n",
      "cache_alignment\t: 64\n",
      "address sizes\t: 46 bits physical, 48 bits virtual\n",
      "power management:\n",
      "\n",
      "processor\t: 1\n",
      "vendor_id\t: GenuineIntel\n",
      "cpu family\t: 6\n",
      "model\t\t: 63\n",
      "model name\t: Intel(R) Xeon(R) CPU @ 2.30GHz\n",
      "stepping\t: 0\n",
      "microcode\t: 0x1\n",
      "cpu MHz\t\t: 2300.000\n",
      "cache size\t: 46080 KB\n",
      "physical id\t: 0\n",
      "siblings\t: 4\n",
      "core id\t\t: 1\n",
      "cpu cores\t: 2\n",
      "apicid\t\t: 2\n",
      "initial apicid\t: 2\n",
      "fpu\t\t: yes\n",
      "fpu_exception\t: yes\n",
      "cpuid level\t: 13\n",
      "wp\t\t: yes\n",
      "flags\t\t: fpu vme de pse tsc msr pae mce cx8 apic sep mtrr pge mca cmov pat pse36 clflush mmx fxsr sse sse2 ss ht syscall nx pdpe1gb rdtscp lm constant_tsc rep_good nopl xtopology nonstop_tsc cpuid tsc_known_freq pni pclmulqdq ssse3 fma cx16 pcid sse4_1 sse4_2 x2apic movbe popcnt aes xsave avx f16c rdrand hypervisor lahf_lm abm invpcid_single ssbd ibrs ibpb stibp fsgsbase tsc_adjust bmi1 avx2 smep bmi2 erms invpcid xsaveopt arat md_clear arch_capabilities\n",
      "bugs\t\t: cpu_meltdown spectre_v1 spectre_v2 spec_store_bypass l1tf mds swapgs itlb_multihit\n",
      "bogomips\t: 4600.00\n",
      "clflush size\t: 64\n",
      "cache_alignment\t: 64\n",
      "address sizes\t: 46 bits physical, 48 bits virtual\n",
      "power management:\n",
      "\n",
      "processor\t: 2\n",
      "vendor_id\t: GenuineIntel\n",
      "cpu family\t: 6\n",
      "model\t\t: 63\n",
      "model name\t: Intel(R) Xeon(R) CPU @ 2.30GHz\n",
      "stepping\t: 0\n",
      "microcode\t: 0x1\n",
      "cpu MHz\t\t: 2300.000\n",
      "cache size\t: 46080 KB\n",
      "physical id\t: 0\n",
      "siblings\t: 4\n",
      "core id\t\t: 0\n",
      "cpu cores\t: 2\n",
      "apicid\t\t: 1\n",
      "initial apicid\t: 1\n",
      "fpu\t\t: yes\n",
      "fpu_exception\t: yes\n",
      "cpuid level\t: 13\n",
      "wp\t\t: yes\n",
      "flags\t\t: fpu vme de pse tsc msr pae mce cx8 apic sep mtrr pge mca cmov pat pse36 clflush mmx fxsr sse sse2 ss ht syscall nx pdpe1gb rdtscp lm constant_tsc rep_good nopl xtopology nonstop_tsc cpuid tsc_known_freq pni pclmulqdq ssse3 fma cx16 pcid sse4_1 sse4_2 x2apic movbe popcnt aes xsave avx f16c rdrand hypervisor lahf_lm abm invpcid_single ssbd ibrs ibpb stibp fsgsbase tsc_adjust bmi1 avx2 smep bmi2 erms invpcid xsaveopt arat md_clear arch_capabilities\n",
      "bugs\t\t: cpu_meltdown spectre_v1 spectre_v2 spec_store_bypass l1tf mds swapgs itlb_multihit\n",
      "bogomips\t: 4600.00\n",
      "clflush size\t: 64\n",
      "cache_alignment\t: 64\n",
      "address sizes\t: 46 bits physical, 48 bits virtual\n",
      "power management:\n",
      "\n",
      "processor\t: 3\n",
      "vendor_id\t: GenuineIntel\n",
      "cpu family\t: 6\n",
      "model\t\t: 63\n",
      "model name\t: Intel(R) Xeon(R) CPU @ 2.30GHz\n",
      "stepping\t: 0\n",
      "microcode\t: 0x1\n",
      "cpu MHz\t\t: 2300.000\n",
      "cache size\t: 46080 KB\n",
      "physical id\t: 0\n",
      "siblings\t: 4\n",
      "core id\t\t: 1\n",
      "cpu cores\t: 2\n",
      "apicid\t\t: 3\n",
      "initial apicid\t: 3\n",
      "fpu\t\t: yes\n",
      "fpu_exception\t: yes\n",
      "cpuid level\t: 13\n",
      "wp\t\t: yes\n",
      "flags\t\t: fpu vme de pse tsc msr pae mce cx8 apic sep mtrr pge mca cmov pat pse36 clflush mmx fxsr sse sse2 ss ht syscall nx pdpe1gb rdtscp lm constant_tsc rep_good nopl xtopology nonstop_tsc cpuid tsc_known_freq pni pclmulqdq ssse3 fma cx16 pcid sse4_1 sse4_2 x2apic movbe popcnt aes xsave avx f16c rdrand hypervisor lahf_lm abm invpcid_single ssbd ibrs ibpb stibp fsgsbase tsc_adjust bmi1 avx2 smep bmi2 erms invpcid xsaveopt arat md_clear arch_capabilities\n",
      "bugs\t\t: cpu_meltdown spectre_v1 spectre_v2 spec_store_bypass l1tf mds swapgs itlb_multihit\n",
      "bogomips\t: 4600.00\n",
      "clflush size\t: 64\n",
      "cache_alignment\t: 64\n",
      "address sizes\t: 46 bits physical, 48 bits virtual\n",
      "power management:\n",
      "\n"
     ]
    }
   ],
   "source": [
    "!cat /proc/cpuinfo"
   ]
  },
  {
   "cell_type": "code",
   "execution_count": null,
   "metadata": {
    "colab": {
     "base_uri": "https://localhost:8080/",
     "height": 816
    },
    "colab_type": "code",
    "id": "whBUMvvDkYYK",
    "outputId": "8d77e90e-17d3-4ad4-fb09-bfffbc312f8b"
   },
   "outputs": [
    {
     "name": "stdout",
     "output_type": "stream",
     "text": [
      "MemTotal:       26751700 kB\n",
      "MemFree:        19649836 kB\n",
      "MemAvailable:   25042452 kB\n",
      "Buffers:          102364 kB\n",
      "Cached:          5334452 kB\n",
      "SwapCached:            0 kB\n",
      "Active:          1946016 kB\n",
      "Inactive:        4643188 kB\n",
      "Active(anon):     992192 kB\n",
      "Inactive(anon):     2384 kB\n",
      "Active(file):     953824 kB\n",
      "Inactive(file):  4640804 kB\n",
      "Unevictable:           0 kB\n",
      "Mlocked:               0 kB\n",
      "SwapTotal:             0 kB\n",
      "SwapFree:              0 kB\n",
      "Dirty:              1792 kB\n",
      "Writeback:             0 kB\n",
      "AnonPages:       1152356 kB\n",
      "Mapped:           705140 kB\n",
      "Shmem:              2984 kB\n",
      "Slab:             282176 kB\n",
      "SReclaimable:     211908 kB\n",
      "SUnreclaim:        70268 kB\n",
      "KernelStack:        5112 kB\n",
      "PageTables:        10668 kB\n",
      "NFS_Unstable:          0 kB\n",
      "Bounce:                0 kB\n",
      "WritebackTmp:          0 kB\n",
      "CommitLimit:    13375848 kB\n",
      "Committed_AS:    4049372 kB\n",
      "VmallocTotal:   34359738367 kB\n",
      "VmallocUsed:           0 kB\n",
      "VmallocChunk:          0 kB\n",
      "Percpu:             1920 kB\n",
      "AnonHugePages:     14336 kB\n",
      "ShmemHugePages:        0 kB\n",
      "ShmemPmdMapped:        0 kB\n",
      "HugePages_Total:       0\n",
      "HugePages_Free:        0\n",
      "HugePages_Rsvd:        0\n",
      "HugePages_Surp:        0\n",
      "Hugepagesize:       2048 kB\n",
      "Hugetlb:               0 kB\n",
      "DirectMap4k:      255164 kB\n",
      "DirectMap2M:     9181184 kB\n",
      "DirectMap1G:    19922944 kB\n"
     ]
    }
   ],
   "source": [
    "!cat /proc/meminfo"
   ]
  },
  {
   "cell_type": "code",
   "execution_count": null,
   "metadata": {
    "colab": {},
    "colab_type": "code",
    "id": "G2UmnEepirna"
   },
   "outputs": [],
   "source": [
    "batch_size = 64\n",
    "\n",
    "def batch_generator(X, y, batch_size):\n",
    "    number_of_batches = np.ceil(X.shape[0]/batch_size)\n",
    "    counter=0\n",
    "    shuffle_index = np.arange(np.shape(y)[0])\n",
    "    np.random.shuffle(shuffle_index)\n",
    "    X =  X[shuffle_index, :]\n",
    "    y =  y[shuffle_index,:]\n",
    "    while 1:\n",
    "        index_batch = shuffle_index[batch_size*counter:batch_size*(counter+1)]\n",
    "        X_batch = X[index_batch,:].todense()\n",
    "        y_batch = y[index_batch,:]\n",
    "        counter += 1\n",
    "        yield(np.array(X_batch),y_batch)\n",
    "        if (counter >= number_of_batches):\n",
    "            np.random.shuffle(shuffle_index)\n",
    "            counter=0\n",
    "\n",
    "def compute_f1(y_true, y_pred): #taken from old keras source code\n",
    "    true_positives = K.sum(K.round(K.clip(y_true * y_pred, 0, 1)))\n",
    "    possible_positives = K.sum(K.round(K.clip(y_true, 0, 1)))\n",
    "    predicted_positives = K.sum(K.round(K.clip(y_pred, 0, 1)))\n",
    "    precision = true_positives / (predicted_positives + K.epsilon())\n",
    "    recall = true_positives / (possible_positives + K.epsilon())\n",
    "    f1_val = 2*(precision*recall)/(precision + recall + K.epsilon())\n",
    "    return f1_val\n",
    "\n",
    "es = EarlyStopping(monitor='loss', verbose=1, mode='min', patience = 2, min_delta=0.01)"
   ]
  },
  {
   "cell_type": "code",
   "execution_count": null,
   "metadata": {
    "colab": {},
    "colab_type": "code",
    "id": "M-YinS9cirnd"
   },
   "outputs": [],
   "source": [
    "def get_model(input_dim):\n",
    "    with tf.device('/device:GPU:0'):\n",
    "        model = Sequential()\n",
    "        model.add(Dense(1024, activation='relu', input_dim=input_dim))\n",
    "        model.add(Dropout(0.2))\n",
    "        model.add(Dense(512, activation='relu'))\n",
    "        model.add(Dropout(0.2))\n",
    "        model.add(Dense(256, activation='relu'))\n",
    "        model.add(Dropout(0.2))\n",
    "        model.add(Dense(128, activation='relu'))\n",
    "        model.add(Dropout(0.2))\n",
    "        model.add(Dense(64, activation='relu'))\n",
    "        model.add(Dense(len(mlb.classes_), activation='sigmoid'))\n",
    "        \n",
    "        model.compile(optimizer='adam',\n",
    "                      loss='categorical_crossentropy',\n",
    "                      metrics=['accuracy', compute_f1])\n",
    "    \n",
    "    return model"
   ]
  },
  {
   "cell_type": "code",
   "execution_count": null,
   "metadata": {
    "colab": {},
    "colab_type": "code",
    "id": "uQECFlCS2Ciz"
   },
   "outputs": [],
   "source": [
    "model = get_model(X_train.shape[1])"
   ]
  },
  {
   "cell_type": "code",
   "execution_count": null,
   "metadata": {
    "colab": {},
    "colab_type": "code",
    "id": "ucPn0Ydvirng"
   },
   "outputs": [],
   "source": [
    "model.summary()"
   ]
  },
  {
   "cell_type": "code",
   "execution_count": null,
   "metadata": {
    "colab": {
     "base_uri": "https://localhost:8080/",
     "height": 374
    },
    "colab_type": "code",
    "id": "eUuMNhUWirnj",
    "outputId": "547fcf6d-a4b7-437b-c63e-327813c1af7f"
   },
   "outputs": [
    {
     "name": "stdout",
     "output_type": "stream",
     "text": [
      "Epoch 1/20\n",
      "99/99 [==============================] - 2s 24ms/step - loss: 1.2573 - accuracy: 0.5177 - compute_f1: 0.6369\n",
      "Epoch 2/20\n",
      "99/99 [==============================] - 2s 24ms/step - loss: 0.5884 - accuracy: 0.7979 - compute_f1: 0.8599\n",
      "Epoch 3/20\n",
      "99/99 [==============================] - 2s 24ms/step - loss: 0.4147 - accuracy: 0.8698 - compute_f1: 0.9189\n",
      "Epoch 4/20\n",
      "99/99 [==============================] - 2s 24ms/step - loss: 0.3672 - accuracy: 0.8822 - compute_f1: 0.9361\n",
      "Epoch 5/20\n",
      "99/99 [==============================] - 2s 24ms/step - loss: 0.3325 - accuracy: 0.8759 - compute_f1: 0.9388\n",
      "Epoch 6/20\n",
      "99/99 [==============================] - 2s 24ms/step - loss: 0.3142 - accuracy: 0.8665 - compute_f1: 0.9465\n",
      "Epoch 7/20\n",
      "99/99 [==============================] - 2s 24ms/step - loss: 0.2961 - accuracy: 0.8767 - compute_f1: 0.9543\n",
      "Epoch 8/20\n",
      "99/99 [==============================] - 2s 24ms/step - loss: 0.2847 - accuracy: 0.8916 - compute_f1: 0.9569\n",
      "Epoch 9/20\n",
      "99/99 [==============================] - 2s 24ms/step - loss: 0.2843 - accuracy: 0.8773 - compute_f1: 0.9546\n",
      "Epoch 10/20\n",
      "99/99 [==============================] - 3s 28ms/step - loss: 0.2771 - accuracy: 0.8759 - compute_f1: 0.9581\n",
      "Epoch 00010: early stopping\n"
     ]
    }
   ],
   "source": [
    "history = model.fit(x=batch_generator(X_train, y_train, batch_size),\n",
    "                    epochs=20,\n",
    "                    callbacks=[es],\n",
    "                    steps_per_epoch=np.ceil(X_train.shape[0]/batch_size),\n",
    "                    #class_weight=class_weights,\n",
    "                    use_multiprocessing=False)"
   ]
  },
  {
   "cell_type": "code",
   "execution_count": null,
   "metadata": {
    "colab": {},
    "colab_type": "code",
    "id": "kxOQKmoqirnl"
   },
   "outputs": [],
   "source": [
    "model.save(\"/content/drive/My Drive/Colab Notebooks/whatsout/model_nn.h5\")"
   ]
  },
  {
   "cell_type": "code",
   "execution_count": null,
   "metadata": {
    "colab": {
     "base_uri": "https://localhost:8080/",
     "height": 34
    },
    "colab_type": "code",
    "id": "wx5UEu6GMNES",
    "outputId": "082c2082-9169-491e-c914-eead8c9e820b"
   },
   "outputs": [
    {
     "data": {
      "text/plain": [
       "0.9581371545791626"
      ]
     },
     "execution_count": 116,
     "metadata": {
      "tags": []
     },
     "output_type": "execute_result"
    }
   ],
   "source": [
    "history.history['compute_f1'][-1]"
   ]
  },
  {
   "cell_type": "code",
   "execution_count": null,
   "metadata": {
    "colab": {},
    "colab_type": "code",
    "id": "n6LLcpc1irnn"
   },
   "outputs": [],
   "source": [
    "model = tensorflow.keras.models.load_model(\"/content/drive/My Drive/Colab Notebooks/whatsout/model_nn.h5\", custom_objects={\"compute_f1\": compute_f1})"
   ]
  },
  {
   "cell_type": "code",
   "execution_count": null,
   "metadata": {
    "colab": {
     "base_uri": "https://localhost:8080/",
     "height": 34
    },
    "colab_type": "code",
    "id": "u_lMqSvTirnq",
    "outputId": "c19f50f4-dcd0-4ee4-aee0-e8b839177cb2"
   },
   "outputs": [
    {
     "name": "stdout",
     "output_type": "stream",
     "text": [
      "42/42 [==============================] - 1s 13ms/step - loss: 0.5748 - accuracy: 0.8211 - compute_f1: 0.9131\n"
     ]
    }
   ],
   "source": [
    "score = model.evaluate(x=batch_generator(X_test, y_test, batch_size), verbose=1,\n",
    "                       steps=np.ceil(X_test.shape[0]/batch_size),\n",
    "                       use_multiprocessing=False)"
   ]
  },
  {
   "cell_type": "code",
   "execution_count": null,
   "metadata": {
    "colab": {
     "base_uri": "https://localhost:8080/",
     "height": 34
    },
    "colab_type": "code",
    "id": "qKUGL1Zoirnt",
    "outputId": "f100666e-e59e-4f6f-8a1b-1124848d49d6"
   },
   "outputs": [
    {
     "name": "stdout",
     "output_type": "stream",
     "text": [
      "Test F1 score: 0.9130619764328003\n"
     ]
    }
   ],
   "source": [
    "print(\"Test F1 score:\", score[2])"
   ]
  },
  {
   "cell_type": "code",
   "execution_count": null,
   "metadata": {
    "colab": {
     "base_uri": "https://localhost:8080/",
     "height": 1000
    },
    "colab_type": "code",
    "id": "sIuuA8LUirnw",
    "outputId": "6f03eb44-a0ec-4790-f882-bd34d30495a2"
   },
   "outputs": [
    {
     "name": "stdout",
     "output_type": "stream",
     "text": [
      "\n",
      "Fold 0 \n",
      "\n",
      "Epoch 1/20\n",
      "112/112 [==============================] - 3s 25ms/step - loss: 1.0142 - accuracy: 0.6619 - compute_f1: 0.7329\n",
      "Epoch 2/20\n",
      "112/112 [==============================] - 3s 25ms/step - loss: 0.4502 - accuracy: 0.8330 - compute_f1: 0.8991\n",
      "Epoch 3/20\n",
      "112/112 [==============================] - 3s 25ms/step - loss: 0.3559 - accuracy: 0.8686 - compute_f1: 0.9256\n",
      "Epoch 4/20\n",
      "112/112 [==============================] - 3s 24ms/step - loss: 0.3299 - accuracy: 0.9044 - compute_f1: 0.9337\n",
      "Epoch 5/20\n",
      "112/112 [==============================] - 3s 24ms/step - loss: 0.2990 - accuracy: 0.9005 - compute_f1: 0.9433\n",
      "Epoch 6/20\n",
      "112/112 [==============================] - 3s 24ms/step - loss: 0.2802 - accuracy: 0.8936 - compute_f1: 0.9538\n",
      "Epoch 7/20\n",
      "112/112 [==============================] - 3s 24ms/step - loss: 0.2773 - accuracy: 0.8732 - compute_f1: 0.9562\n",
      "Epoch 8/20\n",
      "112/112 [==============================] - 3s 24ms/step - loss: 0.2779 - accuracy: 0.8979 - compute_f1: 0.9543\n",
      "Epoch 00008: early stopping\n",
      "29/29 [==============================] - 0s 11ms/step - loss: 0.5777 - accuracy: 0.8628 - compute_f1: 0.9179\n",
      "\n",
      "Fold 1 \n",
      "\n",
      "Epoch 1/20\n",
      "113/113 [==============================] - 3s 23ms/step - loss: 1.0018 - accuracy: 0.6312 - compute_f1: 0.7226\n",
      "Epoch 2/20\n",
      "113/113 [==============================] - 3s 23ms/step - loss: 0.4548 - accuracy: 0.8168 - compute_f1: 0.8878\n",
      "Epoch 3/20\n",
      "113/113 [==============================] - 3s 23ms/step - loss: 0.3590 - accuracy: 0.8752 - compute_f1: 0.9262\n",
      "Epoch 4/20\n",
      "113/113 [==============================] - 3s 24ms/step - loss: 0.3164 - accuracy: 0.8539 - compute_f1: 0.9427\n",
      "Epoch 5/20\n",
      "113/113 [==============================] - 3s 24ms/step - loss: 0.2982 - accuracy: 0.8627 - compute_f1: 0.9477\n",
      "Epoch 6/20\n",
      "113/113 [==============================] - 3s 24ms/step - loss: 0.2805 - accuracy: 0.8835 - compute_f1: 0.9544\n",
      "Epoch 7/20\n",
      "113/113 [==============================] - 3s 24ms/step - loss: 0.2737 - accuracy: 0.9006 - compute_f1: 0.9569\n",
      "Epoch 8/20\n",
      "113/113 [==============================] - 3s 24ms/step - loss: 0.2601 - accuracy: 0.8892 - compute_f1: 0.9609\n",
      "Epoch 9/20\n",
      "113/113 [==============================] - 3s 24ms/step - loss: 0.2612 - accuracy: 0.9023 - compute_f1: 0.9641\n",
      "Epoch 10/20\n",
      "113/113 [==============================] - 3s 24ms/step - loss: 0.2643 - accuracy: 0.8821 - compute_f1: 0.9608\n",
      "Epoch 00010: early stopping\n",
      "28/28 [==============================] - 0s 12ms/step - loss: 0.6034 - accuracy: 0.8418 - compute_f1: 0.9164\n",
      "\n",
      "Fold 2 \n",
      "\n",
      "Epoch 1/20\n",
      "113/113 [==============================] - 3s 24ms/step - loss: 1.0148 - accuracy: 0.5052 - compute_f1: 0.7048\n",
      "Epoch 2/20\n",
      "113/113 [==============================] - 3s 23ms/step - loss: 0.5603 - accuracy: 0.6956 - compute_f1: 0.8277\n",
      "Epoch 3/20\n",
      "113/113 [==============================] - 3s 24ms/step - loss: 0.3970 - accuracy: 0.8417 - compute_f1: 0.9122\n",
      "Epoch 4/20\n",
      "113/113 [==============================] - 3s 24ms/step - loss: 0.3483 - accuracy: 0.8603 - compute_f1: 0.9269\n",
      "Epoch 5/20\n",
      "113/113 [==============================] - 3s 24ms/step - loss: 0.3097 - accuracy: 0.8892 - compute_f1: 0.9447\n",
      "Epoch 6/20\n",
      "113/113 [==============================] - 3s 24ms/step - loss: 0.2936 - accuracy: 0.8968 - compute_f1: 0.9516\n",
      "Epoch 7/20\n",
      "113/113 [==============================] - 3s 24ms/step - loss: 0.2863 - accuracy: 0.9138 - compute_f1: 0.9525\n",
      "Epoch 8/20\n",
      "113/113 [==============================] - 3s 24ms/step - loss: 0.2903 - accuracy: 0.9113 - compute_f1: 0.9552\n",
      "Epoch 00008: early stopping\n",
      "28/28 [==============================] - 0s 11ms/step - loss: 0.5507 - accuracy: 0.8826 - compute_f1: 0.9183\n",
      "\n",
      "Fold 3 \n",
      "\n",
      "Epoch 1/20\n",
      "113/113 [==============================] - 3s 23ms/step - loss: 1.0651 - accuracy: 0.5034 - compute_f1: 0.6807\n",
      "Epoch 2/20\n",
      "113/113 [==============================] - 3s 23ms/step - loss: 0.6695 - accuracy: 0.5147 - compute_f1: 0.7644\n",
      "Epoch 3/20\n",
      "113/113 [==============================] - 3s 24ms/step - loss: 0.6147 - accuracy: 0.5285 - compute_f1: 0.7801\n",
      "Epoch 4/20\n",
      "113/113 [==============================] - 3s 24ms/step - loss: 0.5950 - accuracy: 0.5304 - compute_f1: 0.7865\n",
      "Epoch 5/20\n",
      "113/113 [==============================] - 3s 24ms/step - loss: 0.5858 - accuracy: 0.5420 - compute_f1: 0.7873\n",
      "Epoch 6/20\n",
      "113/113 [==============================] - 3s 24ms/step - loss: 0.5890 - accuracy: 0.5636 - compute_f1: 0.7887\n",
      "Epoch 00006: early stopping\n",
      "28/28 [==============================] - 0s 11ms/step - loss: 0.8253 - accuracy: 0.5502 - compute_f1: 0.7618\n",
      "\n",
      "Fold 4 \n",
      "\n",
      "Epoch 1/20\n",
      "113/113 [==============================] - 3s 23ms/step - loss: 0.9337 - accuracy: 0.6573 - compute_f1: 0.7225\n",
      "Epoch 2/20\n",
      "113/113 [==============================] - 3s 23ms/step - loss: 0.4336 - accuracy: 0.8796 - compute_f1: 0.8921\n",
      "Epoch 3/20\n",
      "113/113 [==============================] - 3s 23ms/step - loss: 0.3292 - accuracy: 0.9075 - compute_f1: 0.9305\n",
      "Epoch 4/20\n",
      "113/113 [==============================] - 3s 23ms/step - loss: 0.3093 - accuracy: 0.8654 - compute_f1: 0.9301\n",
      "Epoch 5/20\n",
      "113/113 [==============================] - 3s 23ms/step - loss: 0.2803 - accuracy: 0.9012 - compute_f1: 0.9469\n",
      "Epoch 6/20\n",
      "113/113 [==============================] - 3s 24ms/step - loss: 0.2718 - accuracy: 0.8806 - compute_f1: 0.9478\n",
      "Epoch 7/20\n",
      "113/113 [==============================] - 3s 23ms/step - loss: 0.2740 - accuracy: 0.9071 - compute_f1: 0.9531\n",
      "Epoch 00007: early stopping\n",
      "29/29 [==============================] - 0s 11ms/step - loss: 0.5574 - accuracy: 0.8879 - compute_f1: 0.9018\n"
     ]
    }
   ],
   "source": [
    "folds = MultilabelStratifiedKFold(n_splits=5, random_state=123, shuffle=True)\n",
    "cvscores = []\n",
    "\n",
    "for i, (train, val) in enumerate(folds.split(X2, y)):\n",
    "    print('\\nFold',str(i),'\\n')\n",
    "    model = get_model(X2.shape[1])\n",
    "    history = model.fit(x=batch_generator(X2[train], y[train], batch_size),\n",
    "                    epochs=20,\n",
    "                    callbacks=[es],\n",
    "                    steps_per_epoch=np.ceil(X2[train].shape[0]/batch_size),\n",
    "                    #class_weight='balanced',\n",
    "                    use_multiprocessing=False)\n",
    "    \n",
    "    scores = model.evaluate(x=batch_generator(X2[val], y[val], batch_size), verbose=1,\n",
    "                            steps=np.ceil(X2[val].shape[0]/batch_size),\n",
    "                            use_multiprocessing=False)\n",
    "    \n",
    "    cvscores.append(scores[1])"
   ]
  },
  {
   "cell_type": "code",
   "execution_count": null,
   "metadata": {
    "colab": {
     "base_uri": "https://localhost:8080/",
     "height": 34
    },
    "colab_type": "code",
    "id": "lvvjfOjRtQGp",
    "outputId": "e932cb80-08eb-444f-87d9-e6bdf4d17ff2"
   },
   "outputs": [
    {
     "name": "stdout",
     "output_type": "stream",
     "text": [
      "0.8050758957862854\n"
     ]
    }
   ],
   "source": [
    "print(np.mean(cvscores))"
   ]
  },
  {
   "cell_type": "markdown",
   "metadata": {
    "colab_type": "text",
    "id": "3WjYeyD0qEpF"
   },
   "source": [
    "### Classifier Chain"
   ]
  },
  {
   "cell_type": "code",
   "execution_count": null,
   "metadata": {
    "colab": {},
    "colab_type": "code",
    "id": "lqktqkU2irny"
   },
   "outputs": [],
   "source": [
    "def CC_problem(train, lbl_train, test, lbl_test, save_model = False):\n",
    "    clf = ClassifierChain(\n",
    "        classifier = SGDClassifier(n_jobs=-1, class_weight='balanced', random_state=123),\n",
    "        require_dense = [False, True])\n",
    "    \n",
    "    clf.fit(train, lbl_train)\n",
    "\n",
    "    if save_model:\n",
    "        with open('/content/drive/My Drive/Colab Notebooks/whatsout/model_svm.pk', 'wb') as file:\n",
    "            pickle.dump(clf, file)\n",
    "    \n",
    "    return f1_score(lbl_train, clf.predict(train), average='micro'), f1_score(lbl_test, clf.predict(test), average='micro')"
   ]
  },
  {
   "cell_type": "code",
   "execution_count": null,
   "metadata": {
    "colab": {
     "base_uri": "https://localhost:8080/",
     "height": 34
    },
    "colab_type": "code",
    "id": "zaLTz-ldirn0",
    "outputId": "0d441559-96bc-4408-8a6d-c1b856d6441a"
   },
   "outputs": [
    {
     "name": "stdout",
     "output_type": "stream",
     "text": [
      "(0.8866060328469542, 0.8112033195020747)\n"
     ]
    }
   ],
   "source": [
    "print(CC_problem(X_train, y_train, X_test, y_test, True))"
   ]
  },
  {
   "cell_type": "code",
   "execution_count": null,
   "metadata": {
    "colab": {},
    "colab_type": "code",
    "id": "K1eh05IQirn2"
   },
   "outputs": [],
   "source": [
    "def multilabel_random_oversample(X, y):\n",
    "    lp = LabelPowerset()\n",
    "    ros = RandomOverSampler(random_state=42)\n",
    "\n",
    "    yt = lp.transform(y)\n",
    "\n",
    "    X_resampled, y_resampled = ros.fit_sample(X, yt)\n",
    "\n",
    "    y_resampled = lp.inverse_transform(y_resampled)\n",
    "    \n",
    "    return X_resampled, y_resampled"
   ]
  },
  {
   "cell_type": "code",
   "execution_count": null,
   "metadata": {
    "colab": {
     "base_uri": "https://localhost:8080/",
     "height": 71
    },
    "colab_type": "code",
    "id": "RZr2DE_5irn4",
    "outputId": "ca5b66a8-0207-4572-e3e3-89f98610657e"
   },
   "outputs": [
    {
     "name": "stderr",
     "output_type": "stream",
     "text": [
      "/usr/local/lib/python3.6/dist-packages/sklearn/utils/deprecation.py:87: FutureWarning: Function safe_indexing is deprecated; safe_indexing is deprecated in version 0.22 and will be removed in version 0.24.\n",
      "  warnings.warn(msg, category=FutureWarning)\n"
     ]
    }
   ],
   "source": [
    "X_resampled, y_resampled = multilabel_random_oversample(X_train, y_train)"
   ]
  },
  {
   "cell_type": "code",
   "execution_count": null,
   "metadata": {
    "colab": {
     "base_uri": "https://localhost:8080/",
     "height": 34
    },
    "colab_type": "code",
    "id": "m0Elotwlirn6",
    "outputId": "4454ded1-4c1a-47b0-be94-a67a971564c5"
   },
   "outputs": [
    {
     "name": "stdout",
     "output_type": "stream",
     "text": [
      "(0.9977242357027057, 0.8786145535430568)\n"
     ]
    }
   ],
   "source": [
    "print(CC_problem(X_resampled, y_resampled, X_test, y_test))"
   ]
  },
  {
   "cell_type": "code",
   "execution_count": null,
   "metadata": {
    "colab": {
     "base_uri": "https://localhost:8080/",
     "height": 530
    },
    "colab_type": "code",
    "id": "_9FbzXgrw9bL",
    "outputId": "ba228a30-5603-4a14-d136-3434b06f103d"
   },
   "outputs": [
    {
     "name": "stdout",
     "output_type": "stream",
     "text": [
      "              precision    recall  f1-score   support\n",
      "\n",
      "           0       0.76      0.69      0.73       491\n",
      "           1       1.00      0.42      0.59        55\n",
      "           2       0.00      0.00      0.00         7\n",
      "           3       0.00      0.00      0.00        21\n",
      "           4       0.98      0.74      0.84       111\n",
      "           5       0.97      0.90      0.93      1626\n",
      "           6       0.00      0.00      0.00         0\n",
      "           7       1.00      0.29      0.44        14\n",
      "           8       1.00      0.08      0.15        12\n",
      "           9       0.85      0.69      0.76        68\n",
      "          10       0.89      0.96      0.92       160\n",
      "          11       0.00      0.00      0.00         4\n",
      "          12       1.00      0.13      0.24        15\n",
      "          13       1.00      0.33      0.50        15\n",
      "          14       0.66      0.90      0.76       441\n",
      "\n",
      "   micro avg       0.87      0.83      0.85      3040\n",
      "   macro avg       0.67      0.41      0.46      3040\n",
      "weighted avg       0.88      0.83      0.84      3040\n",
      " samples avg       0.85      0.84      0.84      3040\n",
      "\n"
     ]
    },
    {
     "name": "stderr",
     "output_type": "stream",
     "text": [
      "/usr/local/lib/python3.6/dist-packages/sklearn/metrics/_classification.py:1272: UndefinedMetricWarning: Precision and F-score are ill-defined and being set to 0.0 in labels with no predicted samples. Use `zero_division` parameter to control this behavior.\n",
      "  _warn_prf(average, modifier, msg_start, len(result))\n",
      "/usr/local/lib/python3.6/dist-packages/sklearn/metrics/_classification.py:1272: UndefinedMetricWarning: Recall and F-score are ill-defined and being set to 0.0 in labels with no true samples. Use `zero_division` parameter to control this behavior.\n",
      "  _warn_prf(average, modifier, msg_start, len(result))\n",
      "/usr/local/lib/python3.6/dist-packages/sklearn/metrics/_classification.py:1272: UndefinedMetricWarning: Precision and F-score are ill-defined and being set to 0.0 in samples with no predicted labels. Use `zero_division` parameter to control this behavior.\n",
      "  _warn_prf(average, modifier, msg_start, len(result))\n"
     ]
    }
   ],
   "source": [
    "print(classification_report(y_test, clf.predict(X_test)))"
   ]
  },
  {
   "cell_type": "code",
   "execution_count": null,
   "metadata": {
    "colab": {
     "base_uri": "https://localhost:8080/",
     "height": 765
    },
    "colab_type": "code",
    "id": "uYg_khbVxLCL",
    "outputId": "963f090f-ef46-43c9-b9cd-d4347a5ca8aa"
   },
   "outputs": [
    {
     "name": "stdout",
     "output_type": "stream",
     "text": [
      "[[[2091  106]\n",
      "  [ 151  340]]\n",
      "\n",
      " [[2633    0]\n",
      "  [  32   23]]\n",
      "\n",
      " [[2681    0]\n",
      "  [   7    0]]\n",
      "\n",
      " [[2667    0]\n",
      "  [  21    0]]\n",
      "\n",
      " [[2575    2]\n",
      "  [  29   82]]\n",
      "\n",
      " [[1012   50]\n",
      "  [ 165 1461]]\n",
      "\n",
      " [[2688    0]\n",
      "  [   0    0]]\n",
      "\n",
      " [[2674    0]\n",
      "  [  10    4]]\n",
      "\n",
      " [[2676    0]\n",
      "  [  11    1]]\n",
      "\n",
      " [[2612    8]\n",
      "  [  21   47]]\n",
      "\n",
      " [[2510   18]\n",
      "  [   7  153]]\n",
      "\n",
      " [[2684    0]\n",
      "  [   4    0]]\n",
      "\n",
      " [[2673    0]\n",
      "  [  13    2]]\n",
      "\n",
      " [[2673    0]\n",
      "  [  10    5]]\n",
      "\n",
      " [[2047  200]\n",
      "  [  44  397]]]\n"
     ]
    }
   ],
   "source": [
    "print(multilabel_confusion_matrix(y_test, clf.predict(X_test)))"
   ]
  },
  {
   "cell_type": "markdown",
   "metadata": {
    "colab_type": "text",
    "id": "jIKlTamDqHUt"
   },
   "source": [
    "### Full training with CV on every dataset"
   ]
  },
  {
   "cell_type": "code",
   "execution_count": null,
   "metadata": {
    "colab": {},
    "colab_type": "code",
    "id": "x-g0kNGyInUR"
   },
   "outputs": [],
   "source": [
    "# Run everything on every dataset\n",
    "\n",
    "datasets = [X1, X2, X3, X4]\n",
    "knn_test_scores = []\n",
    "rf_test_scores = []\n",
    "nn_test_scores = []\n",
    "cc_test_scores = []\n",
    "\n",
    "def training_func(X, y, i, isOver=False):\n",
    "    # ClassifierChain SVM\n",
    "    print(\"\\nSVM for dataset \", str(i))\n",
    "    folds = MultilabelStratifiedKFold(n_splits=5, random_state=123, shuffle=True)\n",
    "\n",
    "    cc_test_score, knn_score = [], []\n",
    "    for j, (train, val) in enumerate(folds.split(X, y)):\n",
    "        cc = ClassifierChain(\n",
    "            classifier = SGDClassifier(n_jobs=-1, class_weight='balanced', random_state=123),\n",
    "            require_dense = [False, True])\n",
    "        \n",
    "        cc.fit(X[train], y[train])\n",
    "        cc_test_score.append(f1_score(y[val], cc.predict(X[val]), average='micro'))\n",
    "\n",
    "    cc_test_scores.append(np.mean(cc_test_score))\n",
    "\n",
    "    # KNN\n",
    "    print(\"\\nKNN for dataset \", str(i))\n",
    "    knn_score = cross_val_score(KNeighborsClassifier(n_jobs=-1), X, y, n_jobs=-1, scoring='f1_micro')\n",
    "    knn_test_scores.append(np.mean(knn_score))\n",
    "\n",
    "    # Random Forest\n",
    "    print(\"\\nRandom forest for dataset \", str(i))\n",
    "    score = cross_val_score(RandomForestClassifier(n_jobs=-1, random_state=123), X, y, n_jobs=-1, scoring='f1_micro')\n",
    "    rf_test_scores.append(np.mean(score))\n",
    "\n",
    "    # Neural Network\n",
    "    print(\"\\nNN for dataset \", str(i))\n",
    "    cvscores_test = []\n",
    "    for i, (train, val) in enumerate(folds.split(X, y)):\n",
    "        print('\\nFold',str(i),'\\n')\n",
    "        model = get_model(data.shape[1])\n",
    "        history = model.fit(x=batch_generator(X[train], y[train], batch_size),\n",
    "                            epochs=20,\n",
    "                            callbacks=[es],\n",
    "                            steps_per_epoch=np.ceil(X[train].shape[0]/batch_size),\n",
    "                            verbose=0,\n",
    "                            use_multiprocessing=False)\n",
    "    \n",
    "        scores = model.evaluate(x=batch_generator(X[val], y[val], batch_size), verbose=0,\n",
    "                                steps=np.ceil(X[val].shape[0]/batch_size),\n",
    "                                use_multiprocessing=False)\n",
    "        cvscores_test.append(scores[1])\n",
    "    \n",
    "    nn_test_scores.append(np.mean(cvscores_test))"
   ]
  },
  {
   "cell_type": "code",
   "execution_count": null,
   "metadata": {
    "colab": {
     "base_uri": "https://localhost:8080/",
     "height": 1000
    },
    "colab_type": "code",
    "id": "xJMZtUv6KNLs",
    "outputId": "83c20432-dbdf-4ad4-b1b0-9135a6461165"
   },
   "outputs": [
    {
     "name": "stdout",
     "output_type": "stream",
     "text": [
      "\n",
      "Dataset:  0\n",
      "\n",
      "SVM for dataset  0\n",
      "\n",
      "KNN for dataset  0\n",
      "\n",
      "Random forest for dataset  0\n",
      "\n",
      "NN for dataset  0\n",
      "\n",
      "Fold 0 \n",
      "\n",
      "Epoch 00009: early stopping\n",
      "\n",
      "Fold 1 \n",
      "\n",
      "Epoch 00007: early stopping\n",
      "\n",
      "Fold 2 \n",
      "\n",
      "Epoch 00012: early stopping\n",
      "\n",
      "Fold 3 \n",
      "\n",
      "Epoch 00008: early stopping\n",
      "\n",
      "Fold 4 \n",
      "\n",
      "Epoch 00011: early stopping\n"
     ]
    },
    {
     "name": "stderr",
     "output_type": "stream",
     "text": [
      "/usr/local/lib/python3.6/dist-packages/sklearn/utils/deprecation.py:87: FutureWarning: Function safe_indexing is deprecated; safe_indexing is deprecated in version 0.22 and will be removed in version 0.24.\n",
      "  warnings.warn(msg, category=FutureWarning)\n"
     ]
    },
    {
     "name": "stdout",
     "output_type": "stream",
     "text": [
      "\n",
      "Dataset:  1\n",
      "\n",
      "SVM for dataset  1\n",
      "\n",
      "KNN for dataset  1\n"
     ]
    },
    {
     "name": "stderr",
     "output_type": "stream",
     "text": [
      "/usr/local/lib/python3.6/dist-packages/joblib/externals/loky/process_executor.py:706: UserWarning: A worker stopped while some jobs were given to the executor. This can be caused by a too short worker timeout or by a memory leak.\n",
      "  \"timeout or by a memory leak.\", UserWarning\n"
     ]
    },
    {
     "name": "stdout",
     "output_type": "stream",
     "text": [
      "\n",
      "Random forest for dataset  1\n",
      "\n",
      "NN for dataset  1\n",
      "\n",
      "Fold 0 \n",
      "\n",
      "Epoch 00012: early stopping\n",
      "\n",
      "Fold 1 \n",
      "\n",
      "Epoch 00009: early stopping\n",
      "\n",
      "Fold 2 \n",
      "\n",
      "Epoch 00010: early stopping\n",
      "\n",
      "Fold 3 \n",
      "\n",
      "Epoch 00011: early stopping\n",
      "\n",
      "Fold 4 \n",
      "\n",
      "Epoch 00009: early stopping\n"
     ]
    },
    {
     "name": "stderr",
     "output_type": "stream",
     "text": [
      "/usr/local/lib/python3.6/dist-packages/sklearn/utils/deprecation.py:87: FutureWarning: Function safe_indexing is deprecated; safe_indexing is deprecated in version 0.22 and will be removed in version 0.24.\n",
      "  warnings.warn(msg, category=FutureWarning)\n"
     ]
    },
    {
     "name": "stdout",
     "output_type": "stream",
     "text": [
      "\n",
      "Dataset:  2\n",
      "\n",
      "SVM for dataset  2\n",
      "\n",
      "KNN for dataset  2\n",
      "\n",
      "Random forest for dataset  2\n",
      "\n",
      "NN for dataset  2\n",
      "\n",
      "Fold 0 \n",
      "\n",
      "Epoch 00012: early stopping\n",
      "\n",
      "Fold 1 \n",
      "\n",
      "Epoch 00013: early stopping\n",
      "\n",
      "Fold 2 \n",
      "\n",
      "Epoch 00013: early stopping\n",
      "\n",
      "Fold 3 \n",
      "\n",
      "Epoch 00015: early stopping\n",
      "\n",
      "Fold 4 \n",
      "\n",
      "Epoch 00013: early stopping\n"
     ]
    },
    {
     "name": "stderr",
     "output_type": "stream",
     "text": [
      "/usr/local/lib/python3.6/dist-packages/sklearn/utils/deprecation.py:87: FutureWarning: Function safe_indexing is deprecated; safe_indexing is deprecated in version 0.22 and will be removed in version 0.24.\n",
      "  warnings.warn(msg, category=FutureWarning)\n"
     ]
    },
    {
     "name": "stdout",
     "output_type": "stream",
     "text": [
      "\n",
      "Dataset:  3\n",
      "\n",
      "SVM for dataset  3\n",
      "\n",
      "KNN for dataset  3\n"
     ]
    },
    {
     "name": "stderr",
     "output_type": "stream",
     "text": [
      "/usr/local/lib/python3.6/dist-packages/joblib/externals/loky/process_executor.py:706: UserWarning: A worker stopped while some jobs were given to the executor. This can be caused by a too short worker timeout or by a memory leak.\n",
      "  \"timeout or by a memory leak.\", UserWarning\n"
     ]
    },
    {
     "name": "stdout",
     "output_type": "stream",
     "text": [
      "\n",
      "Random forest for dataset  3\n",
      "\n",
      "NN for dataset  3\n",
      "\n",
      "Fold 0 \n",
      "\n",
      "Epoch 00014: early stopping\n",
      "\n",
      "Fold 1 \n",
      "\n",
      "Epoch 00012: early stopping\n",
      "\n",
      "Fold 2 \n",
      "\n",
      "Epoch 00011: early stopping\n",
      "\n",
      "Fold 3 \n",
      "\n",
      "Epoch 00012: early stopping\n",
      "\n",
      "Fold 4 \n",
      "\n",
      "Epoch 00012: early stopping\n"
     ]
    },
    {
     "name": "stderr",
     "output_type": "stream",
     "text": [
      "/usr/local/lib/python3.6/dist-packages/sklearn/utils/deprecation.py:87: FutureWarning: Function safe_indexing is deprecated; safe_indexing is deprecated in version 0.22 and will be removed in version 0.24.\n",
      "  warnings.warn(msg, category=FutureWarning)\n"
     ]
    }
   ],
   "source": [
    "# TRAINING\n",
    "for i, data in enumerate(datasets):\n",
    "    print(\"\\nDataset: \", str(i))\n",
    "\n",
    "    # Train\n",
    "    training_func(data, y, i)"
   ]
  },
  {
   "cell_type": "markdown",
   "metadata": {
    "colab_type": "text",
    "id": "DsFOHDg8gyff"
   },
   "source": [
    "### Matrix Regression (MR)"
   ]
  },
  {
   "cell_type": "markdown",
   "metadata": {
    "colab_type": "text",
    "id": "QMnwoKMn5L9q"
   },
   "source": [
    "Reference paper: https://www.researchgate.net/publication/4257876_Text_Categorization_for_Multi-label_Documents_and_Many_Categories"
   ]
  },
  {
   "cell_type": "code",
   "execution_count": 2,
   "metadata": {
    "execution": {
     "iopub.execute_input": "2020-04-29T23:03:23.924208Z",
     "iopub.status.busy": "2020-04-29T23:03:23.924002Z",
     "iopub.status.idle": "2020-04-29T23:03:23.982407Z",
     "shell.execute_reply": "2020-04-29T23:03:23.981444Z",
     "shell.execute_reply.started": "2020-04-29T23:03:23.924173Z"
    }
   },
   "outputs": [],
   "source": [
    "# Load everything back.\n",
    "with open('df_merged.pk', 'rb') as file:\n",
    "    df_merged = pickle.load(file)\n",
    "    \n",
    "with open('y.pk', 'rb') as file:\n",
    "    y = pickle.load(file)\n",
    "    \n",
    "with open('labels_list.pk', 'rb') as file:\n",
    "    labels_list = pickle.load(file)"
   ]
  },
  {
   "cell_type": "code",
   "execution_count": 3,
   "metadata": {
    "colab": {},
    "colab_type": "code",
    "execution": {
     "iopub.execute_input": "2020-04-29T23:03:24.324544Z",
     "iopub.status.busy": "2020-04-29T23:03:24.324202Z",
     "iopub.status.idle": "2020-04-29T23:03:24.330288Z",
     "shell.execute_reply": "2020-04-29T23:03:24.329368Z",
     "shell.execute_reply.started": "2020-04-29T23:03:24.324515Z"
    },
    "id": "9m7HNQJKsHbU"
   },
   "outputs": [],
   "source": [
    "X_train, X_test, y_train, y_test = train_test_split(df_merged['full_cleaned'].values, y, test_size = 0.3)"
   ]
  },
  {
   "cell_type": "code",
   "execution_count": 5,
   "metadata": {
    "execution": {
     "iopub.execute_input": "2020-05-02T10:18:03.426374Z",
     "iopub.status.busy": "2020-05-02T10:18:03.426079Z",
     "iopub.status.idle": "2020-05-02T10:18:04.014187Z",
     "shell.execute_reply": "2020-05-02T10:18:04.013621Z",
     "shell.execute_reply.started": "2020-05-02T10:18:03.426340Z"
    }
   },
   "outputs": [],
   "source": [
    "from matrix_regression.matrixregression import MatrixRegression"
   ]
  },
  {
   "cell_type": "code",
   "execution_count": 5,
   "metadata": {
    "colab": {},
    "colab_type": "code",
    "execution": {
     "iopub.execute_input": "2020-04-29T23:03:25.038751Z",
     "iopub.status.busy": "2020-04-29T23:03:25.038544Z",
     "iopub.status.idle": "2020-04-29T23:03:25.041951Z",
     "shell.execute_reply": "2020-04-29T23:03:25.041283Z",
     "shell.execute_reply.started": "2020-04-29T23:03:25.038717Z"
    },
    "id": "16TTJQuK6p1i"
   },
   "outputs": [],
   "source": [
    "mr = MatrixRegression()"
   ]
  },
  {
   "cell_type": "code",
   "execution_count": 6,
   "metadata": {
    "execution": {
     "iopub.execute_input": "2020-04-29T23:03:25.456700Z",
     "iopub.status.busy": "2020-04-29T23:03:25.456496Z",
     "iopub.status.idle": "2020-04-29T23:03:36.165002Z",
     "shell.execute_reply": "2020-04-29T23:03:36.164349Z",
     "shell.execute_reply.started": "2020-04-29T23:03:25.456664Z"
    }
   },
   "outputs": [
    {
     "data": {
      "text/plain": [
       "MatrixRegression(n_jobs=1, threshold=None)"
      ]
     },
     "execution_count": 6,
     "metadata": {},
     "output_type": "execute_result"
    }
   ],
   "source": [
    "mr.fit(X_train, y_train)"
   ]
  },
  {
   "cell_type": "code",
   "execution_count": 7,
   "metadata": {
    "execution": {
     "iopub.execute_input": "2020-04-27T15:37:26.898342Z",
     "iopub.status.busy": "2020-04-27T15:37:26.898187Z",
     "iopub.status.idle": "2020-04-27T15:38:05.929029Z",
     "shell.execute_reply": "2020-04-27T15:38:05.928436Z",
     "shell.execute_reply.started": "2020-04-27T15:37:26.898321Z"
    }
   },
   "outputs": [],
   "source": [
    "y_hat_train_mr = mr.predict(X_train)"
   ]
  },
  {
   "cell_type": "code",
   "execution_count": 8,
   "metadata": {
    "colab": {},
    "colab_type": "code",
    "execution": {
     "iopub.execute_input": "2020-04-27T15:38:05.930738Z",
     "iopub.status.busy": "2020-04-27T15:38:05.930462Z",
     "iopub.status.idle": "2020-04-27T15:38:24.281078Z",
     "shell.execute_reply": "2020-04-27T15:38:24.280463Z",
     "shell.execute_reply.started": "2020-04-27T15:38:05.930702Z"
    },
    "id": "WRd5hMCY6rpO"
   },
   "outputs": [],
   "source": [
    "y_hat_test_mr = mr.predict(X_test)"
   ]
  },
  {
   "cell_type": "code",
   "execution_count": 9,
   "metadata": {
    "execution": {
     "iopub.execute_input": "2020-04-27T15:38:24.282396Z",
     "iopub.status.busy": "2020-04-27T15:38:24.282167Z",
     "iopub.status.idle": "2020-04-27T15:38:24.325491Z",
     "shell.execute_reply": "2020-04-27T15:38:24.324757Z",
     "shell.execute_reply.started": "2020-04-27T15:38:24.282364Z"
    }
   },
   "outputs": [
    {
     "data": {
      "text/plain": [
       "(0.14022085368443407, 0.133382862803368)"
      ]
     },
     "execution_count": 9,
     "metadata": {},
     "output_type": "execute_result"
    }
   ],
   "source": [
    "precision_score(y_train, y_hat_train_mr, average='micro'), precision_score(y_test, y_hat_test_mr, average='micro')"
   ]
  },
  {
   "cell_type": "code",
   "execution_count": 10,
   "metadata": {
    "execution": {
     "iopub.execute_input": "2020-04-27T15:38:24.327245Z",
     "iopub.status.busy": "2020-04-27T15:38:24.326918Z",
     "iopub.status.idle": "2020-04-27T15:38:24.363229Z",
     "shell.execute_reply": "2020-04-27T15:38:24.362577Z",
     "shell.execute_reply.started": "2020-04-27T15:38:24.327199Z"
    }
   },
   "outputs": [
    {
     "data": {
      "text/plain": [
       "(0.9294763513513513, 0.8878997692054071)"
      ]
     },
     "execution_count": 10,
     "metadata": {},
     "output_type": "execute_result"
    }
   ],
   "source": [
    "recall_score(y_train, y_hat_train_mr, average='micro'), recall_score(y_test, y_hat_test_mr, average='micro')"
   ]
  },
  {
   "cell_type": "code",
   "execution_count": 11,
   "metadata": {
    "colab": {},
    "colab_type": "code",
    "execution": {
     "iopub.execute_input": "2020-04-27T15:38:24.364632Z",
     "iopub.status.busy": "2020-04-27T15:38:24.364286Z",
     "iopub.status.idle": "2020-04-27T15:38:24.407807Z",
     "shell.execute_reply": "2020-04-27T15:38:24.406634Z",
     "shell.execute_reply.started": "2020-04-27T15:38:24.364587Z"
    },
    "id": "ww2MCcMm6v_z"
   },
   "outputs": [
    {
     "data": {
      "text/plain": [
       "(0.2436801121895413, 0.23192524652284374)"
      ]
     },
     "execution_count": 11,
     "metadata": {},
     "output_type": "execute_result"
    }
   ],
   "source": [
    "f1_score(y_train, y_hat_train_mr, average='micro'), f1_score(y_test, y_hat_test_mr, average='micro')"
   ]
  },
  {
   "cell_type": "code",
   "execution_count": 12,
   "metadata": {
    "execution": {
     "iopub.execute_input": "2020-04-27T15:38:24.409775Z",
     "iopub.status.busy": "2020-04-27T15:38:24.409435Z",
     "iopub.status.idle": "2020-04-27T15:38:24.442870Z",
     "shell.execute_reply": "2020-04-27T15:38:24.442251Z",
     "shell.execute_reply.started": "2020-04-27T15:38:24.409729Z"
    }
   },
   "outputs": [
    {
     "name": "stdout",
     "output_type": "stream",
     "text": [
      "              precision    recall  f1-score   support\n",
      "\n",
      "           0       0.23      0.89      0.37       493\n",
      "           1       0.06      0.78      0.11        60\n",
      "           2       0.00      0.71      0.01         7\n",
      "           3       0.01      0.70      0.01        20\n",
      "           4       0.16      0.98      0.28       103\n",
      "           5       0.85      0.95      0.90      1615\n",
      "           6       0.00      0.00      0.00         0\n",
      "           7       0.04      0.83      0.08        12\n",
      "           8       0.00      0.58      0.01        12\n",
      "           9       0.03      0.78      0.05        64\n",
      "          10       0.57      0.87      0.69       171\n",
      "          11       0.00      0.00      0.00         0\n",
      "          12       0.01      1.00      0.02        17\n",
      "          13       0.04      0.75      0.07        16\n",
      "          14       0.13      0.70      0.22       443\n",
      "\n",
      "   micro avg       0.13      0.89      0.23      3033\n",
      "   macro avg       0.14      0.70      0.19      3033\n",
      "weighted avg       0.55      0.89      0.62      3033\n",
      " samples avg       0.18      0.89      0.27      3033\n",
      "\n"
     ]
    },
    {
     "name": "stderr",
     "output_type": "stream",
     "text": [
      "/home/nick/anaconda3/lib/python3.7/site-packages/sklearn/metrics/_classification.py:1272: UndefinedMetricWarning: Recall and F-score are ill-defined and being set to 0.0 in labels with no true samples. Use `zero_division` parameter to control this behavior.\n",
      "  _warn_prf(average, modifier, msg_start, len(result))\n",
      "/home/nick/anaconda3/lib/python3.7/site-packages/sklearn/metrics/_classification.py:1272: UndefinedMetricWarning: Precision and F-score are ill-defined and being set to 0.0 in samples with no predicted labels. Use `zero_division` parameter to control this behavior.\n",
      "  _warn_prf(average, modifier, msg_start, len(result))\n"
     ]
    }
   ],
   "source": [
    "print(classification_report(y_test, y_hat_test_mr))"
   ]
  },
  {
   "cell_type": "code",
   "execution_count": 13,
   "metadata": {
    "execution": {
     "iopub.execute_input": "2020-04-27T15:38:24.444380Z",
     "iopub.status.busy": "2020-04-27T15:38:24.444154Z",
     "iopub.status.idle": "2020-04-27T15:38:24.453685Z",
     "shell.execute_reply": "2020-04-27T15:38:24.452986Z",
     "shell.execute_reply.started": "2020-04-27T15:38:24.444354Z"
    }
   },
   "outputs": [
    {
     "name": "stdout",
     "output_type": "stream",
     "text": [
      "[[[ 768 1431]\n",
      "  [  54  439]]\n",
      "\n",
      " [[1868  764]\n",
      "  [  13   47]]\n",
      "\n",
      " [[1014 1671]\n",
      "  [   2    5]]\n",
      "\n",
      " [[ 715 1957]\n",
      "  [   6   14]]\n",
      "\n",
      " [[2061  528]\n",
      "  [   2  101]]\n",
      "\n",
      " [[ 799  278]\n",
      "  [  81 1534]]\n",
      "\n",
      " [[1242 1450]\n",
      "  [   0    0]]\n",
      "\n",
      " [[2440  240]\n",
      "  [   2   10]]\n",
      "\n",
      " [[ 885 1795]\n",
      "  [   5    7]]\n",
      "\n",
      " [[ 884 1744]\n",
      "  [  14   50]]\n",
      "\n",
      " [[2409  112]\n",
      "  [  23  148]]\n",
      "\n",
      " [[ 914 1778]\n",
      "  [   0    0]]\n",
      "\n",
      " [[1223 1452]\n",
      "  [   0   17]]\n",
      "\n",
      " [[2376  300]\n",
      "  [   4   12]]\n",
      "\n",
      " [[ 252 1997]\n",
      "  [ 134  309]]]\n"
     ]
    }
   ],
   "source": [
    "print(multilabel_confusion_matrix(y_test, y_hat_test_mr))"
   ]
  },
  {
   "cell_type": "code",
   "execution_count": 14,
   "metadata": {
    "execution": {
     "iopub.execute_input": "2020-04-27T14:40:12.970971Z",
     "iopub.status.busy": "2020-04-27T14:40:12.970719Z",
     "iopub.status.idle": "2020-04-27T14:44:15.219272Z",
     "shell.execute_reply": "2020-04-27T14:44:15.218430Z",
     "shell.execute_reply.started": "2020-04-27T14:40:12.970942Z"
    }
   },
   "outputs": [
    {
     "name": "stdout",
     "output_type": "stream",
     "text": [
      "Fitting 5 folds for each of 5 candidates, totalling 25 fits\n"
     ]
    },
    {
     "name": "stderr",
     "output_type": "stream",
     "text": [
      "[Parallel(n_jobs=-1)]: Using backend LokyBackend with 8 concurrent workers.\n",
      "[Parallel(n_jobs=-1)]: Done   2 tasks      | elapsed:  1.2min\n",
      "[Parallel(n_jobs=-1)]: Done   9 tasks      | elapsed:  2.4min\n",
      "[Parallel(n_jobs=-1)]: Done  13 out of  25 | elapsed:  2.5min remaining:  2.3min\n",
      "[Parallel(n_jobs=-1)]: Done  16 out of  25 | elapsed:  2.5min remaining:  1.4min\n",
      "[Parallel(n_jobs=-1)]: Done  19 out of  25 | elapsed:  3.6min remaining:  1.1min\n",
      "[Parallel(n_jobs=-1)]: Done  22 out of  25 | elapsed:  3.6min remaining:   29.8s\n",
      "[Parallel(n_jobs=-1)]: Done  25 out of  25 | elapsed:  3.8min remaining:    0.0s\n",
      "[Parallel(n_jobs=-1)]: Done  25 out of  25 | elapsed:  3.8min finished\n"
     ]
    },
    {
     "data": {
      "text/plain": [
       "({'threshold': 0.75}, 0.44857382045910865)"
      ]
     },
     "execution_count": 14,
     "metadata": {},
     "output_type": "execute_result"
    }
   ],
   "source": [
    "param_grid = [{\"threshold\": [0.7, 0.75, 0.8, 0.85, 0.9]}]\n",
    "\n",
    "mr = MatrixRegression()\n",
    "clf = GridSearchCV(mr, param_grid, cv = 5, verbose=10, n_jobs=-1, scoring='f1_micro')\n",
    "\n",
    "clf.fit(X_train, y_train)\n",
    "\n",
    "clf.best_params_, clf.best_score_"
   ]
  },
  {
   "cell_type": "code",
   "execution_count": 15,
   "metadata": {
    "execution": {
     "iopub.execute_input": "2020-04-27T14:44:15.221658Z",
     "iopub.status.busy": "2020-04-27T14:44:15.221433Z",
     "iopub.status.idle": "2020-04-27T14:44:33.939057Z",
     "shell.execute_reply": "2020-04-27T14:44:33.938413Z",
     "shell.execute_reply.started": "2020-04-27T14:44:15.221631Z"
    }
   },
   "outputs": [
    {
     "data": {
      "text/plain": [
       "0.44964616222101245"
      ]
     },
     "execution_count": 15,
     "metadata": {},
     "output_type": "execute_result"
    }
   ],
   "source": [
    "f1_score(y_test, clf.predict(X_test), average='micro')"
   ]
  },
  {
   "cell_type": "markdown",
   "metadata": {},
   "source": [
    "Let's test partial fit now. Some random new text with a word that is not present in the corpus (i.e.: bungie).\n",
    "`y` will contain one new category, that is we'll go to 16 labels"
   ]
  },
  {
   "cell_type": "code",
   "execution_count": 7,
   "metadata": {
    "execution": {
     "iopub.execute_input": "2020-04-29T23:03:38.117690Z",
     "iopub.status.busy": "2020-04-29T23:03:38.117432Z",
     "iopub.status.idle": "2020-04-29T23:03:38.121940Z",
     "shell.execute_reply": "2020-04-29T23:03:38.121170Z",
     "shell.execute_reply.started": "2020-04-29T23:03:38.117658Z"
    }
   },
   "outputs": [],
   "source": [
    "new_X = np.array([\"Ciao questo prova nuovo testo\", \"prova testo numero\", \"bungie testo parola sicuro niente\"])\n",
    "new_y = np.zeros((3,16), dtype=int)"
   ]
  },
  {
   "cell_type": "code",
   "execution_count": 8,
   "metadata": {
    "execution": {
     "iopub.execute_input": "2020-04-29T23:03:39.756309Z",
     "iopub.status.busy": "2020-04-29T23:03:39.756074Z",
     "iopub.status.idle": "2020-04-29T23:03:39.760146Z",
     "shell.execute_reply": "2020-04-29T23:03:39.759241Z",
     "shell.execute_reply.started": "2020-04-29T23:03:39.756285Z"
    }
   },
   "outputs": [],
   "source": [
    "new_y[0,[2,5]] = 1\n",
    "new_y[1,[3,9,15]] = 1\n",
    "new_y[2,1] = 1"
   ]
  },
  {
   "cell_type": "code",
   "execution_count": 9,
   "metadata": {
    "execution": {
     "iopub.execute_input": "2020-04-29T23:03:40.789852Z",
     "iopub.status.busy": "2020-04-29T23:03:40.789679Z",
     "iopub.status.idle": "2020-04-29T23:03:40.794347Z",
     "shell.execute_reply": "2020-04-29T23:03:40.793587Z",
     "shell.execute_reply.started": "2020-04-29T23:03:40.789833Z"
    }
   },
   "outputs": [
    {
     "data": {
      "text/plain": [
       "array([[0, 0, 1, 0, 0, 1, 0, 0, 0, 0, 0, 0, 0, 0, 0, 0],\n",
       "       [0, 0, 0, 1, 0, 0, 0, 0, 0, 1, 0, 0, 0, 0, 0, 1],\n",
       "       [0, 1, 0, 0, 0, 0, 0, 0, 0, 0, 0, 0, 0, 0, 0, 0]])"
      ]
     },
     "execution_count": 9,
     "metadata": {},
     "output_type": "execute_result"
    }
   ],
   "source": [
    "new_y"
   ]
  },
  {
   "cell_type": "code",
   "execution_count": 10,
   "metadata": {
    "execution": {
     "iopub.execute_input": "2020-04-29T23:03:42.018063Z",
     "iopub.status.busy": "2020-04-29T23:03:42.017855Z",
     "iopub.status.idle": "2020-04-29T23:03:42.023843Z",
     "shell.execute_reply": "2020-04-29T23:03:42.023198Z",
     "shell.execute_reply.started": "2020-04-29T23:03:42.018028Z"
    }
   },
   "outputs": [
    {
     "data": {
      "text/plain": [
       "False"
      ]
     },
     "execution_count": 10,
     "metadata": {},
     "output_type": "execute_result"
    }
   ],
   "source": [
    "\"bungie\" in mr.terms"
   ]
  },
  {
   "cell_type": "code",
   "execution_count": 11,
   "metadata": {
    "execution": {
     "iopub.execute_input": "2020-04-29T23:03:43.410943Z",
     "iopub.status.busy": "2020-04-29T23:03:43.410691Z",
     "iopub.status.idle": "2020-04-29T23:03:43.416113Z",
     "shell.execute_reply": "2020-04-29T23:03:43.415327Z",
     "shell.execute_reply.started": "2020-04-29T23:03:43.410910Z"
    }
   },
   "outputs": [
    {
     "data": {
      "text/plain": [
       "(29949, 15)"
      ]
     },
     "execution_count": 11,
     "metadata": {},
     "output_type": "execute_result"
    }
   ],
   "source": [
    "mr.W.shape"
   ]
  },
  {
   "cell_type": "code",
   "execution_count": 12,
   "metadata": {
    "execution": {
     "iopub.execute_input": "2020-04-29T23:03:44.342630Z",
     "iopub.status.busy": "2020-04-29T23:03:44.342376Z",
     "iopub.status.idle": "2020-04-29T23:03:44.396377Z",
     "shell.execute_reply": "2020-04-29T23:03:44.395694Z",
     "shell.execute_reply.started": "2020-04-29T23:03:44.342598Z"
    }
   },
   "outputs": [
    {
     "data": {
      "text/plain": [
       "MatrixRegression(n_jobs=1, threshold=None)"
      ]
     },
     "execution_count": 12,
     "metadata": {},
     "output_type": "execute_result"
    }
   ],
   "source": [
    "mr.partial_fit(new_X, new_y)"
   ]
  },
  {
   "cell_type": "code",
   "execution_count": 13,
   "metadata": {
    "execution": {
     "iopub.execute_input": "2020-04-29T23:03:46.113666Z",
     "iopub.status.busy": "2020-04-29T23:03:46.113187Z",
     "iopub.status.idle": "2020-04-29T23:03:46.118077Z",
     "shell.execute_reply": "2020-04-29T23:03:46.117533Z",
     "shell.execute_reply.started": "2020-04-29T23:03:46.113640Z"
    }
   },
   "outputs": [
    {
     "data": {
      "text/plain": [
       "(29951, 16)"
      ]
     },
     "execution_count": 13,
     "metadata": {},
     "output_type": "execute_result"
    }
   ],
   "source": [
    "mr.W.shape"
   ]
  },
  {
   "cell_type": "markdown",
   "metadata": {},
   "source": [
    "The shape has changed. New terms and the new category we added."
   ]
  },
  {
   "cell_type": "code",
   "execution_count": 14,
   "metadata": {
    "execution": {
     "iopub.execute_input": "2020-04-29T23:03:50.754771Z",
     "iopub.status.busy": "2020-04-29T23:03:50.754551Z",
     "iopub.status.idle": "2020-04-29T23:03:50.760019Z",
     "shell.execute_reply": "2020-04-29T23:03:50.759376Z",
     "shell.execute_reply.started": "2020-04-29T23:03:50.754746Z"
    }
   },
   "outputs": [
    {
     "data": {
      "text/plain": [
       "True"
      ]
     },
     "execution_count": 14,
     "metadata": {},
     "output_type": "execute_result"
    }
   ],
   "source": [
    "\"bungie\" in mr.terms"
   ]
  },
  {
   "cell_type": "code",
   "execution_count": null,
   "metadata": {
    "colab": {},
    "colab_type": "code",
    "id": "uUN9sJei7LR3"
   },
   "outputs": [],
   "source": [
    "def get_size(X):\n",
    "    if isinstance(X, np.ndarray):\n",
    "        return np.round(X.nbytes/1e6, 2)\n",
    "    elif isinstance(X, scipy.sparse.csr.csr_matrix):\n",
    "        return np.round((X.data.nbytes + X.indptr.nbytes + X.indices.nbytes)/1e6, 2)\n",
    "    else:\n",
    "        raise NotImplementedError('We still cannot calculate the size for this type')"
   ]
  },
  {
   "cell_type": "markdown",
   "metadata": {
    "colab_type": "text",
    "id": "5zEBRbR9qMaJ"
   },
   "source": [
    "## Results"
   ]
  },
  {
   "cell_type": "code",
   "execution_count": null,
   "metadata": {
    "colab": {},
    "colab_type": "code",
    "id": "WcVu-pOQduBD"
   },
   "outputs": [],
   "source": [
    "dataset_names = ['BoW (descr + title)', 'BoW (descr + title) + place + user','Tfidf (descr + title)','Tfidf (descr + title) + place + user']"
   ]
  },
  {
   "cell_type": "code",
   "execution_count": null,
   "metadata": {
    "colab": {
     "base_uri": "https://localhost:8080/",
     "height": 207
    },
    "colab_type": "code",
    "id": "SykZKk-QKqs4",
    "outputId": "2e2de96f-34b6-4314-c601-e99b2cf256e1"
   },
   "outputs": [
    {
     "name": "stdout",
     "output_type": "stream",
     "text": [
      "Cross-validated F1 score:\n",
      "\n"
     ]
    },
    {
     "data": {
      "text/html": [
       "<div>\n",
       "<style scoped>\n",
       "    .dataframe tbody tr th:only-of-type {\n",
       "        vertical-align: middle;\n",
       "    }\n",
       "\n",
       "    .dataframe tbody tr th {\n",
       "        vertical-align: top;\n",
       "    }\n",
       "\n",
       "    .dataframe thead th {\n",
       "        text-align: right;\n",
       "    }\n",
       "</style>\n",
       "<table border=\"1\" class=\"dataframe\">\n",
       "  <thead>\n",
       "    <tr style=\"text-align: right;\">\n",
       "      <th></th>\n",
       "      <th>Dataset</th>\n",
       "      <th>KNN</th>\n",
       "      <th>Random Forest</th>\n",
       "      <th>Neural Network</th>\n",
       "      <th>SVM</th>\n",
       "    </tr>\n",
       "  </thead>\n",
       "  <tbody>\n",
       "    <tr>\n",
       "      <th>0</th>\n",
       "      <td>BoW (descr + title)</td>\n",
       "      <td>0.788153</td>\n",
       "      <td>0.823445</td>\n",
       "      <td>0.848590</td>\n",
       "      <td>0.819440</td>\n",
       "    </tr>\n",
       "    <tr>\n",
       "      <th>1</th>\n",
       "      <td>BoW (descr + title) + place + user</td>\n",
       "      <td>0.795606</td>\n",
       "      <td>0.825124</td>\n",
       "      <td>0.840044</td>\n",
       "      <td>0.819511</td>\n",
       "    </tr>\n",
       "    <tr>\n",
       "      <th>2</th>\n",
       "      <td>Tfidf (descr + title)</td>\n",
       "      <td>0.817052</td>\n",
       "      <td>0.831930</td>\n",
       "      <td>0.827103</td>\n",
       "      <td>0.865096</td>\n",
       "    </tr>\n",
       "    <tr>\n",
       "      <th>3</th>\n",
       "      <td>Tfidf (descr + title) + place + user</td>\n",
       "      <td>0.704854</td>\n",
       "      <td>0.758021</td>\n",
       "      <td>0.734499</td>\n",
       "      <td>0.615040</td>\n",
       "    </tr>\n",
       "  </tbody>\n",
       "</table>\n",
       "</div>"
      ],
      "text/plain": [
       "                                Dataset       KNN  ...  Neural Network       SVM\n",
       "0                   BoW (descr + title)  0.788153  ...        0.848590  0.819440\n",
       "1    BoW (descr + title) + place + user  0.795606  ...        0.840044  0.819511\n",
       "2                 Tfidf (descr + title)  0.817052  ...        0.827103  0.865096\n",
       "3  Tfidf (descr + title) + place + user  0.704854  ...        0.734499  0.615040\n",
       "\n",
       "[4 rows x 5 columns]"
      ]
     },
     "execution_count": 46,
     "metadata": {
      "tags": []
     },
     "output_type": "execute_result"
    }
   ],
   "source": [
    "results_test = pd.DataFrame(list(zip(dataset_names, knn_test_scores, rf_test_scores, nn_test_scores, cc_test_scores)),\n",
    "                       columns =['Dataset','KNN', 'Random Forest', 'Neural Network', 'SVM']) \n",
    "\n",
    "print('Cross-validated F1 score:\\n')\n",
    "results_test"
   ]
  },
  {
   "cell_type": "code",
   "execution_count": null,
   "metadata": {
    "colab": {},
    "colab_type": "code",
    "id": "WIHQolLZOmOQ"
   },
   "outputs": [],
   "source": [
    "results_test.to_csv('/content/drive/My Drive/Colab Notebooks/whatsout/results_cv.csv')"
   ]
  }
 ],
 "metadata": {
  "accelerator": "GPU",
  "colab": {
   "collapsed_sections": [],
   "machine_shape": "hm",
   "name": "textsent_project.ipynb",
   "provenance": [],
   "toc_visible": true
  },
  "kernelspec": {
   "display_name": "Python 3",
   "language": "python",
   "name": "python3"
  },
  "language_info": {
   "codemirror_mode": {
    "name": "ipython",
    "version": 3
   },
   "file_extension": ".py",
   "mimetype": "text/x-python",
   "name": "python",
   "nbconvert_exporter": "python",
   "pygments_lexer": "ipython3",
   "version": "3.7.7"
  }
 },
 "nbformat": 4,
 "nbformat_minor": 4
}
